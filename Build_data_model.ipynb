{
 "cells": [
  {
   "cell_type": "code",
   "execution_count": 1,
   "metadata": {},
   "outputs": [],
   "source": [
    "# import libraries\n",
    "import pandas as pd\n",
    "import matplotlib.pyplot as plt\n",
    "import numpy as np\n",
    "\n",
    "import matplotlib.pyplot as plt\n",
    "import seaborn as sns\n",
    "\n",
    "from sklearn.linear_model import LogisticRegression\n",
    "import statsmodels.api as sm\n",
    "\n",
    "from sklearn.model_selection import train_test_split\n",
    "from sklearn.linear_model import LinearRegression\n",
    "from sklearn.preprocessing import PolynomialFeatures\n",
    "from sklearn.pipeline import make_pipeline\n",
    "from sklearn.metrics import mean_squared_error, accuracy_score, classification_report\n",
    "from sklearn.preprocessing import StandardScaler\n",
    "\n",
    "from sklearn.preprocessing import StandardScaler\n",
    "from sklearn.pipeline import make_pipeline\n",
    "sns.set(style=\"whitegrid\")\n",
    "\n",
    "from sklearn.tree import DecisionTreeClassifier\n",
    "from sklearn.ensemble import RandomForestClassifier\n",
    "import warnings\n",
    "warnings.filterwarnings(\"ignore\")"
   ]
  },
  {
   "cell_type": "markdown",
   "metadata": {},
   "source": [
    "# I. Thao tác với đặc trưng"
   ]
  },
  {
   "cell_type": "markdown",
   "metadata": {},
   "source": [
    "## Lựa chọn đặc trưng"
   ]
  },
  {
   "cell_type": "code",
   "execution_count": 2,
   "metadata": {},
   "outputs": [],
   "source": [
    "_2019_df = pd.read_csv('Data/2019_df.csv')"
   ]
  },
  {
   "cell_type": "markdown",
   "metadata": {},
   "source": [
    "Để hỗ trợ cho việc phân tích và xây dựng mô hình, chuẩn hóa các giá trị string của 2 nhóm **sex** và **race/ethnicityage_group** thành int theo chuẩn dưới đây:\n",
    "- **Sex:**\n",
    "  - Overall: 0\n",
    "  - Male: 1\n",
    "  - Female: 2\n",
    "- **Race/Ethnicityage:**\n",
    "  - Overall: 0\n",
    "  - White: 1\n",
    "  - Black: 2\n",
    "  - Hispanic: 3\n",
    "  - Asian and Pacific Islander: 4 \n",
    "  - American Indian and Alaskan Native: 5"
   ]
  },
  {
   "cell_type": "code",
   "execution_count": 3,
   "metadata": {},
   "outputs": [],
   "source": [
    "race_group = {'Overall': 0, 'White': 1, 'Black': 2, 'Hispanic': 3, 'Asian and Pacific Islander': 4, 'American Indian and Alaskan Native': 5}\n",
    "sex_group = {'Overall': 0, 'Male': 1, 'Female': 2}"
   ]
  },
  {
   "cell_type": "code",
   "execution_count": 4,
   "metadata": {},
   "outputs": [],
   "source": [
    "_2019_df['sex'] = _2019_df['sex'].map(sex_group)\n",
    "_2019_df['race/ethnicityage_group'] = _2019_df['race/ethnicityage_group'].map(race_group)"
   ]
  },
  {
   "cell_type": "code",
   "execution_count": 5,
   "metadata": {},
   "outputs": [
    {
     "data": {
      "text/html": [
       "<div>\n",
       "<style scoped>\n",
       "    .dataframe tbody tr th:only-of-type {\n",
       "        vertical-align: middle;\n",
       "    }\n",
       "\n",
       "    .dataframe tbody tr th {\n",
       "        vertical-align: top;\n",
       "    }\n",
       "\n",
       "    .dataframe thead th {\n",
       "        text-align: right;\n",
       "    }\n",
       "</style>\n",
       "<table border=\"1\" class=\"dataframe\">\n",
       "  <thead>\n",
       "    <tr style=\"text-align: right;\">\n",
       "      <th></th>\n",
       "      <th>locationabbr</th>\n",
       "      <th>locationdesc</th>\n",
       "      <th>data_value</th>\n",
       "      <th>sex</th>\n",
       "      <th>race/ethnicityage_group</th>\n",
       "      <th>locationid</th>\n",
       "      <th>y_lat</th>\n",
       "      <th>x_lon</th>\n",
       "    </tr>\n",
       "  </thead>\n",
       "  <tbody>\n",
       "    <tr>\n",
       "      <th>0</th>\n",
       "      <td>AK</td>\n",
       "      <td>Aleutians East</td>\n",
       "      <td>182.4</td>\n",
       "      <td>0</td>\n",
       "      <td>0</td>\n",
       "      <td>2013</td>\n",
       "      <td>55.442393</td>\n",
       "      <td>-161.959930</td>\n",
       "    </tr>\n",
       "    <tr>\n",
       "      <th>1</th>\n",
       "      <td>AK</td>\n",
       "      <td>Aleutians West</td>\n",
       "      <td>172.6</td>\n",
       "      <td>0</td>\n",
       "      <td>0</td>\n",
       "      <td>2016</td>\n",
       "      <td>53.648343</td>\n",
       "      <td>-166.917533</td>\n",
       "    </tr>\n",
       "    <tr>\n",
       "      <th>2</th>\n",
       "      <td>AK</td>\n",
       "      <td>Anchorage</td>\n",
       "      <td>255.6</td>\n",
       "      <td>0</td>\n",
       "      <td>0</td>\n",
       "      <td>2020</td>\n",
       "      <td>61.159145</td>\n",
       "      <td>-149.104559</td>\n",
       "    </tr>\n",
       "    <tr>\n",
       "      <th>3</th>\n",
       "      <td>AK</td>\n",
       "      <td>Bethel</td>\n",
       "      <td>343.4</td>\n",
       "      <td>0</td>\n",
       "      <td>0</td>\n",
       "      <td>2050</td>\n",
       "      <td>60.923648</td>\n",
       "      <td>-159.753262</td>\n",
       "    </tr>\n",
       "    <tr>\n",
       "      <th>4</th>\n",
       "      <td>AK</td>\n",
       "      <td>Denali</td>\n",
       "      <td>218.6</td>\n",
       "      <td>0</td>\n",
       "      <td>0</td>\n",
       "      <td>2068</td>\n",
       "      <td>63.678820</td>\n",
       "      <td>-149.960801</td>\n",
       "    </tr>\n",
       "    <tr>\n",
       "      <th>...</th>\n",
       "      <td>...</td>\n",
       "      <td>...</td>\n",
       "      <td>...</td>\n",
       "      <td>...</td>\n",
       "      <td>...</td>\n",
       "      <td>...</td>\n",
       "      <td>...</td>\n",
       "      <td>...</td>\n",
       "    </tr>\n",
       "    <tr>\n",
       "      <th>33064</th>\n",
       "      <td>WY</td>\n",
       "      <td>Wyoming</td>\n",
       "      <td>194.9</td>\n",
       "      <td>0</td>\n",
       "      <td>3</td>\n",
       "      <td>56</td>\n",
       "      <td>42.998400</td>\n",
       "      <td>-107.552000</td>\n",
       "    </tr>\n",
       "    <tr>\n",
       "      <th>33065</th>\n",
       "      <td>WY</td>\n",
       "      <td>Wyoming</td>\n",
       "      <td>287.0</td>\n",
       "      <td>1</td>\n",
       "      <td>3</td>\n",
       "      <td>56</td>\n",
       "      <td>42.998400</td>\n",
       "      <td>-107.552000</td>\n",
       "    </tr>\n",
       "    <tr>\n",
       "      <th>33066</th>\n",
       "      <td>WY</td>\n",
       "      <td>Wyoming</td>\n",
       "      <td>121.0</td>\n",
       "      <td>2</td>\n",
       "      <td>3</td>\n",
       "      <td>56</td>\n",
       "      <td>42.998400</td>\n",
       "      <td>-107.552000</td>\n",
       "    </tr>\n",
       "    <tr>\n",
       "      <th>33067</th>\n",
       "      <td>WY</td>\n",
       "      <td>Wyoming</td>\n",
       "      <td>338.4</td>\n",
       "      <td>0</td>\n",
       "      <td>5</td>\n",
       "      <td>56</td>\n",
       "      <td>42.998400</td>\n",
       "      <td>-107.552000</td>\n",
       "    </tr>\n",
       "    <tr>\n",
       "      <th>33068</th>\n",
       "      <td>WY</td>\n",
       "      <td>Wyoming</td>\n",
       "      <td>432.2</td>\n",
       "      <td>1</td>\n",
       "      <td>5</td>\n",
       "      <td>56</td>\n",
       "      <td>42.998400</td>\n",
       "      <td>-107.552000</td>\n",
       "    </tr>\n",
       "  </tbody>\n",
       "</table>\n",
       "<p>33069 rows × 8 columns</p>\n",
       "</div>"
      ],
      "text/plain": [
       "      locationabbr    locationdesc  data_value  sex  race/ethnicityage_group  \\\n",
       "0               AK  Aleutians East       182.4    0                        0   \n",
       "1               AK  Aleutians West       172.6    0                        0   \n",
       "2               AK       Anchorage       255.6    0                        0   \n",
       "3               AK          Bethel       343.4    0                        0   \n",
       "4               AK          Denali       218.6    0                        0   \n",
       "...            ...             ...         ...  ...                      ...   \n",
       "33064           WY         Wyoming       194.9    0                        3   \n",
       "33065           WY         Wyoming       287.0    1                        3   \n",
       "33066           WY         Wyoming       121.0    2                        3   \n",
       "33067           WY         Wyoming       338.4    0                        5   \n",
       "33068           WY         Wyoming       432.2    1                        5   \n",
       "\n",
       "       locationid      y_lat       x_lon  \n",
       "0            2013  55.442393 -161.959930  \n",
       "1            2016  53.648343 -166.917533  \n",
       "2            2020  61.159145 -149.104559  \n",
       "3            2050  60.923648 -159.753262  \n",
       "4            2068  63.678820 -149.960801  \n",
       "...           ...        ...         ...  \n",
       "33064          56  42.998400 -107.552000  \n",
       "33065          56  42.998400 -107.552000  \n",
       "33066          56  42.998400 -107.552000  \n",
       "33067          56  42.998400 -107.552000  \n",
       "33068          56  42.998400 -107.552000  \n",
       "\n",
       "[33069 rows x 8 columns]"
      ]
     },
     "execution_count": 5,
     "metadata": {},
     "output_type": "execute_result"
    }
   ],
   "source": [
    "_2019_df"
   ]
  },
  {
   "cell_type": "markdown",
   "metadata": {},
   "source": [
    "**Chọn sample:** Chọn bang có nhiều mẫu nhất để phân tích"
   ]
  },
  {
   "cell_type": "code",
   "execution_count": 6,
   "metadata": {},
   "outputs": [
    {
     "data": {
      "text/plain": [
       "locationdesc\n",
       "Washington County    326\n",
       "Jefferson County     273\n",
       "Jackson County       234\n",
       "Franklin County      233\n",
       "Lincoln County       213\n",
       "                    ... \n",
       "Fajardo Municipio      3\n",
       "Dorado Municipio       3\n",
       "Aleutians West         2\n",
       "Petersburg             2\n",
       "Aleutians East         1\n",
       "Name: count, Length: 2014, dtype: int64"
      ]
     },
     "execution_count": 6,
     "metadata": {},
     "output_type": "execute_result"
    }
   ],
   "source": [
    "_2019_df['locationdesc'].value_counts()"
   ]
  },
  {
   "cell_type": "markdown",
   "metadata": {},
   "source": [
    "Bang có nhiều dữ liệu nhất là **Washington County**"
   ]
  },
  {
   "cell_type": "code",
   "execution_count": 7,
   "metadata": {},
   "outputs": [
    {
     "data": {
      "text/html": [
       "<div>\n",
       "<style scoped>\n",
       "    .dataframe tbody tr th:only-of-type {\n",
       "        vertical-align: middle;\n",
       "    }\n",
       "\n",
       "    .dataframe tbody tr th {\n",
       "        vertical-align: top;\n",
       "    }\n",
       "\n",
       "    .dataframe thead th {\n",
       "        text-align: right;\n",
       "    }\n",
       "</style>\n",
       "<table border=\"1\" class=\"dataframe\">\n",
       "  <thead>\n",
       "    <tr style=\"text-align: right;\">\n",
       "      <th></th>\n",
       "      <th>locationabbr</th>\n",
       "      <th>locationdesc</th>\n",
       "      <th>data_value</th>\n",
       "      <th>sex</th>\n",
       "      <th>race/ethnicityage_group</th>\n",
       "      <th>locationid</th>\n",
       "      <th>y_lat</th>\n",
       "      <th>x_lon</th>\n",
       "    </tr>\n",
       "  </thead>\n",
       "  <tbody>\n",
       "    <tr>\n",
       "      <th>298</th>\n",
       "      <td>AL</td>\n",
       "      <td>Washington County</td>\n",
       "      <td>410.5</td>\n",
       "      <td>0</td>\n",
       "      <td>0</td>\n",
       "      <td>1129</td>\n",
       "      <td>31.412940</td>\n",
       "      <td>-88.205917</td>\n",
       "    </tr>\n",
       "    <tr>\n",
       "      <th>365</th>\n",
       "      <td>AL</td>\n",
       "      <td>Washington County</td>\n",
       "      <td>570.6</td>\n",
       "      <td>1</td>\n",
       "      <td>0</td>\n",
       "      <td>1129</td>\n",
       "      <td>31.412940</td>\n",
       "      <td>-88.205917</td>\n",
       "    </tr>\n",
       "    <tr>\n",
       "      <th>432</th>\n",
       "      <td>AL</td>\n",
       "      <td>Washington County</td>\n",
       "      <td>301.7</td>\n",
       "      <td>2</td>\n",
       "      <td>0</td>\n",
       "      <td>1129</td>\n",
       "      <td>31.412940</td>\n",
       "      <td>-88.205917</td>\n",
       "    </tr>\n",
       "    <tr>\n",
       "      <th>499</th>\n",
       "      <td>AL</td>\n",
       "      <td>Washington County</td>\n",
       "      <td>407.3</td>\n",
       "      <td>0</td>\n",
       "      <td>1</td>\n",
       "      <td>1129</td>\n",
       "      <td>31.412940</td>\n",
       "      <td>-88.205917</td>\n",
       "    </tr>\n",
       "    <tr>\n",
       "      <th>566</th>\n",
       "      <td>AL</td>\n",
       "      <td>Washington County</td>\n",
       "      <td>546.9</td>\n",
       "      <td>1</td>\n",
       "      <td>1</td>\n",
       "      <td>1129</td>\n",
       "      <td>31.412940</td>\n",
       "      <td>-88.205917</td>\n",
       "    </tr>\n",
       "    <tr>\n",
       "      <th>...</th>\n",
       "      <td>...</td>\n",
       "      <td>...</td>\n",
       "      <td>...</td>\n",
       "      <td>...</td>\n",
       "      <td>...</td>\n",
       "      <td>...</td>\n",
       "      <td>...</td>\n",
       "      <td>...</td>\n",
       "    </tr>\n",
       "    <tr>\n",
       "      <th>32332</th>\n",
       "      <td>WI</td>\n",
       "      <td>Washington County</td>\n",
       "      <td>171.9</td>\n",
       "      <td>0</td>\n",
       "      <td>4</td>\n",
       "      <td>55131</td>\n",
       "      <td>43.372311</td>\n",
       "      <td>-88.226499</td>\n",
       "    </tr>\n",
       "    <tr>\n",
       "      <th>32351</th>\n",
       "      <td>WI</td>\n",
       "      <td>Washington County</td>\n",
       "      <td>230.4</td>\n",
       "      <td>1</td>\n",
       "      <td>4</td>\n",
       "      <td>55131</td>\n",
       "      <td>43.372311</td>\n",
       "      <td>-88.226499</td>\n",
       "    </tr>\n",
       "    <tr>\n",
       "      <th>32366</th>\n",
       "      <td>WI</td>\n",
       "      <td>Washington County</td>\n",
       "      <td>158.1</td>\n",
       "      <td>2</td>\n",
       "      <td>4</td>\n",
       "      <td>55131</td>\n",
       "      <td>43.372311</td>\n",
       "      <td>-88.226499</td>\n",
       "    </tr>\n",
       "    <tr>\n",
       "      <th>32392</th>\n",
       "      <td>WI</td>\n",
       "      <td>Washington County</td>\n",
       "      <td>397.2</td>\n",
       "      <td>0</td>\n",
       "      <td>5</td>\n",
       "      <td>55131</td>\n",
       "      <td>43.372311</td>\n",
       "      <td>-88.226499</td>\n",
       "    </tr>\n",
       "    <tr>\n",
       "      <th>32409</th>\n",
       "      <td>WI</td>\n",
       "      <td>Washington County</td>\n",
       "      <td>817.1</td>\n",
       "      <td>1</td>\n",
       "      <td>5</td>\n",
       "      <td>55131</td>\n",
       "      <td>43.372311</td>\n",
       "      <td>-88.226499</td>\n",
       "    </tr>\n",
       "  </tbody>\n",
       "</table>\n",
       "<p>326 rows × 8 columns</p>\n",
       "</div>"
      ],
      "text/plain": [
       "      locationabbr       locationdesc  data_value  sex  \\\n",
       "298             AL  Washington County       410.5    0   \n",
       "365             AL  Washington County       570.6    1   \n",
       "432             AL  Washington County       301.7    2   \n",
       "499             AL  Washington County       407.3    0   \n",
       "566             AL  Washington County       546.9    1   \n",
       "...            ...                ...         ...  ...   \n",
       "32332           WI  Washington County       171.9    0   \n",
       "32351           WI  Washington County       230.4    1   \n",
       "32366           WI  Washington County       158.1    2   \n",
       "32392           WI  Washington County       397.2    0   \n",
       "32409           WI  Washington County       817.1    1   \n",
       "\n",
       "       race/ethnicityage_group  locationid      y_lat      x_lon  \n",
       "298                          0        1129  31.412940 -88.205917  \n",
       "365                          0        1129  31.412940 -88.205917  \n",
       "432                          0        1129  31.412940 -88.205917  \n",
       "499                          1        1129  31.412940 -88.205917  \n",
       "566                          1        1129  31.412940 -88.205917  \n",
       "...                        ...         ...        ...        ...  \n",
       "32332                        4       55131  43.372311 -88.226499  \n",
       "32351                        4       55131  43.372311 -88.226499  \n",
       "32366                        4       55131  43.372311 -88.226499  \n",
       "32392                        5       55131  43.372311 -88.226499  \n",
       "32409                        5       55131  43.372311 -88.226499  \n",
       "\n",
       "[326 rows x 8 columns]"
      ]
     },
     "execution_count": 7,
     "metadata": {},
     "output_type": "execute_result"
    }
   ],
   "source": [
    "washington_df = _2019_df[_2019_df['locationdesc'] == 'Washington County']\n",
    "washington_df"
   ]
  },
  {
   "cell_type": "markdown",
   "metadata": {},
   "source": [
    "Chia giá trị data value theo trung vị để được 2 tập giá trị bằng nhau và chuẩn hóa sang nhị phân."
   ]
  },
  {
   "cell_type": "code",
   "execution_count": 8,
   "metadata": {},
   "outputs": [
    {
     "data": {
      "text/plain": [
       "318.1"
      ]
     },
     "execution_count": 8,
     "metadata": {},
     "output_type": "execute_result"
    }
   ],
   "source": [
    "median_data_value = washington_df['data_value'].median()\n",
    "median_data_value"
   ]
  },
  {
   "cell_type": "code",
   "execution_count": 9,
   "metadata": {},
   "outputs": [
    {
     "data": {
      "text/html": [
       "<div>\n",
       "<style scoped>\n",
       "    .dataframe tbody tr th:only-of-type {\n",
       "        vertical-align: middle;\n",
       "    }\n",
       "\n",
       "    .dataframe tbody tr th {\n",
       "        vertical-align: top;\n",
       "    }\n",
       "\n",
       "    .dataframe thead th {\n",
       "        text-align: right;\n",
       "    }\n",
       "</style>\n",
       "<table border=\"1\" class=\"dataframe\">\n",
       "  <thead>\n",
       "    <tr style=\"text-align: right;\">\n",
       "      <th></th>\n",
       "      <th>locationabbr</th>\n",
       "      <th>locationdesc</th>\n",
       "      <th>data_value</th>\n",
       "      <th>sex</th>\n",
       "      <th>race/ethnicityage_group</th>\n",
       "      <th>locationid</th>\n",
       "      <th>y_lat</th>\n",
       "      <th>x_lon</th>\n",
       "    </tr>\n",
       "  </thead>\n",
       "  <tbody>\n",
       "    <tr>\n",
       "      <th>298</th>\n",
       "      <td>AL</td>\n",
       "      <td>Washington County</td>\n",
       "      <td>1</td>\n",
       "      <td>0</td>\n",
       "      <td>0</td>\n",
       "      <td>1129</td>\n",
       "      <td>31.412940</td>\n",
       "      <td>-88.205917</td>\n",
       "    </tr>\n",
       "    <tr>\n",
       "      <th>365</th>\n",
       "      <td>AL</td>\n",
       "      <td>Washington County</td>\n",
       "      <td>1</td>\n",
       "      <td>1</td>\n",
       "      <td>0</td>\n",
       "      <td>1129</td>\n",
       "      <td>31.412940</td>\n",
       "      <td>-88.205917</td>\n",
       "    </tr>\n",
       "    <tr>\n",
       "      <th>432</th>\n",
       "      <td>AL</td>\n",
       "      <td>Washington County</td>\n",
       "      <td>0</td>\n",
       "      <td>2</td>\n",
       "      <td>0</td>\n",
       "      <td>1129</td>\n",
       "      <td>31.412940</td>\n",
       "      <td>-88.205917</td>\n",
       "    </tr>\n",
       "    <tr>\n",
       "      <th>499</th>\n",
       "      <td>AL</td>\n",
       "      <td>Washington County</td>\n",
       "      <td>1</td>\n",
       "      <td>0</td>\n",
       "      <td>1</td>\n",
       "      <td>1129</td>\n",
       "      <td>31.412940</td>\n",
       "      <td>-88.205917</td>\n",
       "    </tr>\n",
       "    <tr>\n",
       "      <th>566</th>\n",
       "      <td>AL</td>\n",
       "      <td>Washington County</td>\n",
       "      <td>1</td>\n",
       "      <td>1</td>\n",
       "      <td>1</td>\n",
       "      <td>1129</td>\n",
       "      <td>31.412940</td>\n",
       "      <td>-88.205917</td>\n",
       "    </tr>\n",
       "    <tr>\n",
       "      <th>...</th>\n",
       "      <td>...</td>\n",
       "      <td>...</td>\n",
       "      <td>...</td>\n",
       "      <td>...</td>\n",
       "      <td>...</td>\n",
       "      <td>...</td>\n",
       "      <td>...</td>\n",
       "      <td>...</td>\n",
       "    </tr>\n",
       "    <tr>\n",
       "      <th>32332</th>\n",
       "      <td>WI</td>\n",
       "      <td>Washington County</td>\n",
       "      <td>0</td>\n",
       "      <td>0</td>\n",
       "      <td>4</td>\n",
       "      <td>55131</td>\n",
       "      <td>43.372311</td>\n",
       "      <td>-88.226499</td>\n",
       "    </tr>\n",
       "    <tr>\n",
       "      <th>32351</th>\n",
       "      <td>WI</td>\n",
       "      <td>Washington County</td>\n",
       "      <td>0</td>\n",
       "      <td>1</td>\n",
       "      <td>4</td>\n",
       "      <td>55131</td>\n",
       "      <td>43.372311</td>\n",
       "      <td>-88.226499</td>\n",
       "    </tr>\n",
       "    <tr>\n",
       "      <th>32366</th>\n",
       "      <td>WI</td>\n",
       "      <td>Washington County</td>\n",
       "      <td>0</td>\n",
       "      <td>2</td>\n",
       "      <td>4</td>\n",
       "      <td>55131</td>\n",
       "      <td>43.372311</td>\n",
       "      <td>-88.226499</td>\n",
       "    </tr>\n",
       "    <tr>\n",
       "      <th>32392</th>\n",
       "      <td>WI</td>\n",
       "      <td>Washington County</td>\n",
       "      <td>1</td>\n",
       "      <td>0</td>\n",
       "      <td>5</td>\n",
       "      <td>55131</td>\n",
       "      <td>43.372311</td>\n",
       "      <td>-88.226499</td>\n",
       "    </tr>\n",
       "    <tr>\n",
       "      <th>32409</th>\n",
       "      <td>WI</td>\n",
       "      <td>Washington County</td>\n",
       "      <td>1</td>\n",
       "      <td>1</td>\n",
       "      <td>5</td>\n",
       "      <td>55131</td>\n",
       "      <td>43.372311</td>\n",
       "      <td>-88.226499</td>\n",
       "    </tr>\n",
       "  </tbody>\n",
       "</table>\n",
       "<p>326 rows × 8 columns</p>\n",
       "</div>"
      ],
      "text/plain": [
       "      locationabbr       locationdesc  data_value  sex  \\\n",
       "298             AL  Washington County           1    0   \n",
       "365             AL  Washington County           1    1   \n",
       "432             AL  Washington County           0    2   \n",
       "499             AL  Washington County           1    0   \n",
       "566             AL  Washington County           1    1   \n",
       "...            ...                ...         ...  ...   \n",
       "32332           WI  Washington County           0    0   \n",
       "32351           WI  Washington County           0    1   \n",
       "32366           WI  Washington County           0    2   \n",
       "32392           WI  Washington County           1    0   \n",
       "32409           WI  Washington County           1    1   \n",
       "\n",
       "       race/ethnicityage_group  locationid      y_lat      x_lon  \n",
       "298                          0        1129  31.412940 -88.205917  \n",
       "365                          0        1129  31.412940 -88.205917  \n",
       "432                          0        1129  31.412940 -88.205917  \n",
       "499                          1        1129  31.412940 -88.205917  \n",
       "566                          1        1129  31.412940 -88.205917  \n",
       "...                        ...         ...        ...        ...  \n",
       "32332                        4       55131  43.372311 -88.226499  \n",
       "32351                        4       55131  43.372311 -88.226499  \n",
       "32366                        4       55131  43.372311 -88.226499  \n",
       "32392                        5       55131  43.372311 -88.226499  \n",
       "32409                        5       55131  43.372311 -88.226499  \n",
       "\n",
       "[326 rows x 8 columns]"
      ]
     },
     "execution_count": 9,
     "metadata": {},
     "output_type": "execute_result"
    }
   ],
   "source": [
    "washington_df['data_value'] = (washington_df['data_value'] > median_data_value).astype(int)\n",
    "washington_df"
   ]
  },
  {
   "cell_type": "code",
   "execution_count": 10,
   "metadata": {},
   "outputs": [
    {
     "name": "stdout",
     "output_type": "stream",
     "text": [
      "Optimization terminated successfully.\n",
      "         Current function value: 0.569686\n",
      "         Iterations 6\n"
     ]
    },
    {
     "data": {
      "image/png": "[encoded data removed]",
      "text/plain": [
       "<Figure size 1200x800 with 1 Axes>"
      ]
     },
     "metadata": {},
     "output_type": "display_data"
    },
    {
     "data": {
      "text/html": [
       "<div>\n",
       "<style scoped>\n",
       "    .dataframe tbody tr th:only-of-type {\n",
       "        vertical-align: middle;\n",
       "    }\n",
       "\n",
       "    .dataframe tbody tr th {\n",
       "        vertical-align: top;\n",
       "    }\n",
       "\n",
       "    .dataframe thead th {\n",
       "        text-align: right;\n",
       "    }\n",
       "</style>\n",
       "<table border=\"1\" class=\"dataframe\">\n",
       "  <thead>\n",
       "    <tr style=\"text-align: right;\">\n",
       "      <th></th>\n",
       "      <th>Factors</th>\n",
       "      <th>Coefficients</th>\n",
       "      <th>P-Values</th>\n",
       "      <th>Significance</th>\n",
       "    </tr>\n",
       "  </thead>\n",
       "  <tbody>\n",
       "    <tr>\n",
       "      <th>0</th>\n",
       "      <td>sex</td>\n",
       "      <td>-0.628396</td>\n",
       "      <td>8.391971e-05</td>\n",
       "      <td>Quan trọng</td>\n",
       "    </tr>\n",
       "    <tr>\n",
       "      <th>1</th>\n",
       "      <td>race/ethnicityage_group</td>\n",
       "      <td>-0.357382</td>\n",
       "      <td>1.079153e-04</td>\n",
       "      <td>Quan trọng</td>\n",
       "    </tr>\n",
       "    <tr>\n",
       "      <th>2</th>\n",
       "      <td>y_lat</td>\n",
       "      <td>-0.175453</td>\n",
       "      <td>3.449921e-08</td>\n",
       "      <td>Không quan trọng</td>\n",
       "    </tr>\n",
       "    <tr>\n",
       "      <th>3</th>\n",
       "      <td>x_lon</td>\n",
       "      <td>0.037843</td>\n",
       "      <td>5.075101e-04</td>\n",
       "      <td>Quan trọng</td>\n",
       "    </tr>\n",
       "  </tbody>\n",
       "</table>\n",
       "</div>"
      ],
      "text/plain": [
       "                   Factors  Coefficients      P-Values      Significance\n",
       "0                      sex     -0.628396  8.391971e-05        Quan trọng\n",
       "1  race/ethnicityage_group     -0.357382  1.079153e-04        Quan trọng\n",
       "2                    y_lat     -0.175453  3.449921e-08  Không quan trọng\n",
       "3                    x_lon      0.037843  5.075101e-04        Quan trọng"
      ]
     },
     "execution_count": 10,
     "metadata": {},
     "output_type": "execute_result"
    }
   ],
   "source": [
    "# Chuẩn bị dữ liệu cho hồi quy logistic\n",
    "X = washington_df.drop(columns={'locationabbr', 'locationdesc', 'locationid', 'data_value'}, axis=1)  # Xóa các biến độc lập\n",
    "y = washington_df['data_value']  # Biến phụ thuộc\n",
    "\n",
    "X_const = sm.add_constant(X)\n",
    "\n",
    "# Xây dựng mô hình hồi quy logistic\n",
    "model = sm.Logit(y, X_const)\n",
    "result = model.fit()\n",
    "\n",
    "# Trích xuất hệ số và giá trị p\n",
    "coefficients = result.params[1:]  # Loại bỏ hằng số\n",
    "p_values = result.pvalues[1:]  # Loại bỏ hằng số cho giá trị p\n",
    "\n",
    "# Tạo DataFrame để hiển thị\n",
    "viz_df = pd.DataFrame({\n",
    "    'Factors': coefficients.index,\n",
    "    'Coefficients': coefficients.values,\n",
    "    'P-Values': p_values.values\n",
    "})\n",
    "\n",
    "# Thêm cột cho sự quan trọng của hệ số\n",
    "viz_df['Significance'] = np.where(viz_df['P-Values'] >= 1e-5, 'Quan trọng', 'Không quan trọng')\n",
    "\n",
    "# Vẽ biểu đồ hệ số\n",
    "plt.figure(figsize=(12, 8))\n",
    "sns.barplot(x='Coefficients', y='Factors', data=viz_df, hue='Significance', dodge=False, palette='viridis')\n",
    "plt.title('Hệ số của Mô hình Hồi quy Logistic')\n",
    "plt.xlabel('Giá trị Hệ số')\n",
    "plt.ylabel('Yếu tố')\n",
    "plt.axvline(x=0, color='grey', linestyle='--')\n",
    "\n",
    "plt.show()\n",
    "viz_df"
   ]
  },
  {
   "cell_type": "markdown",
   "metadata": {},
   "source": [
    "**Comment:** Việc visualizing các hệ số từ mô hình hồi quy logistic cung cấp cái nhìn sâu sắc về các yếu tố có liên quan chặt chẽ nhất đến sự hiện diện của bệnh tim:\n",
    "\n",
    "- **Các yếu tố quan trọng:**\n",
    "    - Giới tính: với hệ số âm, nam giới có ảnh hưởng tới xác suất dự đoán thấp hơn so với nữ giới.\n",
    "    - Chủng tộc: tỉ lệ thành phần sắc tộc càng thấp, càng ảnh hưởng thấp tới xác suất dự đoán. \n",
    "\n",
    "- **Yếu tố không quan trọng:**\n",
    "Vị trí địa lý(x_lon, y_lat): Các yếu tố này không cho thấy mối liên quan đáng kể với sự hiện diện bệnh tim trong tập dữ liệu này.\n",
    "\n",
    "Các hệ số cung cấp ước tính về sự thay đổi trong log tỷ lệ mắc bệnh tim, trong các xử lý tiếp theo, có thể bỏ qua các thông tin về vị trí địa lý."
   ]
  },
  {
   "cell_type": "markdown",
   "metadata": {},
   "source": [
    "## Khai thác tính năng"
   ]
  },
  {
   "cell_type": "code",
   "execution_count": 11,
   "metadata": {},
   "outputs": [],
   "source": [
    "median_data_value = _2019_df['data_value'].median()"
   ]
  },
  {
   "cell_type": "code",
   "execution_count": 12,
   "metadata": {},
   "outputs": [],
   "source": [
    "_2019_df['data_value'] = (_2019_df['data_value'] > median_data_value).astype(int)"
   ]
  },
  {
   "cell_type": "code",
   "execution_count": 13,
   "metadata": {},
   "outputs": [
    {
     "name": "stdout",
     "output_type": "stream",
     "text": [
      "Optimization terminated successfully.\n",
      "         Current function value: 0.642315\n",
      "         Iterations 5\n"
     ]
    },
    {
     "data": {
      "text/html": [
       "<table class=\"simpletable\">\n",
       "<tr>\n",
       "        <td>Model:</td>              <td>Logit</td>           <td>Method:</td>          <td>MLE</td>   \n",
       "</tr>\n",
       "<tr>\n",
       "  <td>Dependent Variable:</td>    <td>data_value</td>    <td>Pseudo R-squared:</td>    <td>0.073</td>  \n",
       "</tr>\n",
       "<tr>\n",
       "         <td>Date:</td>        <td>2023-12-29 14:17</td>       <td>AIC:</td>        <td>42487.4493</td>\n",
       "</tr>\n",
       "<tr>\n",
       "   <td>No. Observations:</td>        <td>33069</td>            <td>BIC:</td>        <td>42512.6684</td>\n",
       "</tr>\n",
       "<tr>\n",
       "       <td>Df Model:</td>              <td>2</td>         <td>Log-Likelihood:</td>    <td>-21241.</td> \n",
       "</tr>\n",
       "<tr>\n",
       "     <td>Df Residuals:</td>          <td>33066</td>          <td>LL-Null:</td>        <td>-22922.</td> \n",
       "</tr>\n",
       "<tr>\n",
       "      <td>Converged:</td>           <td>1.0000</td>        <td>LLR p-value:</td>      <td>0.0000</td>  \n",
       "</tr>\n",
       "<tr>\n",
       "    <td>No. Iterations:</td>        <td>5.0000</td>           <td>Scale:</td>         <td>1.0000</td>  \n",
       "</tr>\n",
       "</table>\n",
       "<table class=\"simpletable\">\n",
       "<tr>\n",
       "             <td></td>              <th>Coef.</th>  <th>Std.Err.</th>     <th>z</th>     <th>P>|z|</th> <th>[0.025</th>  <th>0.975]</th> \n",
       "</tr>\n",
       "<tr>\n",
       "  <th>const</th>                   <td>1.1069</td>   <td>0.0234</td>   <td>47.3718</td> <td>0.0000</td> <td>1.0611</td>  <td>1.1527</td> \n",
       "</tr>\n",
       "<tr>\n",
       "  <th>sex</th>                     <td>-0.5858</td>  <td>0.0145</td>  <td>-40.3192</td> <td>0.0000</td> <td>-0.6143</td> <td>-0.5574</td>\n",
       "</tr>\n",
       "<tr>\n",
       "  <th>race/ethnicityage_group</th> <td>-0.3653</td>  <td>0.0085</td>  <td>-43.0724</td> <td>0.0000</td> <td>-0.3819</td> <td>-0.3486</td>\n",
       "</tr>\n",
       "</table><br/>\n"
      ],
      "text/latex": [
       "\\begin{table}\n",
       "\\caption{Results: Logit}\n",
       "\\label{}\n",
       "\\begin{center}\n",
       "\\begin{tabular}{llll}\n",
       "\\hline\n",
       "Model:              & Logit            & Method:           & MLE         \\\\\n",
       "Dependent Variable: & data\\_value      & Pseudo R-squared: & 0.073       \\\\\n",
       "Date:               & 2023-12-29 14:17 & AIC:              & 42487.4493  \\\\\n",
       "No. Observations:   & 33069            & BIC:              & 42512.6684  \\\\\n",
       "Df Model:           & 2                & Log-Likelihood:   & -21241.     \\\\\n",
       "Df Residuals:       & 33066            & LL-Null:          & -22922.     \\\\\n",
       "Converged:          & 1.0000           & LLR p-value:      & 0.0000      \\\\\n",
       "No. Iterations:     & 5.0000           & Scale:            & 1.0000      \\\\\n",
       "\\hline\n",
       "\\end{tabular}\n",
       "\\end{center}\n",
       "\n",
       "\\begin{center}\n",
       "\\begin{tabular}{lrrrrrr}\n",
       "\\hline\n",
       "                         &   Coef. & Std.Err. &        z & P$> |$z$|$ &  [0.025 &  0.975]  \\\\\n",
       "\\hline\n",
       "const                    &  1.1069 &   0.0234 &  47.3718 &      0.0000 &  1.0611 &  1.1527  \\\\\n",
       "sex                      & -0.5858 &   0.0145 & -40.3192 &      0.0000 & -0.6143 & -0.5574  \\\\\n",
       "race/ethnicityage\\_group & -0.3653 &   0.0085 & -43.0724 &      0.0000 & -0.3819 & -0.3486  \\\\\n",
       "\\hline\n",
       "\\end{tabular}\n",
       "\\end{center}\n",
       "\\end{table}\n",
       "\\bigskip\n"
      ],
      "text/plain": [
       "<class 'statsmodels.iolib.summary2.Summary'>\n",
       "\"\"\"\n",
       "                             Results: Logit\n",
       "========================================================================\n",
       "Model:                 Logit              Method:             MLE       \n",
       "Dependent Variable:    data_value         Pseudo R-squared:   0.073     \n",
       "Date:                  2023-12-29 14:17   AIC:                42487.4493\n",
       "No. Observations:      33069              BIC:                42512.6684\n",
       "Df Model:              2                  Log-Likelihood:     -21241.   \n",
       "Df Residuals:          33066              LL-Null:            -22922.   \n",
       "Converged:             1.0000             LLR p-value:        0.0000    \n",
       "No. Iterations:        5.0000             Scale:              1.0000    \n",
       "------------------------------------------------------------------------\n",
       "                         Coef.  Std.Err.    z     P>|z|   [0.025  0.975]\n",
       "------------------------------------------------------------------------\n",
       "const                    1.1069   0.0234  47.3718 0.0000  1.0611  1.1527\n",
       "sex                     -0.5858   0.0145 -40.3192 0.0000 -0.6143 -0.5574\n",
       "race/ethnicityage_group -0.3653   0.0085 -43.0724 0.0000 -0.3819 -0.3486\n",
       "========================================================================\n",
       "\n",
       "\"\"\""
      ]
     },
     "execution_count": 13,
     "metadata": {},
     "output_type": "execute_result"
    }
   ],
   "source": [
    "# Preparing the data with significant features for logistic regression\n",
    "X_significant_features = _2019_df[['sex', 'race/ethnicityage_group']]\n",
    "y = _2019_df['data_value']\n",
    "\n",
    "# Adding a constant to the model (intercept)\n",
    "X_const_significant_features = sm.add_constant(X_significant_features)\n",
    "\n",
    "# Building the logistic regression model with significant features\n",
    "model_significant_features = sm.Logit(y, X_const_significant_features)\n",
    "result_significant_features = model_significant_features.fit()\n",
    "\n",
    "# Getting the summary of the logistic regression with significant features\n",
    "logit_summary_significant_features = result_significant_features.summary2()\n",
    "logit_summary_significant_features"
   ]
  },
  {
   "cell_type": "markdown",
   "metadata": {},
   "source": [
    "**1. Đặc trưng:**\n",
    "- sex: -0.5858 - Hệ số cho biến \"sex\". Nếu là nam, giả sử nguy cơ giảm khoảng 0.56 lần so với nữ.\n",
    "- race/ethnicityage_group: -0.3653 - Hệ số cho biến \"race/ethnicityage_group\". Mỗi đơn vị tăng(tăng theo tỉ lệ thành phần sắc tộc), nguy cơ giảm khoảng 0.69 lần.  \n",
    "\n",
    "\n",
    "**2. Kiểm Định Thống Kê:** Cả ba hệ số đều có giá trị p-value rất thấp (0.0000), chỉ ra rằng chúng có ý nghĩa thống kê.\n",
    "\n",
    "**3. Độ hội tụ:** Sau 5 lần lặp thì mô hình đã hội tụ, vậy mô hình đã tối ưu, giải pháp ổn định. Khi thêm các đặc trưng, sẽ không làm cho mô hình phức tạp hơn."
   ]
  },
  {
   "cell_type": "markdown",
   "metadata": {},
   "source": [
    "# II. Dự đoán data_value"
   ]
  },
  {
   "cell_type": "code",
   "execution_count": 14,
   "metadata": {},
   "outputs": [],
   "source": [
    "df = pd.read_csv('Data/smoothed_rate_df.csv')"
   ]
  },
  {
   "cell_type": "markdown",
   "metadata": {},
   "source": [
    "**Chọn sample:** Chọn bang có nhiều mẫu nhất để phân tích"
   ]
  },
  {
   "cell_type": "code",
   "execution_count": 15,
   "metadata": {},
   "outputs": [
    {
     "data": {
      "text/plain": [
       "locationdesc\n",
       "Washington    5140\n",
       "Jefferson     4460\n",
       "Franklin      3820\n",
       "Jackson       3820\n",
       "Montgomery    3440\n",
       "Madison       3360\n",
       "Lincoln       3100\n",
       "Union         3080\n",
       "Marion        2940\n",
       "Monroe        2820\n",
       "Name: locationdesc, dtype: int64"
      ]
     },
     "execution_count": 15,
     "metadata": {},
     "output_type": "execute_result"
    }
   ],
   "source": [
    "location = df['locationdesc']\n",
    "location.groupby(location).count().sort_values(ascending=False).head(10)"
   ]
  },
  {
   "cell_type": "markdown",
   "metadata": {},
   "source": [
    "Bang có nhiều dữ liệu nhất là **Washington County**"
   ]
  },
  {
   "cell_type": "markdown",
   "metadata": {},
   "source": [
    "**Sample:** Dữ liệu được chọn\n",
    "- Giới tính(sex): Overall\n",
    "- Sắc tộc(race/ethnicityage_group): Overall\n",
    "- Tuổi(age_group): Ages 65+ years\n",
    "- Địa điểm(locationdesc): Washington"
   ]
  },
  {
   "cell_type": "code",
   "execution_count": 16,
   "metadata": {},
   "outputs": [
    {
     "data": {
      "text/html": [
       "<div>\n",
       "<style scoped>\n",
       "    .dataframe tbody tr th:only-of-type {\n",
       "        vertical-align: middle;\n",
       "    }\n",
       "\n",
       "    .dataframe tbody tr th {\n",
       "        vertical-align: top;\n",
       "    }\n",
       "\n",
       "    .dataframe thead th {\n",
       "        text-align: right;\n",
       "    }\n",
       "</style>\n",
       "<table border=\"1\" class=\"dataframe\">\n",
       "  <thead>\n",
       "    <tr style=\"text-align: right;\">\n",
       "      <th></th>\n",
       "      <th>locationid</th>\n",
       "      <th>year</th>\n",
       "      <th>locationabbr</th>\n",
       "      <th>locationdesc</th>\n",
       "      <th>age_group</th>\n",
       "      <th>race/ethnicityage_group</th>\n",
       "      <th>sex</th>\n",
       "      <th>x_long</th>\n",
       "      <th>y_lat</th>\n",
       "      <th>data_value</th>\n",
       "      <th>confidence_limit_low</th>\n",
       "      <th>confidence_limit_high</th>\n",
       "    </tr>\n",
       "  </thead>\n",
       "  <tbody>\n",
       "    <tr>\n",
       "      <th>12540</th>\n",
       "      <td>1129</td>\n",
       "      <td>2000</td>\n",
       "      <td>AL</td>\n",
       "      <td>Washington</td>\n",
       "      <td>Ages 65+ years</td>\n",
       "      <td>Overall</td>\n",
       "      <td>Overall</td>\n",
       "      <td>-88.208190</td>\n",
       "      <td>31.407577</td>\n",
       "      <td>517.5</td>\n",
       "      <td>441.5</td>\n",
       "      <td>624.5</td>\n",
       "    </tr>\n",
       "    <tr>\n",
       "      <th>12541</th>\n",
       "      <td>1129</td>\n",
       "      <td>2001</td>\n",
       "      <td>AL</td>\n",
       "      <td>Washington</td>\n",
       "      <td>Ages 65+ years</td>\n",
       "      <td>Overall</td>\n",
       "      <td>Overall</td>\n",
       "      <td>-88.208190</td>\n",
       "      <td>31.407577</td>\n",
       "      <td>525.1</td>\n",
       "      <td>450.5</td>\n",
       "      <td>623.4</td>\n",
       "    </tr>\n",
       "    <tr>\n",
       "      <th>12542</th>\n",
       "      <td>1129</td>\n",
       "      <td>2002</td>\n",
       "      <td>AL</td>\n",
       "      <td>Washington</td>\n",
       "      <td>Ages 65+ years</td>\n",
       "      <td>Overall</td>\n",
       "      <td>Overall</td>\n",
       "      <td>-88.208190</td>\n",
       "      <td>31.407577</td>\n",
       "      <td>567.8</td>\n",
       "      <td>475.3</td>\n",
       "      <td>695.9</td>\n",
       "    </tr>\n",
       "    <tr>\n",
       "      <th>12543</th>\n",
       "      <td>1129</td>\n",
       "      <td>2003</td>\n",
       "      <td>AL</td>\n",
       "      <td>Washington</td>\n",
       "      <td>Ages 65+ years</td>\n",
       "      <td>Overall</td>\n",
       "      <td>Overall</td>\n",
       "      <td>-88.208190</td>\n",
       "      <td>31.407577</td>\n",
       "      <td>589.9</td>\n",
       "      <td>504.5</td>\n",
       "      <td>682.8</td>\n",
       "    </tr>\n",
       "    <tr>\n",
       "      <th>12544</th>\n",
       "      <td>1129</td>\n",
       "      <td>2004</td>\n",
       "      <td>AL</td>\n",
       "      <td>Washington</td>\n",
       "      <td>Ages 65+ years</td>\n",
       "      <td>Overall</td>\n",
       "      <td>Overall</td>\n",
       "      <td>-88.208190</td>\n",
       "      <td>31.407577</td>\n",
       "      <td>634.5</td>\n",
       "      <td>545.1</td>\n",
       "      <td>769.7</td>\n",
       "    </tr>\n",
       "    <tr>\n",
       "      <th>...</th>\n",
       "      <td>...</td>\n",
       "      <td>...</td>\n",
       "      <td>...</td>\n",
       "      <td>...</td>\n",
       "      <td>...</td>\n",
       "      <td>...</td>\n",
       "      <td>...</td>\n",
       "      <td>...</td>\n",
       "      <td>...</td>\n",
       "      <td>...</td>\n",
       "      <td>...</td>\n",
       "      <td>...</td>\n",
       "    </tr>\n",
       "    <tr>\n",
       "      <th>467575</th>\n",
       "      <td>50023</td>\n",
       "      <td>2015</td>\n",
       "      <td>VT</td>\n",
       "      <td>Washington</td>\n",
       "      <td>Ages 65+ years</td>\n",
       "      <td>Overall</td>\n",
       "      <td>Overall</td>\n",
       "      <td>-72.614273</td>\n",
       "      <td>44.273773</td>\n",
       "      <td>504.6</td>\n",
       "      <td>439.7</td>\n",
       "      <td>588.5</td>\n",
       "    </tr>\n",
       "    <tr>\n",
       "      <th>467576</th>\n",
       "      <td>50023</td>\n",
       "      <td>2016</td>\n",
       "      <td>VT</td>\n",
       "      <td>Washington</td>\n",
       "      <td>Ages 65+ years</td>\n",
       "      <td>Overall</td>\n",
       "      <td>Overall</td>\n",
       "      <td>-72.614273</td>\n",
       "      <td>44.273773</td>\n",
       "      <td>499.6</td>\n",
       "      <td>413.7</td>\n",
       "      <td>575.3</td>\n",
       "    </tr>\n",
       "    <tr>\n",
       "      <th>467577</th>\n",
       "      <td>50023</td>\n",
       "      <td>2017</td>\n",
       "      <td>VT</td>\n",
       "      <td>Washington</td>\n",
       "      <td>Ages 65+ years</td>\n",
       "      <td>Overall</td>\n",
       "      <td>Overall</td>\n",
       "      <td>-72.614273</td>\n",
       "      <td>44.273773</td>\n",
       "      <td>544.2</td>\n",
       "      <td>473.1</td>\n",
       "      <td>637.0</td>\n",
       "    </tr>\n",
       "    <tr>\n",
       "      <th>467578</th>\n",
       "      <td>50023</td>\n",
       "      <td>2018</td>\n",
       "      <td>VT</td>\n",
       "      <td>Washington</td>\n",
       "      <td>Ages 65+ years</td>\n",
       "      <td>Overall</td>\n",
       "      <td>Overall</td>\n",
       "      <td>-72.614273</td>\n",
       "      <td>44.273773</td>\n",
       "      <td>563.1</td>\n",
       "      <td>473.9</td>\n",
       "      <td>655.7</td>\n",
       "    </tr>\n",
       "    <tr>\n",
       "      <th>467579</th>\n",
       "      <td>50023</td>\n",
       "      <td>2019</td>\n",
       "      <td>VT</td>\n",
       "      <td>Washington</td>\n",
       "      <td>Ages 65+ years</td>\n",
       "      <td>Overall</td>\n",
       "      <td>Overall</td>\n",
       "      <td>-72.614273</td>\n",
       "      <td>44.273773</td>\n",
       "      <td>567.0</td>\n",
       "      <td>459.9</td>\n",
       "      <td>658.9</td>\n",
       "    </tr>\n",
       "  </tbody>\n",
       "</table>\n",
       "<p>580 rows × 12 columns</p>\n",
       "</div>"
      ],
      "text/plain": [
       "        locationid  year locationabbr locationdesc       age_group  \\\n",
       "12540         1129  2000           AL   Washington  Ages 65+ years   \n",
       "12541         1129  2001           AL   Washington  Ages 65+ years   \n",
       "12542         1129  2002           AL   Washington  Ages 65+ years   \n",
       "12543         1129  2003           AL   Washington  Ages 65+ years   \n",
       "12544         1129  2004           AL   Washington  Ages 65+ years   \n",
       "...            ...   ...          ...          ...             ...   \n",
       "467575       50023  2015           VT   Washington  Ages 65+ years   \n",
       "467576       50023  2016           VT   Washington  Ages 65+ years   \n",
       "467577       50023  2017           VT   Washington  Ages 65+ years   \n",
       "467578       50023  2018           VT   Washington  Ages 65+ years   \n",
       "467579       50023  2019           VT   Washington  Ages 65+ years   \n",
       "\n",
       "       race/ethnicityage_group      sex     x_long      y_lat  data_value  \\\n",
       "12540                  Overall  Overall -88.208190  31.407577       517.5   \n",
       "12541                  Overall  Overall -88.208190  31.407577       525.1   \n",
       "12542                  Overall  Overall -88.208190  31.407577       567.8   \n",
       "12543                  Overall  Overall -88.208190  31.407577       589.9   \n",
       "12544                  Overall  Overall -88.208190  31.407577       634.5   \n",
       "...                        ...      ...        ...        ...         ...   \n",
       "467575                 Overall  Overall -72.614273  44.273773       504.6   \n",
       "467576                 Overall  Overall -72.614273  44.273773       499.6   \n",
       "467577                 Overall  Overall -72.614273  44.273773       544.2   \n",
       "467578                 Overall  Overall -72.614273  44.273773       563.1   \n",
       "467579                 Overall  Overall -72.614273  44.273773       567.0   \n",
       "\n",
       "        confidence_limit_low  confidence_limit_high  \n",
       "12540                  441.5                  624.5  \n",
       "12541                  450.5                  623.4  \n",
       "12542                  475.3                  695.9  \n",
       "12543                  504.5                  682.8  \n",
       "12544                  545.1                  769.7  \n",
       "...                      ...                    ...  \n",
       "467575                 439.7                  588.5  \n",
       "467576                 413.7                  575.3  \n",
       "467577                 473.1                  637.0  \n",
       "467578                 473.9                  655.7  \n",
       "467579                 459.9                  658.9  \n",
       "\n",
       "[580 rows x 12 columns]"
      ]
     },
     "execution_count": 16,
     "metadata": {},
     "output_type": "execute_result"
    }
   ],
   "source": [
    "fr_df = df[(df['sex'] == 'Overall') & (df['race/ethnicityage_group'] == 'Overall') & (df['age_group'] == 'Ages 65+ years') & (df['locationdesc'] == 'Washington')]\n",
    "fr_df"
   ]
  },
  {
   "cell_type": "markdown",
   "metadata": {},
   "source": [
    "## Đánh giá thuật toán"
   ]
  },
  {
   "cell_type": "code",
   "execution_count": 17,
   "metadata": {},
   "outputs": [
    {
     "name": "stdout",
     "output_type": "stream",
     "text": [
      "Mean Squared Error (Degree 4): 5.908283740132591e-11\n"
     ]
    },
    {
     "data": {
      "image/png": "[encoded data removed]",
      "text/plain": [
       "<Figure size 640x480 with 1 Axes>"
      ]
     },
     "metadata": {},
     "output_type": "display_data"
    }
   ],
   "source": [
    "# Xử lý data_value\n",
    "fr_df['data_value'] = pd.to_numeric(fr_df['data_value'], errors='coerce')  # Chuyển đổi 'data_value' thành số\n",
    "fr_df['data_value_scaled'] = StandardScaler().fit_transform(fr_df[['data_value']])\n",
    "fr_df['data_value_log'] = np.log1p(fr_df['data_value'])\n",
    "\n",
    "# Chọn các đặc trưng (features) để làm dự đoán\n",
    "features = fr_df[['year', 'data_value_scaled', 'data_value_log']]\n",
    "target = fr_df['data_value'] # Chọn biến phụ thuộc để dự đoán\n",
    "\n",
    "# Chia dữ liệu thành tập huấn luyện và tập kiểm tra\n",
    "X_train, X_test, y_train, y_test = train_test_split(features, target, test_size=0.2, random_state=42)\n",
    "\n",
    "# Khởi tạo mô hình Polynomial Regression bậc 4\n",
    "degree = 4\n",
    "model = make_pipeline(PolynomialFeatures(degree), LinearRegression())\n",
    "\n",
    "# Huấn luyện mô hình trên tập huấn luyện\n",
    "model.fit(X_train, y_train)\n",
    "\n",
    "# Dự đoán trên tập kiểm tra\n",
    "predictions = model.predict(X_test)\n",
    "\n",
    "# Đánh giá hiệu suất của mô hình\n",
    "mse = mean_squared_error(y_test, predictions)\n",
    "print(f'Mean Squared Error (Degree 4): {mse}')\n",
    "\n",
    "plt.scatter(y_test, predictions)\n",
    "plt.xlabel(\"Giá trị thực tế\")\n",
    "plt.ylabel(\"Giá trị dự đoán\")\n",
    "plt.show()"
   ]
  },
  {
   "cell_type": "markdown",
   "metadata": {},
   "source": [
    "Với Mean Squared Error (MSE) rất thấp, được xem là một kết quả tốt, chỉ ra rằng mô hình của có khả năng dự đoán rất gần với giá trị thực tế. Vậy mô hình đa thức bậc 4 có thể sử dụng để dự đoán data_value."
   ]
  },
  {
   "cell_type": "markdown",
   "metadata": {},
   "source": [
    "## Dự đoán data_value cho năm 2020"
   ]
  },
  {
   "cell_type": "code",
   "execution_count": 18,
   "metadata": {},
   "outputs": [
    {
     "name": "stdout",
     "output_type": "stream",
     "text": [
      "Dự đoán giá trị cho năm 2020: 586.344315379858\n"
     ]
    },
    {
     "data": {
      "image/png": "[encoded data removed]",
      "text/plain": [
       "<Figure size 640x480 with 1 Axes>"
      ]
     },
     "metadata": {},
     "output_type": "display_data"
    }
   ],
   "source": [
    "# Chuẩn bị dữ liệu cho fitting\n",
    "X = fr_df[['year']]\n",
    "y = fr_df['data_value']\n",
    "\n",
    "# Chọn mô hình đa thức bậc 4\n",
    "degree = 4\n",
    "model = make_pipeline(PolynomialFeatures(degree), LinearRegression())\n",
    "\n",
    "# Thực hiện fitting\n",
    "model.fit(X, y)\n",
    "\n",
    "# Dự đoán giá trị cho năm 2020\n",
    "X_2020 = [[2020]]\n",
    "predicted_value_2020 = model.predict(X_2020)\n",
    "print(\"Dự đoán giá trị cho năm 2020:\", predicted_value_2020[0])\n",
    "\n",
    "# Vẽ đồ thị\n",
    "plt.scatter(X, y, color='blue', label='Dữ liệu thực tế')\n",
    "plt.plot(X, model.predict(X), color='red', linewidth=2, label=f'Mô hình fitting (bậc {degree})')\n",
    "plt.scatter(2020, predicted_value_2020, color='green', marker='o', label='Dự đoán cho năm 2020')\n",
    "plt.xticks(fr_df['year'].unique(), rotation=90)\n",
    "plt.xlabel('Năm')\n",
    "plt.legend()\n",
    "plt.show()"
   ]
  },
  {
   "cell_type": "code",
   "execution_count": 19,
   "metadata": {},
   "outputs": [
    {
     "data": {
      "text/plain": [
       "529.7655172413793"
      ]
     },
     "execution_count": 19,
     "metadata": {},
     "output_type": "execute_result"
    }
   ],
   "source": [
    "# Data_value trung bình năm 2019\n",
    "fr_df['data_value'][fr_df['year'] == 2019].mean()"
   ]
  },
  {
   "cell_type": "markdown",
   "metadata": {},
   "source": [
    "**Comment:** \n",
    "- data_value dự đoán của năm 2020 lớn hơn với data_value trung bình của năm 2019 (586 > 529).\n",
    "- Xu hướng gia tăng của data_value qua các năm.\n",
    "\n",
    "Dựa trên các thông tin trên, giá trị dự đoán data_value của năm 2020 có thể xem xét sử dụng."
   ]
  },
  {
   "cell_type": "markdown",
   "metadata": {},
   "source": [
    "# III. Phân loại\n",
    "So sánh lựa chọn mô hình thích hợp cho việc phân loại data_value dựa trên sex và race/ethnicityage"
   ]
  },
  {
   "cell_type": "markdown",
   "metadata": {},
   "source": [
    "## Chia dữ liệu"
   ]
  },
  {
   "cell_type": "code",
   "execution_count": 21,
   "metadata": {},
   "outputs": [],
   "source": [
    "X = _2019_df[['race/ethnicityage_group', 'sex']]\n",
    "y = _2019_df['data_value']"
   ]
  },
  {
   "cell_type": "code",
   "execution_count": 22,
   "metadata": {},
   "outputs": [],
   "source": [
    "X_train,X_test,y_train,y_test = train_test_split(X,y,test_size=0.2,random_state=42)"
   ]
  },
  {
   "cell_type": "markdown",
   "metadata": {},
   "source": [
    "## Decision Tree Classifier"
   ]
  },
  {
   "cell_type": "code",
   "execution_count": 23,
   "metadata": {},
   "outputs": [
    {
     "data": {
      "text/html": [
       "<style>#sk-container-id-1 {color: black;}#sk-container-id-1 pre{padding: 0;}#sk-container-id-1 div.sk-toggleable {background-color: white;}#sk-container-id-1 label.sk-toggleable__label {cursor: pointer;display: block;width: 100%;margin-bottom: 0;padding: 0.3em;box-sizing: border-box;text-align: center;}#sk-container-id-1 label.sk-toggleable__label-arrow:before {content: \"▸\";float: left;margin-right: 0.25em;color: #696969;}#sk-container-id-1 label.sk-toggleable__label-arrow:hover:before {color: black;}#sk-container-id-1 div.sk-estimator:hover label.sk-toggleable__label-arrow:before {color: black;}#sk-container-id-1 div.sk-toggleable__content {max-height: 0;max-width: 0;overflow: hidden;text-align: left;background-color: #f0f8ff;}#sk-container-id-1 div.sk-toggleable__content pre {margin: 0.2em;color: black;border-radius: 0.25em;background-color: #f0f8ff;}#sk-container-id-1 input.sk-toggleable__control:checked~div.sk-toggleable__content {max-height: 200px;max-width: 100%;overflow: auto;}#sk-container-id-1 input.sk-toggleable__control:checked~label.sk-toggleable__label-arrow:before {content: \"▾\";}#sk-container-id-1 div.sk-estimator input.sk-toggleable__control:checked~label.sk-toggleable__label {background-color: #d4ebff;}#sk-container-id-1 div.sk-label input.sk-toggleable__control:checked~label.sk-toggleable__label {background-color: #d4ebff;}#sk-container-id-1 input.sk-hidden--visually {border: 0;clip: rect(1px 1px 1px 1px);clip: rect(1px, 1px, 1px, 1px);height: 1px;margin: -1px;overflow: hidden;padding: 0;position: absolute;width: 1px;}#sk-container-id-1 div.sk-estimator {font-family: monospace;background-color: #f0f8ff;border: 1px dotted black;border-radius: 0.25em;box-sizing: border-box;margin-bottom: 0.5em;}#sk-container-id-1 div.sk-estimator:hover {background-color: #d4ebff;}#sk-container-id-1 div.sk-parallel-item::after {content: \"\";width: 100%;border-bottom: 1px solid gray;flex-grow: 1;}#sk-container-id-1 div.sk-label:hover label.sk-toggleable__label {background-color: #d4ebff;}#sk-container-id-1 div.sk-serial::before {content: \"\";position: absolute;border-left: 1px solid gray;box-sizing: border-box;top: 0;bottom: 0;left: 50%;z-index: 0;}#sk-container-id-1 div.sk-serial {display: flex;flex-direction: column;align-items: center;background-color: white;padding-right: 0.2em;padding-left: 0.2em;position: relative;}#sk-container-id-1 div.sk-item {position: relative;z-index: 1;}#sk-container-id-1 div.sk-parallel {display: flex;align-items: stretch;justify-content: center;background-color: white;position: relative;}#sk-container-id-1 div.sk-item::before, #sk-container-id-1 div.sk-parallel-item::before {content: \"\";position: absolute;border-left: 1px solid gray;box-sizing: border-box;top: 0;bottom: 0;left: 50%;z-index: -1;}#sk-container-id-1 div.sk-parallel-item {display: flex;flex-direction: column;z-index: 1;position: relative;background-color: white;}#sk-container-id-1 div.sk-parallel-item:first-child::after {align-self: flex-end;width: 50%;}#sk-container-id-1 div.sk-parallel-item:last-child::after {align-self: flex-start;width: 50%;}#sk-container-id-1 div.sk-parallel-item:only-child::after {width: 0;}#sk-container-id-1 div.sk-dashed-wrapped {border: 1px dashed gray;margin: 0 0.4em 0.5em 0.4em;box-sizing: border-box;padding-bottom: 0.4em;background-color: white;}#sk-container-id-1 div.sk-label label {font-family: monospace;font-weight: bold;display: inline-block;line-height: 1.2em;}#sk-container-id-1 div.sk-label-container {text-align: center;}#sk-container-id-1 div.sk-container {/* jupyter's `normalize.less` sets `[hidden] { display: none; }` but bootstrap.min.css set `[hidden] { display: none !important; }` so we also need the `!important` here to be able to override the default hidden behavior on the sphinx rendered scikit-learn.org. See: https://github.com/scikit-learn/scikit-learn/issues/21755 */display: inline-block !important;position: relative;}#sk-container-id-1 div.sk-text-repr-fallback {display: none;}</style><div id=\"sk-container-id-1\" class=\"sk-top-container\"><div class=\"sk-text-repr-fallback\"><pre>DecisionTreeClassifier()</pre><b>In a Jupyter environment, please rerun this cell to show the HTML representation or trust the notebook. <br />On GitHub, the HTML representation is unable to render, please try loading this page with nbviewer.org.</b></div><div class=\"sk-container\" hidden><div class=\"sk-item\"><div class=\"sk-estimator sk-toggleable\"><input class=\"sk-toggleable__control sk-hidden--visually\" id=\"sk-estimator-id-1\" type=\"checkbox\" checked><label for=\"sk-estimator-id-1\" class=\"sk-toggleable__label sk-toggleable__label-arrow\">DecisionTreeClassifier</label><div class=\"sk-toggleable__content\"><pre>DecisionTreeClassifier()</pre></div></div></div></div></div>"
      ],
      "text/plain": [
       "DecisionTreeClassifier()"
      ]
     },
     "execution_count": 23,
     "metadata": {},
     "output_type": "execute_result"
    }
   ],
   "source": [
    "DT = DecisionTreeClassifier()\n",
    "DT.fit(X_train,y_train)"
   ]
  },
  {
   "cell_type": "code",
   "execution_count": 24,
   "metadata": {},
   "outputs": [
    {
     "name": "stdout",
     "output_type": "stream",
     "text": [
      "Accuracy =  79.0  %\n"
     ]
    }
   ],
   "source": [
    "y_prediction = DT.predict(X_test)\n",
    "tree_train_acc = round(accuracy_score(y_train,DT.predict(X_train))*100,2)\n",
    "tree_test_acc = round(accuracy_score(y_test,y_prediction)*100,2)\n",
    "print('Accuracy = ' , tree_test_acc,' %')"
   ]
  },
  {
   "cell_type": "code",
   "execution_count": 25,
   "metadata": {},
   "outputs": [
    {
     "name": "stdout",
     "output_type": "stream",
     "text": [
      "              precision    recall  f1-score   support\n",
      "\n",
      "           0       0.84      0.71      0.77      3268\n",
      "           1       0.76      0.86      0.81      3346\n",
      "\n",
      "    accuracy                           0.79      6614\n",
      "   macro avg       0.80      0.79      0.79      6614\n",
      "weighted avg       0.80      0.79      0.79      6614\n",
      "\n"
     ]
    }
   ],
   "source": [
    "print(classification_report(\n",
    "\n",
    "    y_test,\n",
    "    DT.predict(X_test)\n",
    "\n",
    "))"
   ]
  },
  {
   "cell_type": "markdown",
   "metadata": {},
   "source": [
    "## Random Forest Classifier"
   ]
  },
  {
   "cell_type": "code",
   "execution_count": 26,
   "metadata": {},
   "outputs": [
    {
     "data": {
      "text/html": [
       "<style>#sk-container-id-2 {color: black;}#sk-container-id-2 pre{padding: 0;}#sk-container-id-2 div.sk-toggleable {background-color: white;}#sk-container-id-2 label.sk-toggleable__label {cursor: pointer;display: block;width: 100%;margin-bottom: 0;padding: 0.3em;box-sizing: border-box;text-align: center;}#sk-container-id-2 label.sk-toggleable__label-arrow:before {content: \"▸\";float: left;margin-right: 0.25em;color: #696969;}#sk-container-id-2 label.sk-toggleable__label-arrow:hover:before {color: black;}#sk-container-id-2 div.sk-estimator:hover label.sk-toggleable__label-arrow:before {color: black;}#sk-container-id-2 div.sk-toggleable__content {max-height: 0;max-width: 0;overflow: hidden;text-align: left;background-color: #f0f8ff;}#sk-container-id-2 div.sk-toggleable__content pre {margin: 0.2em;color: black;border-radius: 0.25em;background-color: #f0f8ff;}#sk-container-id-2 input.sk-toggleable__control:checked~div.sk-toggleable__content {max-height: 200px;max-width: 100%;overflow: auto;}#sk-container-id-2 input.sk-toggleable__control:checked~label.sk-toggleable__label-arrow:before {content: \"▾\";}#sk-container-id-2 div.sk-estimator input.sk-toggleable__control:checked~label.sk-toggleable__label {background-color: #d4ebff;}#sk-container-id-2 div.sk-label input.sk-toggleable__control:checked~label.sk-toggleable__label {background-color: #d4ebff;}#sk-container-id-2 input.sk-hidden--visually {border: 0;clip: rect(1px 1px 1px 1px);clip: rect(1px, 1px, 1px, 1px);height: 1px;margin: -1px;overflow: hidden;padding: 0;position: absolute;width: 1px;}#sk-container-id-2 div.sk-estimator {font-family: monospace;background-color: #f0f8ff;border: 1px dotted black;border-radius: 0.25em;box-sizing: border-box;margin-bottom: 0.5em;}#sk-container-id-2 div.sk-estimator:hover {background-color: #d4ebff;}#sk-container-id-2 div.sk-parallel-item::after {content: \"\";width: 100%;border-bottom: 1px solid gray;flex-grow: 1;}#sk-container-id-2 div.sk-label:hover label.sk-toggleable__label {background-color: #d4ebff;}#sk-container-id-2 div.sk-serial::before {content: \"\";position: absolute;border-left: 1px solid gray;box-sizing: border-box;top: 0;bottom: 0;left: 50%;z-index: 0;}#sk-container-id-2 div.sk-serial {display: flex;flex-direction: column;align-items: center;background-color: white;padding-right: 0.2em;padding-left: 0.2em;position: relative;}#sk-container-id-2 div.sk-item {position: relative;z-index: 1;}#sk-container-id-2 div.sk-parallel {display: flex;align-items: stretch;justify-content: center;background-color: white;position: relative;}#sk-container-id-2 div.sk-item::before, #sk-container-id-2 div.sk-parallel-item::before {content: \"\";position: absolute;border-left: 1px solid gray;box-sizing: border-box;top: 0;bottom: 0;left: 50%;z-index: -1;}#sk-container-id-2 div.sk-parallel-item {display: flex;flex-direction: column;z-index: 1;position: relative;background-color: white;}#sk-container-id-2 div.sk-parallel-item:first-child::after {align-self: flex-end;width: 50%;}#sk-container-id-2 div.sk-parallel-item:last-child::after {align-self: flex-start;width: 50%;}#sk-container-id-2 div.sk-parallel-item:only-child::after {width: 0;}#sk-container-id-2 div.sk-dashed-wrapped {border: 1px dashed gray;margin: 0 0.4em 0.5em 0.4em;box-sizing: border-box;padding-bottom: 0.4em;background-color: white;}#sk-container-id-2 div.sk-label label {font-family: monospace;font-weight: bold;display: inline-block;line-height: 1.2em;}#sk-container-id-2 div.sk-label-container {text-align: center;}#sk-container-id-2 div.sk-container {/* jupyter's `normalize.less` sets `[hidden] { display: none; }` but bootstrap.min.css set `[hidden] { display: none !important; }` so we also need the `!important` here to be able to override the default hidden behavior on the sphinx rendered scikit-learn.org. See: https://github.com/scikit-learn/scikit-learn/issues/21755 */display: inline-block !important;position: relative;}#sk-container-id-2 div.sk-text-repr-fallback {display: none;}</style><div id=\"sk-container-id-2\" class=\"sk-top-container\"><div class=\"sk-text-repr-fallback\"><pre>RandomForestClassifier()</pre><b>In a Jupyter environment, please rerun this cell to show the HTML representation or trust the notebook. <br />On GitHub, the HTML representation is unable to render, please try loading this page with nbviewer.org.</b></div><div class=\"sk-container\" hidden><div class=\"sk-item\"><div class=\"sk-estimator sk-toggleable\"><input class=\"sk-toggleable__control sk-hidden--visually\" id=\"sk-estimator-id-2\" type=\"checkbox\" checked><label for=\"sk-estimator-id-2\" class=\"sk-toggleable__label sk-toggleable__label-arrow\">RandomForestClassifier</label><div class=\"sk-toggleable__content\"><pre>RandomForestClassifier()</pre></div></div></div></div></div>"
      ],
      "text/plain": [
       "RandomForestClassifier()"
      ]
     },
     "execution_count": 26,
     "metadata": {},
     "output_type": "execute_result"
    }
   ],
   "source": [
    "RF = RandomForestClassifier()\n",
    "RF.fit(X_train,y_train)"
   ]
  },
  {
   "cell_type": "code",
   "execution_count": 27,
   "metadata": {},
   "outputs": [
    {
     "name": "stdout",
     "output_type": "stream",
     "text": [
      "Accuracy =  79.0  %\n"
     ]
    }
   ],
   "source": [
    "y_prediction = RF.predict(X_test)\n",
    "rdm_train_acc = round(accuracy_score(y_train,RF.predict(X_train))*100,2)\n",
    "rdm_test_acc = round(accuracy_score(y_test,y_prediction)*100,2)\n",
    "print('Accuracy = ' , rdm_test_acc,' %')"
   ]
  },
  {
   "cell_type": "code",
   "execution_count": 28,
   "metadata": {},
   "outputs": [
    {
     "name": "stdout",
     "output_type": "stream",
     "text": [
      "              precision    recall  f1-score   support\n",
      "\n",
      "           0       0.84      0.71      0.77      3268\n",
      "           1       0.76      0.86      0.81      3346\n",
      "\n",
      "    accuracy                           0.79      6614\n",
      "   macro avg       0.80      0.79      0.79      6614\n",
      "weighted avg       0.80      0.79      0.79      6614\n",
      "\n"
     ]
    }
   ],
   "source": [
    "print(classification_report(\n",
    "\n",
    "    y_test,\n",
    "    RF.predict(X_test)\n",
    "\n",
    "))"
   ]
  },
  {
   "cell_type": "markdown",
   "metadata": {},
   "source": [
    "## Logistic Regression Classifier"
   ]
  },
  {
   "cell_type": "code",
   "execution_count": 29,
   "metadata": {},
   "outputs": [
    {
     "data": {
      "text/html": [
       "<style>#sk-container-id-3 {color: black;}#sk-container-id-3 pre{padding: 0;}#sk-container-id-3 div.sk-toggleable {background-color: white;}#sk-container-id-3 label.sk-toggleable__label {cursor: pointer;display: block;width: 100%;margin-bottom: 0;padding: 0.3em;box-sizing: border-box;text-align: center;}#sk-container-id-3 label.sk-toggleable__label-arrow:before {content: \"▸\";float: left;margin-right: 0.25em;color: #696969;}#sk-container-id-3 label.sk-toggleable__label-arrow:hover:before {color: black;}#sk-container-id-3 div.sk-estimator:hover label.sk-toggleable__label-arrow:before {color: black;}#sk-container-id-3 div.sk-toggleable__content {max-height: 0;max-width: 0;overflow: hidden;text-align: left;background-color: #f0f8ff;}#sk-container-id-3 div.sk-toggleable__content pre {margin: 0.2em;color: black;border-radius: 0.25em;background-color: #f0f8ff;}#sk-container-id-3 input.sk-toggleable__control:checked~div.sk-toggleable__content {max-height: 200px;max-width: 100%;overflow: auto;}#sk-container-id-3 input.sk-toggleable__control:checked~label.sk-toggleable__label-arrow:before {content: \"▾\";}#sk-container-id-3 div.sk-estimator input.sk-toggleable__control:checked~label.sk-toggleable__label {background-color: #d4ebff;}#sk-container-id-3 div.sk-label input.sk-toggleable__control:checked~label.sk-toggleable__label {background-color: #d4ebff;}#sk-container-id-3 input.sk-hidden--visually {border: 0;clip: rect(1px 1px 1px 1px);clip: rect(1px, 1px, 1px, 1px);height: 1px;margin: -1px;overflow: hidden;padding: 0;position: absolute;width: 1px;}#sk-container-id-3 div.sk-estimator {font-family: monospace;background-color: #f0f8ff;border: 1px dotted black;border-radius: 0.25em;box-sizing: border-box;margin-bottom: 0.5em;}#sk-container-id-3 div.sk-estimator:hover {background-color: #d4ebff;}#sk-container-id-3 div.sk-parallel-item::after {content: \"\";width: 100%;border-bottom: 1px solid gray;flex-grow: 1;}#sk-container-id-3 div.sk-label:hover label.sk-toggleable__label {background-color: #d4ebff;}#sk-container-id-3 div.sk-serial::before {content: \"\";position: absolute;border-left: 1px solid gray;box-sizing: border-box;top: 0;bottom: 0;left: 50%;z-index: 0;}#sk-container-id-3 div.sk-serial {display: flex;flex-direction: column;align-items: center;background-color: white;padding-right: 0.2em;padding-left: 0.2em;position: relative;}#sk-container-id-3 div.sk-item {position: relative;z-index: 1;}#sk-container-id-3 div.sk-parallel {display: flex;align-items: stretch;justify-content: center;background-color: white;position: relative;}#sk-container-id-3 div.sk-item::before, #sk-container-id-3 div.sk-parallel-item::before {content: \"\";position: absolute;border-left: 1px solid gray;box-sizing: border-box;top: 0;bottom: 0;left: 50%;z-index: -1;}#sk-container-id-3 div.sk-parallel-item {display: flex;flex-direction: column;z-index: 1;position: relative;background-color: white;}#sk-container-id-3 div.sk-parallel-item:first-child::after {align-self: flex-end;width: 50%;}#sk-container-id-3 div.sk-parallel-item:last-child::after {align-self: flex-start;width: 50%;}#sk-container-id-3 div.sk-parallel-item:only-child::after {width: 0;}#sk-container-id-3 div.sk-dashed-wrapped {border: 1px dashed gray;margin: 0 0.4em 0.5em 0.4em;box-sizing: border-box;padding-bottom: 0.4em;background-color: white;}#sk-container-id-3 div.sk-label label {font-family: monospace;font-weight: bold;display: inline-block;line-height: 1.2em;}#sk-container-id-3 div.sk-label-container {text-align: center;}#sk-container-id-3 div.sk-container {/* jupyter's `normalize.less` sets `[hidden] { display: none; }` but bootstrap.min.css set `[hidden] { display: none !important; }` so we also need the `!important` here to be able to override the default hidden behavior on the sphinx rendered scikit-learn.org. See: https://github.com/scikit-learn/scikit-learn/issues/21755 */display: inline-block !important;position: relative;}#sk-container-id-3 div.sk-text-repr-fallback {display: none;}</style><div id=\"sk-container-id-3\" class=\"sk-top-container\"><div class=\"sk-text-repr-fallback\"><pre>LogisticRegression()</pre><b>In a Jupyter environment, please rerun this cell to show the HTML representation or trust the notebook. <br />On GitHub, the HTML representation is unable to render, please try loading this page with nbviewer.org.</b></div><div class=\"sk-container\" hidden><div class=\"sk-item\"><div class=\"sk-estimator sk-toggleable\"><input class=\"sk-toggleable__control sk-hidden--visually\" id=\"sk-estimator-id-3\" type=\"checkbox\" checked><label for=\"sk-estimator-id-3\" class=\"sk-toggleable__label sk-toggleable__label-arrow\">LogisticRegression</label><div class=\"sk-toggleable__content\"><pre>LogisticRegression()</pre></div></div></div></div></div>"
      ],
      "text/plain": [
       "LogisticRegression()"
      ]
     },
     "execution_count": 29,
     "metadata": {},
     "output_type": "execute_result"
    }
   ],
   "source": [
    "LR = LogisticRegression()\n",
    "LR.fit(X_train,y_train)"
   ]
  },
  {
   "cell_type": "code",
   "execution_count": 30,
   "metadata": {},
   "outputs": [
    {
     "name": "stdout",
     "output_type": "stream",
     "text": [
      "Accuracy =  68.43  %\n"
     ]
    }
   ],
   "source": [
    "y_prediction = LR.predict(X_test)\n",
    "lr_train_acc = round(accuracy_score(y_train,LR.predict(X_train))*100,2)\n",
    "lr_test_acc = round(accuracy_score(y_test,y_prediction)*100,2)\n",
    "print('Accuracy = ',lr_test_acc ,' %')"
   ]
  },
  {
   "cell_type": "code",
   "execution_count": 31,
   "metadata": {},
   "outputs": [
    {
     "name": "stdout",
     "output_type": "stream",
     "text": [
      "              precision    recall  f1-score   support\n",
      "\n",
      "           0       0.68      0.68      0.68      3268\n",
      "           1       0.69      0.69      0.69      3346\n",
      "\n",
      "    accuracy                           0.68      6614\n",
      "   macro avg       0.68      0.68      0.68      6614\n",
      "weighted avg       0.68      0.68      0.68      6614\n",
      "\n"
     ]
    }
   ],
   "source": [
    "print(classification_report(\n",
    "\n",
    "    y_test,\n",
    "    LR.predict(X_test)\n",
    "\n",
    "))"
   ]
  },
  {
   "cell_type": "markdown",
   "metadata": {},
   "source": [
    "## Kết luận:\n",
    "2 mô hình **Decision Tree Classifier** và **Random Forest Classifier** thích hợp cho việc phân loại bộ dữ liệu với với accuracy = 79%"
   ]
  }
 ],
 "metadata": {
  "kernelspec": {
   "display_name": "base",
   "language": "python",
   "name": "python3"
  },
  "language_info": {
   "codemirror_mode": {
    "name": "ipython",
    "version": 3
   },
   "file_extension": ".py",
   "mimetype": "text/x-python",
   "name": "python",
   "nbconvert_exporter": "python",
   "pygments_lexer": "ipython3",
   "version": "3.11.4"
  }
 },
 "nbformat": 4,
 "nbformat_minor": 2
}

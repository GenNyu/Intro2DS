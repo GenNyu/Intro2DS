{
 "cells": [
  {
   "cell_type": "markdown",
   "metadata": {},
   "source": [
    "<div style=\"text-align: center; background-color: #0A6EBD; font-family: 'Trebuchet MS', Arial, sans-serif; color: white; padding: 20px; font-size: 30px; font-weight: bold; border-radius: 0 0 0 0; box-shadow: 0px 6px 8px rgba(0, 0, 0, 0.2);\">\n",
    "  Đồ án thực hành Cuối kỳ - Nhập môn Khoa học Dữ liệu  \n",
    "</div>"
   ]
  },
  {
   "cell_type": "markdown",
   "metadata": {},
   "source": [
    "### Giảng viên hướng dẫn:\n",
    "- Thầy Lê Nhựt Nam\n",
    "- Cô Nguyễn Thị Thu Hằng\n",
    "- Thầy Trần Quốc Huy\n",
    "### Thông tin nhóm: Nhóm 23\n",
    "| HỌ TÊN                | MSSV      |\n",
    "|:------------------    |:--------: |\n",
    "| Lê Trần Minh Khuê     | 21120279  |\n",
    "| Hoàng Trung Nam       | 21120290  |\n",
    "| Phan Cao Nguyên       | 21120299  |\n",
    "| Nguyễn Phương    Thảo | 21120336  |\n",
    "\n",
    "### Chủ đề: Heart Attack Analysis & Prediction\n"
   ]
  },
  {
   "cell_type": "markdown",
   "metadata": {},
   "source": [
    "<div style=\"text-align: left; background-color: #5A96E3; font-family: 'Trebuchet MS', Arial, sans-serif; color: white; padding: 5px; font-size: 25px; font-weight: bold; border-radius: 0 0 0 0; box-shadow: 0px 6px 8px rgba(0, 0, 0, 0.2);\">\n",
    "  Pha 02 – Xây dựng mô hình dữ liệu và đánh giá 📌\n",
    "</div>"
   ]
  },
  {
   "cell_type": "markdown",
   "metadata": {},
   "source": [
    "Thêm các thư viện cần thiết"
   ]
  },
  {
   "cell_type": "code",
<<<<<<< Updated upstream
   "execution_count": 112,
=======
   "execution_count": 48,
>>>>>>> Stashed changes
   "metadata": {},
   "outputs": [],
   "source": [
    "import pandas as pd\n",
    "import numpy as np\n",
    "import matplotlib.pyplot as plt\n",
    "from datetime import date\n",
    "import seaborn as sns\n",
    "from datetime import datetime \n",
    "\n",
    "import warnings\n",
    "warnings.filterwarnings('ignore')"
   ]
  },
  {
   "cell_type": "markdown",
   "metadata": {},
   "source": [
    "# I. Tiền xử lý dữ liệu"
   ]
  },
  {
   "cell_type": "code",
<<<<<<< Updated upstream
   "execution_count": 113,
=======
   "execution_count": 49,
>>>>>>> Stashed changes
   "metadata": {},
   "outputs": [
    {
     "data": {
      "text/html": [
       "<div>\n",
       "<style scoped>\n",
       "    .dataframe tbody tr th:only-of-type {\n",
       "        vertical-align: middle;\n",
       "    }\n",
       "\n",
       "    .dataframe tbody tr th {\n",
       "        vertical-align: top;\n",
       "    }\n",
       "\n",
       "    .dataframe thead th {\n",
       "        text-align: right;\n",
       "    }\n",
       "</style>\n",
       "<table border=\"1\" class=\"dataframe\">\n",
       "  <thead>\n",
       "    <tr style=\"text-align: right;\">\n",
       "      <th></th>\n",
       "      <th>locationid</th>\n",
       "      <th>year</th>\n",
       "      <th>locationabbr</th>\n",
       "      <th>locationdesc</th>\n",
       "      <th>age_group</th>\n",
       "      <th>race/ethnicityage_group</th>\n",
       "      <th>sex</th>\n",
       "      <th>x_long</th>\n",
       "      <th>y_lat</th>\n",
       "      <th>data_value</th>\n",
       "      <th>confidence_limit_low</th>\n",
       "      <th>confidence_limit_high</th>\n",
       "    </tr>\n",
       "  </thead>\n",
       "  <tbody>\n",
       "    <tr>\n",
       "      <th>0</th>\n",
       "      <td>1001</td>\n",
       "      <td>2000</td>\n",
       "      <td>AL</td>\n",
       "      <td>Autauga</td>\n",
       "      <td>Ages 35-64 years</td>\n",
       "      <td>Black</td>\n",
       "      <td>Overall</td>\n",
       "      <td>-86.642959</td>\n",
       "      <td>32.535306</td>\n",
       "      <td>76.9</td>\n",
       "      <td>61.5</td>\n",
       "      <td>99.6</td>\n",
       "    </tr>\n",
       "    <tr>\n",
       "      <th>1</th>\n",
       "      <td>1001</td>\n",
       "      <td>2001</td>\n",
       "      <td>AL</td>\n",
       "      <td>Autauga</td>\n",
       "      <td>Ages 35-64 years</td>\n",
       "      <td>Black</td>\n",
       "      <td>Overall</td>\n",
       "      <td>-86.642959</td>\n",
       "      <td>32.535306</td>\n",
       "      <td>83.4</td>\n",
       "      <td>69.0</td>\n",
       "      <td>126.7</td>\n",
       "    </tr>\n",
       "    <tr>\n",
       "      <th>2</th>\n",
       "      <td>1001</td>\n",
       "      <td>2002</td>\n",
       "      <td>AL</td>\n",
       "      <td>Autauga</td>\n",
       "      <td>Ages 35-64 years</td>\n",
       "      <td>Black</td>\n",
       "      <td>Overall</td>\n",
       "      <td>-86.642959</td>\n",
       "      <td>32.535306</td>\n",
       "      <td>86.2</td>\n",
       "      <td>66.7</td>\n",
       "      <td>122.1</td>\n",
       "    </tr>\n",
       "    <tr>\n",
       "      <th>3</th>\n",
       "      <td>1001</td>\n",
       "      <td>2003</td>\n",
       "      <td>AL</td>\n",
       "      <td>Autauga</td>\n",
       "      <td>Ages 35-64 years</td>\n",
       "      <td>Black</td>\n",
       "      <td>Overall</td>\n",
       "      <td>-86.642959</td>\n",
       "      <td>32.535306</td>\n",
       "      <td>81.6</td>\n",
       "      <td>58.5</td>\n",
       "      <td>117.0</td>\n",
       "    </tr>\n",
       "    <tr>\n",
       "      <th>4</th>\n",
       "      <td>1001</td>\n",
       "      <td>2004</td>\n",
       "      <td>AL</td>\n",
       "      <td>Autauga</td>\n",
       "      <td>Ages 35-64 years</td>\n",
       "      <td>Black</td>\n",
       "      <td>Overall</td>\n",
       "      <td>-86.642959</td>\n",
       "      <td>32.535306</td>\n",
       "      <td>84.7</td>\n",
       "      <td>63.7</td>\n",
       "      <td>114.6</td>\n",
       "    </tr>\n",
       "    <tr>\n",
       "      <th>...</th>\n",
       "      <td>...</td>\n",
       "      <td>...</td>\n",
       "      <td>...</td>\n",
       "      <td>...</td>\n",
       "      <td>...</td>\n",
       "      <td>...</td>\n",
       "      <td>...</td>\n",
       "      <td>...</td>\n",
       "      <td>...</td>\n",
       "      <td>...</td>\n",
       "      <td>...</td>\n",
       "      <td>...</td>\n",
       "    </tr>\n",
       "    <tr>\n",
       "      <th>472677</th>\n",
       "      <td>51053</td>\n",
       "      <td>2017</td>\n",
       "      <td>VA</td>\n",
       "      <td>Dinwiddie</td>\n",
       "      <td>Ages 65+ years</td>\n",
       "      <td>Black</td>\n",
       "      <td>Overall</td>\n",
       "      <td>-77.632205</td>\n",
       "      <td>37.076015</td>\n",
       "      <td>338.8</td>\n",
       "      <td>286.0</td>\n",
       "      <td>402.8</td>\n",
       "    </tr>\n",
       "    <tr>\n",
       "      <th>472678</th>\n",
       "      <td>51053</td>\n",
       "      <td>2018</td>\n",
       "      <td>VA</td>\n",
       "      <td>Dinwiddie</td>\n",
       "      <td>Ages 65+ years</td>\n",
       "      <td>Black</td>\n",
       "      <td>Overall</td>\n",
       "      <td>-77.632205</td>\n",
       "      <td>37.076015</td>\n",
       "      <td>321.9</td>\n",
       "      <td>261.5</td>\n",
       "      <td>415.1</td>\n",
       "    </tr>\n",
       "    <tr>\n",
       "      <th>472679</th>\n",
       "      <td>51053</td>\n",
       "      <td>2019</td>\n",
       "      <td>VA</td>\n",
       "      <td>Dinwiddie</td>\n",
       "      <td>Ages 65+ years</td>\n",
       "      <td>Black</td>\n",
       "      <td>Overall</td>\n",
       "      <td>-77.632205</td>\n",
       "      <td>37.076015</td>\n",
       "      <td>334.5</td>\n",
       "      <td>272.5</td>\n",
       "      <td>459.4</td>\n",
       "    </tr>\n",
       "    <tr>\n",
       "      <th>472680</th>\n",
       "      <td>51053</td>\n",
       "      <td>2000</td>\n",
       "      <td>VA</td>\n",
       "      <td>Dinwiddie</td>\n",
       "      <td>Ages 65+ years</td>\n",
       "      <td>Overall</td>\n",
       "      <td>Female</td>\n",
       "      <td>-77.632205</td>\n",
       "      <td>37.076015</td>\n",
       "      <td>433.1</td>\n",
       "      <td>342.3</td>\n",
       "      <td>525.8</td>\n",
       "    </tr>\n",
       "    <tr>\n",
       "      <th>472681</th>\n",
       "      <td>51053</td>\n",
       "      <td>2001</td>\n",
       "      <td>VA</td>\n",
       "      <td>Dinwiddie</td>\n",
       "      <td>Ages 65+ years</td>\n",
       "      <td>Overall</td>\n",
       "      <td>Female</td>\n",
       "      <td>-77.632205</td>\n",
       "      <td>37.076015</td>\n",
       "      <td>453.0</td>\n",
       "      <td>347.3</td>\n",
       "      <td>557.2</td>\n",
       "    </tr>\n",
       "  </tbody>\n",
       "</table>\n",
       "<p>472682 rows × 12 columns</p>\n",
       "</div>"
      ],
      "text/plain": [
       "        locationid  year locationabbr locationdesc         age_group  \\\n",
       "0             1001  2000           AL      Autauga  Ages 35-64 years   \n",
       "1             1001  2001           AL      Autauga  Ages 35-64 years   \n",
       "2             1001  2002           AL      Autauga  Ages 35-64 years   \n",
       "3             1001  2003           AL      Autauga  Ages 35-64 years   \n",
       "4             1001  2004           AL      Autauga  Ages 35-64 years   \n",
       "...            ...   ...          ...          ...               ...   \n",
       "472677       51053  2017           VA    Dinwiddie    Ages 65+ years   \n",
       "472678       51053  2018           VA    Dinwiddie    Ages 65+ years   \n",
       "472679       51053  2019           VA    Dinwiddie    Ages 65+ years   \n",
       "472680       51053  2000           VA    Dinwiddie    Ages 65+ years   \n",
       "472681       51053  2001           VA    Dinwiddie    Ages 65+ years   \n",
       "\n",
       "       race/ethnicityage_group      sex     x_long      y_lat  data_value  \\\n",
       "0                        Black  Overall -86.642959  32.535306        76.9   \n",
       "1                        Black  Overall -86.642959  32.535306        83.4   \n",
       "2                        Black  Overall -86.642959  32.535306        86.2   \n",
       "3                        Black  Overall -86.642959  32.535306        81.6   \n",
       "4                        Black  Overall -86.642959  32.535306        84.7   \n",
       "...                        ...      ...        ...        ...         ...   \n",
       "472677                   Black  Overall -77.632205  37.076015       338.8   \n",
       "472678                   Black  Overall -77.632205  37.076015       321.9   \n",
       "472679                   Black  Overall -77.632205  37.076015       334.5   \n",
       "472680                 Overall   Female -77.632205  37.076015       433.1   \n",
       "472681                 Overall   Female -77.632205  37.076015       453.0   \n",
       "\n",
       "        confidence_limit_low  confidence_limit_high  \n",
       "0                       61.5                   99.6  \n",
       "1                       69.0                  126.7  \n",
       "2                       66.7                  122.1  \n",
       "3                       58.5                  117.0  \n",
       "4                       63.7                  114.6  \n",
       "...                      ...                    ...  \n",
       "472677                 286.0                  402.8  \n",
       "472678                 261.5                  415.1  \n",
       "472679                 272.5                  459.4  \n",
       "472680                 342.3                  525.8  \n",
       "472681                 347.3                  557.2  \n",
       "\n",
       "[472682 rows x 12 columns]"
      ]
     },
<<<<<<< Updated upstream
     "execution_count": 113,
=======
     "execution_count": 49,
>>>>>>> Stashed changes
     "metadata": {},
     "output_type": "execute_result"
    }
   ],
   "source": [
    "smoothed_df = pd.read_csv('Data/smoothed_rate_df.csv')\n",
    "smoothed_df"
   ]
  },
  {
   "cell_type": "markdown",
   "metadata": {},
   "source": [
    "## I.1 Loại bỏ các cột không cần thiết"
   ]
  },
  {
   "cell_type": "code",
<<<<<<< Updated upstream
   "execution_count": 114,
=======
   "execution_count": 50,
>>>>>>> Stashed changes
   "metadata": {},
   "outputs": [
    {
     "data": {
      "text/html": [
       "<div>\n",
       "<style scoped>\n",
       "    .dataframe tbody tr th:only-of-type {\n",
       "        vertical-align: middle;\n",
       "    }\n",
       "\n",
       "    .dataframe tbody tr th {\n",
       "        vertical-align: top;\n",
       "    }\n",
       "\n",
       "    .dataframe thead th {\n",
       "        text-align: right;\n",
       "    }\n",
       "</style>\n",
       "<table border=\"1\" class=\"dataframe\">\n",
       "  <thead>\n",
       "    <tr style=\"text-align: right;\">\n",
       "      <th></th>\n",
       "      <th>locationid</th>\n",
       "      <th>year</th>\n",
       "      <th>locationabbr</th>\n",
       "      <th>locationdesc</th>\n",
       "      <th>age_group</th>\n",
       "      <th>race/ethnicityage_group</th>\n",
       "      <th>sex</th>\n",
       "      <th>data_value</th>\n",
       "    </tr>\n",
       "  </thead>\n",
       "  <tbody>\n",
       "    <tr>\n",
       "      <th>0</th>\n",
       "      <td>1001</td>\n",
       "      <td>2000</td>\n",
       "      <td>AL</td>\n",
       "      <td>Autauga</td>\n",
       "      <td>Ages 35-64 years</td>\n",
       "      <td>Black</td>\n",
       "      <td>Overall</td>\n",
       "      <td>76.9</td>\n",
       "    </tr>\n",
       "    <tr>\n",
       "      <th>1</th>\n",
       "      <td>1001</td>\n",
       "      <td>2001</td>\n",
       "      <td>AL</td>\n",
       "      <td>Autauga</td>\n",
       "      <td>Ages 35-64 years</td>\n",
       "      <td>Black</td>\n",
       "      <td>Overall</td>\n",
       "      <td>83.4</td>\n",
       "    </tr>\n",
       "    <tr>\n",
       "      <th>2</th>\n",
       "      <td>1001</td>\n",
       "      <td>2002</td>\n",
       "      <td>AL</td>\n",
       "      <td>Autauga</td>\n",
       "      <td>Ages 35-64 years</td>\n",
       "      <td>Black</td>\n",
       "      <td>Overall</td>\n",
       "      <td>86.2</td>\n",
       "    </tr>\n",
       "    <tr>\n",
       "      <th>3</th>\n",
       "      <td>1001</td>\n",
       "      <td>2003</td>\n",
       "      <td>AL</td>\n",
       "      <td>Autauga</td>\n",
       "      <td>Ages 35-64 years</td>\n",
       "      <td>Black</td>\n",
       "      <td>Overall</td>\n",
       "      <td>81.6</td>\n",
       "    </tr>\n",
       "    <tr>\n",
       "      <th>4</th>\n",
       "      <td>1001</td>\n",
       "      <td>2004</td>\n",
       "      <td>AL</td>\n",
       "      <td>Autauga</td>\n",
       "      <td>Ages 35-64 years</td>\n",
       "      <td>Black</td>\n",
       "      <td>Overall</td>\n",
       "      <td>84.7</td>\n",
       "    </tr>\n",
       "    <tr>\n",
       "      <th>...</th>\n",
       "      <td>...</td>\n",
       "      <td>...</td>\n",
       "      <td>...</td>\n",
       "      <td>...</td>\n",
       "      <td>...</td>\n",
       "      <td>...</td>\n",
       "      <td>...</td>\n",
       "      <td>...</td>\n",
       "    </tr>\n",
       "    <tr>\n",
       "      <th>472677</th>\n",
       "      <td>51053</td>\n",
       "      <td>2017</td>\n",
       "      <td>VA</td>\n",
       "      <td>Dinwiddie</td>\n",
       "      <td>Ages 65+ years</td>\n",
       "      <td>Black</td>\n",
       "      <td>Overall</td>\n",
       "      <td>338.8</td>\n",
       "    </tr>\n",
       "    <tr>\n",
       "      <th>472678</th>\n",
       "      <td>51053</td>\n",
       "      <td>2018</td>\n",
       "      <td>VA</td>\n",
       "      <td>Dinwiddie</td>\n",
       "      <td>Ages 65+ years</td>\n",
       "      <td>Black</td>\n",
       "      <td>Overall</td>\n",
       "      <td>321.9</td>\n",
       "    </tr>\n",
       "    <tr>\n",
       "      <th>472679</th>\n",
       "      <td>51053</td>\n",
       "      <td>2019</td>\n",
       "      <td>VA</td>\n",
       "      <td>Dinwiddie</td>\n",
       "      <td>Ages 65+ years</td>\n",
       "      <td>Black</td>\n",
       "      <td>Overall</td>\n",
       "      <td>334.5</td>\n",
       "    </tr>\n",
       "    <tr>\n",
       "      <th>472680</th>\n",
       "      <td>51053</td>\n",
       "      <td>2000</td>\n",
       "      <td>VA</td>\n",
       "      <td>Dinwiddie</td>\n",
       "      <td>Ages 65+ years</td>\n",
       "      <td>Overall</td>\n",
       "      <td>Female</td>\n",
       "      <td>433.1</td>\n",
       "    </tr>\n",
       "    <tr>\n",
       "      <th>472681</th>\n",
       "      <td>51053</td>\n",
       "      <td>2001</td>\n",
       "      <td>VA</td>\n",
       "      <td>Dinwiddie</td>\n",
       "      <td>Ages 65+ years</td>\n",
       "      <td>Overall</td>\n",
       "      <td>Female</td>\n",
       "      <td>453.0</td>\n",
       "    </tr>\n",
       "  </tbody>\n",
       "</table>\n",
       "<p>472682 rows × 8 columns</p>\n",
       "</div>"
      ],
      "text/plain": [
       "        locationid  year locationabbr locationdesc         age_group  \\\n",
       "0             1001  2000           AL      Autauga  Ages 35-64 years   \n",
       "1             1001  2001           AL      Autauga  Ages 35-64 years   \n",
       "2             1001  2002           AL      Autauga  Ages 35-64 years   \n",
       "3             1001  2003           AL      Autauga  Ages 35-64 years   \n",
       "4             1001  2004           AL      Autauga  Ages 35-64 years   \n",
       "...            ...   ...          ...          ...               ...   \n",
       "472677       51053  2017           VA    Dinwiddie    Ages 65+ years   \n",
       "472678       51053  2018           VA    Dinwiddie    Ages 65+ years   \n",
       "472679       51053  2019           VA    Dinwiddie    Ages 65+ years   \n",
       "472680       51053  2000           VA    Dinwiddie    Ages 65+ years   \n",
       "472681       51053  2001           VA    Dinwiddie    Ages 65+ years   \n",
       "\n",
       "       race/ethnicityage_group      sex  data_value  \n",
       "0                        Black  Overall        76.9  \n",
       "1                        Black  Overall        83.4  \n",
       "2                        Black  Overall        86.2  \n",
       "3                        Black  Overall        81.6  \n",
       "4                        Black  Overall        84.7  \n",
       "...                        ...      ...         ...  \n",
       "472677                   Black  Overall       338.8  \n",
       "472678                   Black  Overall       321.9  \n",
       "472679                   Black  Overall       334.5  \n",
       "472680                 Overall   Female       433.1  \n",
       "472681                 Overall   Female       453.0  \n",
       "\n",
       "[472682 rows x 8 columns]"
      ]
     },
<<<<<<< Updated upstream
     "execution_count": 114,
=======
     "execution_count": 50,
>>>>>>> Stashed changes
     "metadata": {},
     "output_type": "execute_result"
    }
   ],
   "source": [
    "smoothed_df.drop(['confidence_limit_low', 'confidence_limit_high','x_long','y_lat'], axis=1, inplace=True)\n",
    "smoothed_df"
   ]
  },
  {
   "cell_type": "markdown",
   "metadata": {},
   "source": [
    "Do `locationid` và `locationdesc` là mã và tên của các quận (county), cùng có thể dùng để phân biệt một quận. Việc tồn tại 2 thuộc tính có ý nghĩa tương tự nhau có vẻ không cần thiết. Ngoài ra, số lượng `locationid` là rất lớn và tuy nhiên giá trị không đóng góp nhiều vào việc dự đoán, nên ta sẽ loại bỏ cả 2 cột `locationid` và `locationdesc`. \n",
    "\n",
    "Nhưng giá trị data_value tính theo county, nên ta thực hiện xử lý gom nhóm các dòng cùng locationabbr (bang) và tính data_value cho bang = mean của các dòng thành phần."
   ]
  },
  {
   "cell_type": "code",
<<<<<<< Updated upstream
   "execution_count": 115,
=======
   "execution_count": 51,
>>>>>>> Stashed changes
   "metadata": {},
   "outputs": [],
   "source": [
    "counties = {'locationid': smoothed_df['locationid'], 'locationdesc':smoothed_df['locationdesc']}\n",
    "counties_df = pd.DataFrame(counties)\n",
    "smoothed_df.drop(['locationdesc'], axis=1, inplace=True)\n",
    "\n",
    "state_df = smoothed_df.groupby(['locationabbr','year','age_group','race/ethnicityage_group','sex'])['data_value'].mean().reset_index()"
   ]
  },
  {
   "cell_type": "code",
<<<<<<< Updated upstream
   "execution_count": 116,
=======
   "execution_count": 52,
>>>>>>> Stashed changes
   "metadata": {},
   "outputs": [
    {
     "data": {
      "text/html": [
       "<div>\n",
       "<style scoped>\n",
       "    .dataframe tbody tr th:only-of-type {\n",
       "        vertical-align: middle;\n",
       "    }\n",
       "\n",
       "    .dataframe tbody tr th {\n",
       "        vertical-align: top;\n",
       "    }\n",
       "\n",
       "    .dataframe thead th {\n",
       "        text-align: right;\n",
       "    }\n",
       "</style>\n",
       "<table border=\"1\" class=\"dataframe\">\n",
       "  <thead>\n",
       "    <tr style=\"text-align: right;\">\n",
       "      <th></th>\n",
       "      <th>locationabbr</th>\n",
       "      <th>year</th>\n",
       "      <th>age_group</th>\n",
       "      <th>race/ethnicityage_group</th>\n",
       "      <th>sex</th>\n",
       "      <th>data_value</th>\n",
       "    </tr>\n",
       "  </thead>\n",
       "  <tbody>\n",
       "    <tr>\n",
       "      <th>6004</th>\n",
       "      <td>ME</td>\n",
       "      <td>2010</td>\n",
       "      <td>Ages 35-64 years</td>\n",
       "      <td>Overall</td>\n",
       "      <td>Female</td>\n",
       "      <td>7.083333</td>\n",
       "    </tr>\n",
       "    <tr>\n",
       "      <th>5992</th>\n",
       "      <td>ME</td>\n",
       "      <td>2009</td>\n",
       "      <td>Ages 35-64 years</td>\n",
       "      <td>Overall</td>\n",
       "      <td>Female</td>\n",
       "      <td>7.600000</td>\n",
       "    </tr>\n",
       "    <tr>\n",
       "      <th>6016</th>\n",
       "      <td>ME</td>\n",
       "      <td>2011</td>\n",
       "      <td>Ages 35-64 years</td>\n",
       "      <td>Overall</td>\n",
       "      <td>Female</td>\n",
       "      <td>7.833333</td>\n",
       "    </tr>\n",
       "    <tr>\n",
       "      <th>6028</th>\n",
       "      <td>ME</td>\n",
       "      <td>2012</td>\n",
       "      <td>Ages 35-64 years</td>\n",
       "      <td>Overall</td>\n",
       "      <td>Female</td>\n",
       "      <td>7.983333</td>\n",
       "    </tr>\n",
       "    <tr>\n",
       "      <th>5980</th>\n",
       "      <td>ME</td>\n",
       "      <td>2008</td>\n",
       "      <td>Ages 35-64 years</td>\n",
       "      <td>Overall</td>\n",
       "      <td>Female</td>\n",
       "      <td>8.166667</td>\n",
       "    </tr>\n",
       "    <tr>\n",
       "      <th>...</th>\n",
       "      <td>...</td>\n",
       "      <td>...</td>\n",
       "      <td>...</td>\n",
       "      <td>...</td>\n",
       "      <td>...</td>\n",
       "      <td>...</td>\n",
       "    </tr>\n",
       "    <tr>\n",
       "      <th>10382</th>\n",
       "      <td>OK</td>\n",
       "      <td>2017</td>\n",
       "      <td>Ages 65+ years</td>\n",
       "      <td>Black</td>\n",
       "      <td>Overall</td>\n",
       "      <td>1207.760000</td>\n",
       "    </tr>\n",
       "    <tr>\n",
       "      <th>10398</th>\n",
       "      <td>OK</td>\n",
       "      <td>2018</td>\n",
       "      <td>Ages 65+ years</td>\n",
       "      <td>Black</td>\n",
       "      <td>Overall</td>\n",
       "      <td>1207.860000</td>\n",
       "    </tr>\n",
       "    <tr>\n",
       "      <th>10414</th>\n",
       "      <td>OK</td>\n",
       "      <td>2019</td>\n",
       "      <td>Ages 65+ years</td>\n",
       "      <td>Black</td>\n",
       "      <td>Overall</td>\n",
       "      <td>1212.520000</td>\n",
       "    </tr>\n",
       "    <tr>\n",
       "      <th>1959</th>\n",
       "      <td>DC</td>\n",
       "      <td>2002</td>\n",
       "      <td>Ages 65+ years</td>\n",
       "      <td>Black</td>\n",
       "      <td>Overall</td>\n",
       "      <td>1281.700000</td>\n",
       "    </tr>\n",
       "    <tr>\n",
       "      <th>1944</th>\n",
       "      <td>DC</td>\n",
       "      <td>2001</td>\n",
       "      <td>Ages 65+ years</td>\n",
       "      <td>Black</td>\n",
       "      <td>Overall</td>\n",
       "      <td>1303.300000</td>\n",
       "    </tr>\n",
       "  </tbody>\n",
       "</table>\n",
       "<p>13160 rows × 6 columns</p>\n",
       "</div>"
      ],
      "text/plain": [
       "      locationabbr  year         age_group race/ethnicityage_group      sex  \\\n",
       "6004            ME  2010  Ages 35-64 years                 Overall   Female   \n",
       "5992            ME  2009  Ages 35-64 years                 Overall   Female   \n",
       "6016            ME  2011  Ages 35-64 years                 Overall   Female   \n",
       "6028            ME  2012  Ages 35-64 years                 Overall   Female   \n",
       "5980            ME  2008  Ages 35-64 years                 Overall   Female   \n",
       "...            ...   ...               ...                     ...      ...   \n",
       "10382           OK  2017    Ages 65+ years                   Black  Overall   \n",
       "10398           OK  2018    Ages 65+ years                   Black  Overall   \n",
       "10414           OK  2019    Ages 65+ years                   Black  Overall   \n",
       "1959            DC  2002    Ages 65+ years                   Black  Overall   \n",
       "1944            DC  2001    Ages 65+ years                   Black  Overall   \n",
       "\n",
       "        data_value  \n",
       "6004      7.083333  \n",
       "5992      7.600000  \n",
       "6016      7.833333  \n",
       "6028      7.983333  \n",
       "5980      8.166667  \n",
       "...            ...  \n",
       "10382  1207.760000  \n",
       "10398  1207.860000  \n",
       "10414  1212.520000  \n",
       "1959   1281.700000  \n",
       "1944   1303.300000  \n",
       "\n",
       "[13160 rows x 6 columns]"
      ]
     },
<<<<<<< Updated upstream
     "execution_count": 116,
=======
     "execution_count": 52,
>>>>>>> Stashed changes
     "metadata": {},
     "output_type": "execute_result"
    }
   ],
   "source": [
    "state_df.sort_values(by = 'data_value')"
   ]
  },
  {
   "cell_type": "markdown",
   "metadata": {},
   "source": [
    "## I.2. Xác định biến Categorical/ Numeric"
   ]
  },
  {
   "cell_type": "code",
<<<<<<< Updated upstream
   "execution_count": 117,
=======
   "execution_count": 53,
>>>>>>> Stashed changes
   "metadata": {},
   "outputs": [
    {
     "name": "stdout",
     "output_type": "stream",
     "text": [
      "<class 'pandas.core.frame.DataFrame'>\n",
      "RangeIndex: 13160 entries, 0 to 13159\n",
      "Data columns (total 6 columns):\n",
      " #   Column                   Non-Null Count  Dtype  \n",
      "---  ------                   --------------  -----  \n",
      " 0   locationabbr             13160 non-null  object \n",
      " 1   year                     13160 non-null  int64  \n",
      " 2   age_group                13160 non-null  object \n",
      " 3   race/ethnicityage_group  13160 non-null  object \n",
      " 4   sex                      13160 non-null  object \n",
      " 5   data_value               13160 non-null  float64\n",
      "dtypes: float64(1), int64(1), object(4)\n",
      "memory usage: 617.0+ KB\n"
     ]
    }
   ],
   "source": [
    "state_df.info()"
   ]
  },
  {
   "cell_type": "code",
<<<<<<< Updated upstream
   "execution_count": 118,
=======
   "execution_count": 54,
>>>>>>> Stashed changes
   "metadata": {},
   "outputs": [],
   "source": [
    "# Biến Categorical\n",
    "cat_vars = ['locationabbr','age_group','race/ethnicityage_group','sex']\n",
    "# Biến numerical\n",
    "num_vars = ['year','data_value']"
   ]
  },
  {
   "cell_type": "markdown",
   "metadata": {},
   "source": [
    "Với biến numerical, nhóm dùng distplot để vẽ biểu đồ phân bố của các đặc trưng: "
   ]
  },
  {
   "cell_type": "code",
<<<<<<< Updated upstream
   "execution_count": 119,
=======
   "execution_count": 55,
>>>>>>> Stashed changes
   "metadata": {},
   "outputs": [
    {
     "data": {
      "image/png": "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",
      "text/plain": [
       "<Figure size 1000x500 with 2 Axes>"
      ]
     },
     "metadata": {},
     "output_type": "display_data"
    }
   ],
   "source": [
    "plt.figure(figsize = (10, 5))\n",
    "plt.subplot(121)\n",
    "sns.distplot(state_df[num_vars[0]])\n",
    "plt.subplot(122)\n",
    "sns.distplot(state_df[num_vars[1]])\n",
    "plt.show()"
   ]
  },
  {
   "cell_type": "markdown",
   "metadata": {},
   "source": [
    "Ta thấy ở thuộc tính `data_value`, dữ liệu tập trung ở mức dưới 1000. Nên ta sẽ loại bỏ đi các dòng có giá trị data_value >1000."
   ]
  },
  {
   "cell_type": "code",
<<<<<<< Updated upstream
   "execution_count": 120,
=======
   "execution_count": 56,
>>>>>>> Stashed changes
   "metadata": {},
   "outputs": [
    {
     "data": {
      "text/html": [
       "<div>\n",
       "<style scoped>\n",
       "    .dataframe tbody tr th:only-of-type {\n",
       "        vertical-align: middle;\n",
       "    }\n",
       "\n",
       "    .dataframe tbody tr th {\n",
       "        vertical-align: top;\n",
       "    }\n",
       "\n",
       "    .dataframe thead th {\n",
       "        text-align: right;\n",
       "    }\n",
       "</style>\n",
       "<table border=\"1\" class=\"dataframe\">\n",
       "  <thead>\n",
       "    <tr style=\"text-align: right;\">\n",
       "      <th></th>\n",
       "      <th>year</th>\n",
       "      <th>data_value</th>\n",
       "    </tr>\n",
       "  </thead>\n",
       "  <tbody>\n",
       "    <tr>\n",
       "      <th>count</th>\n",
       "      <td>13160.0000</td>\n",
       "      <td>13160.000000</td>\n",
       "    </tr>\n",
       "    <tr>\n",
       "      <th>mean</th>\n",
       "      <td>2009.5000</td>\n",
       "      <td>207.642776</td>\n",
       "    </tr>\n",
       "    <tr>\n",
       "      <th>std</th>\n",
       "      <td>5.7665</td>\n",
       "      <td>213.036933</td>\n",
       "    </tr>\n",
       "    <tr>\n",
       "      <th>min</th>\n",
       "      <td>2000.0000</td>\n",
       "      <td>7.083333</td>\n",
       "    </tr>\n",
       "    <tr>\n",
       "      <th>25%</th>\n",
       "      <td>2004.7500</td>\n",
       "      <td>27.333255</td>\n",
       "    </tr>\n",
       "    <tr>\n",
       "      <th>50%</th>\n",
       "      <td>2009.5000</td>\n",
       "      <td>86.512087</td>\n",
       "    </tr>\n",
       "    <tr>\n",
       "      <th>75%</th>\n",
       "      <td>2014.2500</td>\n",
       "      <td>364.950674</td>\n",
       "    </tr>\n",
       "    <tr>\n",
       "      <th>max</th>\n",
       "      <td>2019.0000</td>\n",
       "      <td>1303.300000</td>\n",
       "    </tr>\n",
       "  </tbody>\n",
       "</table>\n",
       "</div>"
      ],
      "text/plain": [
       "             year    data_value\n",
       "count  13160.0000  13160.000000\n",
       "mean    2009.5000    207.642776\n",
       "std        5.7665    213.036933\n",
       "min     2000.0000      7.083333\n",
       "25%     2004.7500     27.333255\n",
       "50%     2009.5000     86.512087\n",
       "75%     2014.2500    364.950674\n",
       "max     2019.0000   1303.300000"
      ]
     },
<<<<<<< Updated upstream
     "execution_count": 120,
=======
     "execution_count": 56,
>>>>>>> Stashed changes
     "metadata": {},
     "output_type": "execute_result"
    }
   ],
   "source": [
    "# Xem xét thống kê mô tả đối với các cột numeric (trước khi xử lý)\n",
    "state_df[num_vars].describe()"
   ]
  },
  {
   "cell_type": "markdown",
   "metadata": {},
   "source": [
    "## I.3. Loại bỏ outliers"
   ]
  },
  {
   "cell_type": "code",
<<<<<<< Updated upstream
   "execution_count": 121,
=======
   "execution_count": 57,
>>>>>>> Stashed changes
   "metadata": {},
   "outputs": [
    {
     "data": {
      "image/png": "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",
      "text/plain": [
       "<Figure size 900x600 with 1 Axes>"
      ]
     },
     "metadata": {},
     "output_type": "display_data"
    },
    {
     "data": {
      "image/png": "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",
      "text/plain": [
       "<Figure size 900x600 with 1 Axes>"
      ]
     },
     "metadata": {},
     "output_type": "display_data"
    }
   ],
   "source": [
    "for col in num_vars:\n",
    "    plt.figure(figsize=(9,6))\n",
    "    sns.boxenplot(y=col,data=state_df)\n",
    "    plt.title('Outliers in {}'.format(col),fontsize=25,fontweight=5)\n",
    "    if col == 'year':\n",
    "        plt.yticks(range(2000,2019,1))\n",
    "    else: \n",
    "        plt.yticks(range(0,1000,100))\n",
    "    plt.show()"
   ]
  },
  {
   "cell_type": "code",
   "execution_count": 122,
   "metadata": {},
   "outputs": [],
   "source": [
    "# Xử lý loại bỏ các data_value >1000\n",
    "state_df.drop(state_df[state_df['data_value']>1000].index,inplace=True)"
   ]
  },
  {
   "cell_type": "code",
   "execution_count": 123,
   "metadata": {},
   "outputs": [
    {
     "data": {
      "text/html": [
       "<div>\n",
       "<style scoped>\n",
       "    .dataframe tbody tr th:only-of-type {\n",
       "        vertical-align: middle;\n",
       "    }\n",
       "\n",
       "    .dataframe tbody tr th {\n",
       "        vertical-align: top;\n",
       "    }\n",
       "\n",
       "    .dataframe thead th {\n",
       "        text-align: right;\n",
       "    }\n",
       "</style>\n",
       "<table border=\"1\" class=\"dataframe\">\n",
       "  <thead>\n",
       "    <tr style=\"text-align: right;\">\n",
       "      <th></th>\n",
       "      <th>year</th>\n",
       "      <th>data_value</th>\n",
       "    </tr>\n",
       "  </thead>\n",
       "  <tbody>\n",
       "    <tr>\n",
       "      <th>count</th>\n",
       "      <td>13121.000000</td>\n",
       "      <td>13121.000000</td>\n",
       "    </tr>\n",
       "    <tr>\n",
       "      <th>mean</th>\n",
       "      <td>2009.509336</td>\n",
       "      <td>205.008069</td>\n",
       "    </tr>\n",
       "    <tr>\n",
       "      <th>std</th>\n",
       "      <td>5.764332</td>\n",
       "      <td>207.750793</td>\n",
       "    </tr>\n",
       "    <tr>\n",
       "      <th>min</th>\n",
       "      <td>2000.000000</td>\n",
       "      <td>7.083333</td>\n",
       "    </tr>\n",
       "    <tr>\n",
       "      <th>25%</th>\n",
       "      <td>2005.000000</td>\n",
       "      <td>27.264000</td>\n",
       "    </tr>\n",
       "    <tr>\n",
       "      <th>50%</th>\n",
       "      <td>2010.000000</td>\n",
       "      <td>85.294444</td>\n",
       "    </tr>\n",
       "    <tr>\n",
       "      <th>75%</th>\n",
       "      <td>2015.000000</td>\n",
       "      <td>363.638095</td>\n",
       "    </tr>\n",
       "    <tr>\n",
       "      <th>max</th>\n",
       "      <td>2019.000000</td>\n",
       "      <td>991.400000</td>\n",
       "    </tr>\n",
       "  </tbody>\n",
       "</table>\n",
       "</div>"
      ],
      "text/plain": [
       "               year    data_value\n",
       "count  13121.000000  13121.000000\n",
       "mean    2009.509336    205.008069\n",
       "std        5.764332    207.750793\n",
       "min     2000.000000      7.083333\n",
       "25%     2005.000000     27.264000\n",
       "50%     2010.000000     85.294444\n",
       "75%     2015.000000    363.638095\n",
       "max     2019.000000    991.400000"
      ]
     },
     "execution_count": 123,
     "metadata": {},
     "output_type": "execute_result"
    }
   ],
   "source": [
    "# # Xem xét thống kê mô tả đối với các cột numeric (sau khi xử lý)\n",
    "state_df[num_vars].describe()"
   ]
  },
  {
   "cell_type": "code",
   "execution_count": 124,
   "metadata": {},
   "outputs": [
    {
     "data": {
      "image/png": "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",
      "text/plain": [
       "<Figure size 900x600 with 1 Axes>"
      ]
     },
     "metadata": {},
     "output_type": "display_data"
    },
    {
     "data": {
      "image/png": "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",
      "text/plain": [
       "<Figure size 900x600 with 1 Axes>"
      ]
     },
     "metadata": {},
     "output_type": "display_data"
    }
   ],
   "source": [
    "for col in num_vars:\n",
    "    plt.figure(figsize=(9,6))\n",
    "    sns.boxenplot(y=col,data=state_df)\n",
    "    plt.title('Outliers in {}'.format(col),fontsize=25,fontweight=5)\n",
    "    if col == 'year':\n",
    "        plt.yticks(range(2000,2019,1))\n",
    "    else: \n",
    "        plt.yticks(range(0,1000,100))\n",
    "    plt.show()"
   ]
  },
  {
   "cell_type": "markdown",
   "metadata": {},
   "source": [
    "# II. Chọn các đặc trưng để xây dựng mô hình\n",
    "## II.1. Chuyển các cột dạng Categorical sang Numerical"
   ]
  },
  {
   "cell_type": "markdown",
   "metadata": {},
   "source": [
    "Ta sẽ dùng hàm get_dummies để chuyển cột dạng Categorical sang Numerical theo phương pháp one-hot encoding\n",
    "\n",
    "Lý do dùng: Vì các cột dạng categorical không có dạng order (có thứ tự) nên dùng one-hot encoding sẽ đem lại hiệu quả cao hơn so với phương pháp encoding khác."
   ]
  },
  {
   "cell_type": "code",
<<<<<<< Updated upstream
   "execution_count": 125,
=======
   "execution_count": 58,
>>>>>>> Stashed changes
   "metadata": {},
   "outputs": [
    {
     "data": {
      "text/html": [
       "<div>\n",
       "<style scoped>\n",
       "    .dataframe tbody tr th:only-of-type {\n",
       "        vertical-align: middle;\n",
       "    }\n",
       "\n",
       "    .dataframe tbody tr th {\n",
       "        vertical-align: top;\n",
       "    }\n",
       "\n",
       "    .dataframe thead th {\n",
       "        text-align: right;\n",
       "    }\n",
       "</style>\n",
       "<table border=\"1\" class=\"dataframe\">\n",
       "  <thead>\n",
       "    <tr style=\"text-align: right;\">\n",
       "      <th></th>\n",
       "      <th>locationabbr</th>\n",
       "      <th>year</th>\n",
       "      <th>age_group</th>\n",
       "      <th>race/ethnicityage_group</th>\n",
       "      <th>sex</th>\n",
       "      <th>data_value</th>\n",
       "    </tr>\n",
       "  </thead>\n",
       "  <tbody>\n",
       "    <tr>\n",
<<<<<<< Updated upstream
       "      <th>0</th>\n",
       "      <td>AK</td>\n",
       "      <td>2000</td>\n",
       "      <td>Ages 35-64 years</td>\n",
       "      <td>Overall</td>\n",
       "      <td>Male</td>\n",
       "      <td>24.000000</td>\n",
       "    </tr>\n",
       "    <tr>\n",
       "      <th>1</th>\n",
       "      <td>AK</td>\n",
       "      <td>2000</td>\n",
       "      <td>Ages 35-64 years</td>\n",
       "      <td>Overall</td>\n",
       "      <td>Overall</td>\n",
       "      <td>25.788889</td>\n",
       "    </tr>\n",
       "    <tr>\n",
       "      <th>2</th>\n",
       "      <td>AK</td>\n",
       "      <td>2000</td>\n",
       "      <td>Ages 35-64 years</td>\n",
       "      <td>White</td>\n",
       "      <td>Overall</td>\n",
       "      <td>19.540000</td>\n",
       "    </tr>\n",
       "    <tr>\n",
       "      <th>3</th>\n",
       "      <td>AK</td>\n",
       "      <td>2000</td>\n",
       "      <td>Ages 65+ years</td>\n",
       "      <td>American Indian and Alaska Native</td>\n",
       "      <td>Overall</td>\n",
       "      <td>244.900000</td>\n",
       "    </tr>\n",
       "    <tr>\n",
       "      <th>4</th>\n",
       "      <td>AK</td>\n",
       "      <td>2000</td>\n",
       "      <td>Ages 65+ years</td>\n",
       "      <td>Overall</td>\n",
       "      <td>Female</td>\n",
       "      <td>441.183333</td>\n",
       "    </tr>\n",
       "    <tr>\n",
       "      <th>...</th>\n",
       "      <td>...</td>\n",
       "      <td>...</td>\n",
       "      <td>...</td>\n",
       "      <td>...</td>\n",
       "      <td>...</td>\n",
       "      <td>...</td>\n",
       "    </tr>\n",
       "    <tr>\n",
       "      <th>13155</th>\n",
       "      <td>VT</td>\n",
=======
       "      <th>3156</th>\n",
       "      <td>HI</td>\n",
       "      <td>2005</td>\n",
       "      <td>Ages 65+ years</td>\n",
       "      <td>Overall</td>\n",
       "      <td>Female</td>\n",
       "      <td>354.475000</td>\n",
       "    </tr>\n",
       "    <tr>\n",
       "      <th>1802</th>\n",
       "      <td>CT</td>\n",
       "      <td>2012</td>\n",
       "      <td>Ages 35-64 years</td>\n",
       "      <td>Black</td>\n",
       "      <td>Overall</td>\n",
       "      <td>44.814286</td>\n",
       "    </tr>\n",
       "    <tr>\n",
       "      <th>3607</th>\n",
       "      <td>ID</td>\n",
       "      <td>2005</td>\n",
       "      <td>Ages 35-64 years</td>\n",
       "      <td>Black</td>\n",
       "      <td>Overall</td>\n",
       "      <td>81.800000</td>\n",
       "    </tr>\n",
       "    <tr>\n",
       "      <th>4605</th>\n",
       "      <td>KS</td>\n",
       "      <td>2012</td>\n",
       "      <td>Ages 35-64 years</td>\n",
       "      <td>Overall</td>\n",
       "      <td>Male</td>\n",
       "      <td>28.575676</td>\n",
       "    </tr>\n",
       "    <tr>\n",
       "      <th>9566</th>\n",
       "      <td>NY</td>\n",
       "      <td>2005</td>\n",
       "      <td>Ages 35-64 years</td>\n",
       "      <td>Overall</td>\n",
       "      <td>Overall</td>\n",
       "      <td>26.568852</td>\n",
       "    </tr>\n",
       "    <tr>\n",
       "      <th>999</th>\n",
       "      <td>AZ</td>\n",
>>>>>>> Stashed changes
       "      <td>2019</td>\n",
       "      <td>Ages 65+ years</td>\n",
       "      <td>White</td>\n",
       "      <td>Overall</td>\n",
       "      <td>440.769231</td>\n",
       "    </tr>\n",
       "    <tr>\n",
       "      <th>9244</th>\n",
       "      <td>NV</td>\n",
       "      <td>2005</td>\n",
       "      <td>Ages 35-64 years</td>\n",
       "      <td>White</td>\n",
       "      <td>Overall</td>\n",
<<<<<<< Updated upstream
       "      <td>42.400000</td>\n",
       "    </tr>\n",
       "    <tr>\n",
       "      <th>13156</th>\n",
       "      <td>VT</td>\n",
       "      <td>2019</td>\n",
       "      <td>Ages 65+ years</td>\n",
       "      <td>Overall</td>\n",
       "      <td>Female</td>\n",
       "      <td>576.530769</td>\n",
       "    </tr>\n",
       "    <tr>\n",
       "      <th>13157</th>\n",
       "      <td>VT</td>\n",
       "      <td>2019</td>\n",
       "      <td>Ages 65+ years</td>\n",
       "      <td>Overall</td>\n",
       "      <td>Male</td>\n",
       "      <td>766.308333</td>\n",
       "    </tr>\n",
       "    <tr>\n",
       "      <th>13158</th>\n",
       "      <td>VT</td>\n",
       "      <td>2019</td>\n",
       "      <td>Ages 65+ years</td>\n",
       "      <td>Overall</td>\n",
       "      <td>Overall</td>\n",
       "      <td>667.307143</td>\n",
       "    </tr>\n",
       "    <tr>\n",
       "      <th>13159</th>\n",
       "      <td>VT</td>\n",
       "      <td>2019</td>\n",
       "      <td>Ages 65+ years</td>\n",
       "      <td>White</td>\n",
       "      <td>Overall</td>\n",
       "      <td>675.885714</td>\n",
=======
       "      <td>Female</td>\n",
       "      <td>21.357143</td>\n",
       "    </tr>\n",
       "    <tr>\n",
       "      <th>94</th>\n",
       "      <td>AK</td>\n",
       "      <td>2011</td>\n",
       "      <td>Ages 65+ years</td>\n",
       "      <td>Overall</td>\n",
       "      <td>Overall</td>\n",
       "      <td>275.175000</td>\n",
       "    </tr>\n",
       "    <tr>\n",
       "      <th>11942</th>\n",
       "      <td>TN</td>\n",
       "      <td>2008</td>\n",
       "      <td>Ages 35-64 years</td>\n",
       "      <td>Black</td>\n",
       "      <td>Overall</td>\n",
       "      <td>109.462791</td>\n",
       "    </tr>\n",
       "    <tr>\n",
       "      <th>8094</th>\n",
       "      <td>NE</td>\n",
       "      <td>2003</td>\n",
       "      <td>Ages 65+ years</td>\n",
       "      <td>Overall</td>\n",
       "      <td>Overall</td>\n",
       "      <td>337.881944</td>\n",
>>>>>>> Stashed changes
       "    </tr>\n",
       "  </tbody>\n",
       "</table>\n",
       "<p>13121 rows × 6 columns</p>\n",
       "</div>"
      ],
      "text/plain": [
<<<<<<< Updated upstream
       "      locationabbr  year         age_group            race/ethnicityage_group  \\\n",
       "0               AK  2000  Ages 35-64 years                            Overall   \n",
       "1               AK  2000  Ages 35-64 years                            Overall   \n",
       "2               AK  2000  Ages 35-64 years                              White   \n",
       "3               AK  2000    Ages 65+ years  American Indian and Alaska Native   \n",
       "4               AK  2000    Ages 65+ years                            Overall   \n",
       "...            ...   ...               ...                                ...   \n",
       "13155           VT  2019  Ages 35-64 years                              White   \n",
       "13156           VT  2019    Ages 65+ years                            Overall   \n",
       "13157           VT  2019    Ages 65+ years                            Overall   \n",
       "13158           VT  2019    Ages 65+ years                            Overall   \n",
       "13159           VT  2019    Ages 65+ years                              White   \n",
       "\n",
       "           sex  data_value  \n",
       "0         Male   24.000000  \n",
       "1      Overall   25.788889  \n",
       "2      Overall   19.540000  \n",
       "3      Overall  244.900000  \n",
       "4       Female  441.183333  \n",
       "...        ...         ...  \n",
       "13155  Overall   42.400000  \n",
       "13156   Female  576.530769  \n",
       "13157     Male  766.308333  \n",
       "13158  Overall  667.307143  \n",
       "13159  Overall  675.885714  \n",
       "\n",
       "[13121 rows x 6 columns]"
      ]
     },
     "execution_count": 125,
=======
       "      locationabbr  year         age_group race/ethnicityage_group      sex  \\\n",
       "3156            HI  2005    Ages 65+ years                 Overall   Female   \n",
       "1802            CT  2012  Ages 35-64 years                   Black  Overall   \n",
       "3607            ID  2005  Ages 35-64 years                   Black  Overall   \n",
       "4605            KS  2012  Ages 35-64 years                 Overall     Male   \n",
       "9566            NY  2005  Ages 35-64 years                 Overall  Overall   \n",
       "999             AZ  2019    Ages 65+ years                   White  Overall   \n",
       "9244            NV  2005  Ages 35-64 years                 Overall   Female   \n",
       "94              AK  2011    Ages 65+ years                 Overall  Overall   \n",
       "11942           TN  2008  Ages 35-64 years                   Black  Overall   \n",
       "8094            NE  2003    Ages 65+ years                 Overall  Overall   \n",
       "\n",
       "       data_value  \n",
       "3156   354.475000  \n",
       "1802    44.814286  \n",
       "3607    81.800000  \n",
       "4605    28.575676  \n",
       "9566    26.568852  \n",
       "999    440.769231  \n",
       "9244    21.357143  \n",
       "94     275.175000  \n",
       "11942  109.462791  \n",
       "8094   337.881944  "
      ]
     },
     "execution_count": 58,
>>>>>>> Stashed changes
     "metadata": {},
     "output_type": "execute_result"
    }
   ],
   "source": [
    "state_df"
   ]
  },
  {
   "cell_type": "code",
<<<<<<< Updated upstream
   "execution_count": 126,
=======
   "execution_count": 59,
>>>>>>> Stashed changes
   "metadata": {},
   "outputs": [
    {
     "data": {
      "text/html": [
       "<div>\n",
       "<style scoped>\n",
       "    .dataframe tbody tr th:only-of-type {\n",
       "        vertical-align: middle;\n",
       "    }\n",
       "\n",
       "    .dataframe tbody tr th {\n",
       "        vertical-align: top;\n",
       "    }\n",
       "\n",
       "    .dataframe thead th {\n",
       "        text-align: right;\n",
       "    }\n",
       "</style>\n",
       "<table border=\"1\" class=\"dataframe\">\n",
       "  <thead>\n",
       "    <tr style=\"text-align: right;\">\n",
       "      <th></th>\n",
       "      <th>year</th>\n",
       "      <th>locationabbr_AK</th>\n",
       "      <th>locationabbr_AL</th>\n",
       "      <th>locationabbr_AR</th>\n",
       "      <th>locationabbr_AZ</th>\n",
       "      <th>locationabbr_CA</th>\n",
       "      <th>locationabbr_CO</th>\n",
       "      <th>locationabbr_CT</th>\n",
       "      <th>locationabbr_DC</th>\n",
       "      <th>locationabbr_DE</th>\n",
       "      <th>...</th>\n",
       "      <th>race/ethnicityage_group_American Indian and Alaska Native</th>\n",
       "      <th>race/ethnicityage_group_Asian and Pacific Islander</th>\n",
       "      <th>race/ethnicityage_group_Black</th>\n",
       "      <th>race/ethnicityage_group_Hispanic</th>\n",
       "      <th>race/ethnicityage_group_Overall</th>\n",
       "      <th>race/ethnicityage_group_White</th>\n",
       "      <th>sex_Female</th>\n",
       "      <th>sex_Male</th>\n",
       "      <th>sex_Overall</th>\n",
       "      <th>data_value</th>\n",
       "    </tr>\n",
       "  </thead>\n",
       "  <tbody>\n",
       "    <tr>\n",
       "      <th>0</th>\n",
       "      <td>2000</td>\n",
       "      <td>True</td>\n",
       "      <td>False</td>\n",
       "      <td>False</td>\n",
       "      <td>False</td>\n",
       "      <td>False</td>\n",
       "      <td>False</td>\n",
       "      <td>False</td>\n",
       "      <td>False</td>\n",
       "      <td>False</td>\n",
       "      <td>...</td>\n",
       "      <td>False</td>\n",
       "      <td>False</td>\n",
       "      <td>False</td>\n",
       "      <td>False</td>\n",
       "      <td>True</td>\n",
       "      <td>False</td>\n",
       "      <td>False</td>\n",
       "      <td>True</td>\n",
       "      <td>False</td>\n",
       "      <td>24.000000</td>\n",
       "    </tr>\n",
       "    <tr>\n",
       "      <th>1</th>\n",
       "      <td>2000</td>\n",
       "      <td>True</td>\n",
       "      <td>False</td>\n",
       "      <td>False</td>\n",
       "      <td>False</td>\n",
       "      <td>False</td>\n",
       "      <td>False</td>\n",
       "      <td>False</td>\n",
       "      <td>False</td>\n",
       "      <td>False</td>\n",
       "      <td>...</td>\n",
       "      <td>False</td>\n",
       "      <td>False</td>\n",
       "      <td>False</td>\n",
       "      <td>False</td>\n",
       "      <td>True</td>\n",
       "      <td>False</td>\n",
       "      <td>False</td>\n",
       "      <td>False</td>\n",
       "      <td>True</td>\n",
       "      <td>25.788889</td>\n",
       "    </tr>\n",
       "    <tr>\n",
       "      <th>2</th>\n",
       "      <td>2000</td>\n",
       "      <td>True</td>\n",
       "      <td>False</td>\n",
       "      <td>False</td>\n",
       "      <td>False</td>\n",
       "      <td>False</td>\n",
       "      <td>False</td>\n",
       "      <td>False</td>\n",
       "      <td>False</td>\n",
       "      <td>False</td>\n",
       "      <td>...</td>\n",
       "      <td>False</td>\n",
       "      <td>False</td>\n",
       "      <td>False</td>\n",
       "      <td>False</td>\n",
       "      <td>False</td>\n",
       "      <td>True</td>\n",
       "      <td>False</td>\n",
       "      <td>False</td>\n",
       "      <td>True</td>\n",
       "      <td>19.540000</td>\n",
       "    </tr>\n",
       "    <tr>\n",
       "      <th>3</th>\n",
       "      <td>2000</td>\n",
       "      <td>True</td>\n",
       "      <td>False</td>\n",
       "      <td>False</td>\n",
       "      <td>False</td>\n",
       "      <td>False</td>\n",
       "      <td>False</td>\n",
       "      <td>False</td>\n",
       "      <td>False</td>\n",
       "      <td>False</td>\n",
       "      <td>...</td>\n",
       "      <td>True</td>\n",
       "      <td>False</td>\n",
       "      <td>False</td>\n",
       "      <td>False</td>\n",
       "      <td>False</td>\n",
       "      <td>False</td>\n",
       "      <td>False</td>\n",
       "      <td>False</td>\n",
       "      <td>True</td>\n",
       "      <td>244.900000</td>\n",
       "    </tr>\n",
       "    <tr>\n",
       "      <th>4</th>\n",
       "      <td>2000</td>\n",
       "      <td>True</td>\n",
       "      <td>False</td>\n",
       "      <td>False</td>\n",
       "      <td>False</td>\n",
       "      <td>False</td>\n",
       "      <td>False</td>\n",
       "      <td>False</td>\n",
       "      <td>False</td>\n",
       "      <td>False</td>\n",
       "      <td>...</td>\n",
       "      <td>False</td>\n",
       "      <td>False</td>\n",
       "      <td>False</td>\n",
       "      <td>False</td>\n",
       "      <td>True</td>\n",
       "      <td>False</td>\n",
       "      <td>True</td>\n",
       "      <td>False</td>\n",
       "      <td>False</td>\n",
       "      <td>441.183333</td>\n",
       "    </tr>\n",
       "    <tr>\n",
       "      <th>...</th>\n",
       "      <td>...</td>\n",
       "      <td>...</td>\n",
       "      <td>...</td>\n",
       "      <td>...</td>\n",
       "      <td>...</td>\n",
       "      <td>...</td>\n",
       "      <td>...</td>\n",
       "      <td>...</td>\n",
       "      <td>...</td>\n",
       "      <td>...</td>\n",
       "      <td>...</td>\n",
       "      <td>...</td>\n",
       "      <td>...</td>\n",
       "      <td>...</td>\n",
       "      <td>...</td>\n",
       "      <td>...</td>\n",
       "      <td>...</td>\n",
       "      <td>...</td>\n",
       "      <td>...</td>\n",
       "      <td>...</td>\n",
       "      <td>...</td>\n",
       "    </tr>\n",
       "    <tr>\n",
       "      <th>13155</th>\n",
       "      <td>2019</td>\n",
       "      <td>False</td>\n",
       "      <td>False</td>\n",
       "      <td>False</td>\n",
       "      <td>False</td>\n",
       "      <td>False</td>\n",
       "      <td>False</td>\n",
       "      <td>False</td>\n",
       "      <td>False</td>\n",
       "      <td>False</td>\n",
       "      <td>...</td>\n",
       "      <td>False</td>\n",
       "      <td>False</td>\n",
       "      <td>False</td>\n",
       "      <td>False</td>\n",
       "      <td>False</td>\n",
       "      <td>True</td>\n",
       "      <td>False</td>\n",
       "      <td>False</td>\n",
       "      <td>True</td>\n",
       "      <td>42.400000</td>\n",
       "    </tr>\n",
       "    <tr>\n",
       "      <th>13156</th>\n",
       "      <td>2019</td>\n",
       "      <td>False</td>\n",
       "      <td>False</td>\n",
       "      <td>False</td>\n",
       "      <td>False</td>\n",
       "      <td>False</td>\n",
       "      <td>False</td>\n",
       "      <td>False</td>\n",
       "      <td>False</td>\n",
       "      <td>False</td>\n",
       "      <td>...</td>\n",
       "      <td>False</td>\n",
       "      <td>False</td>\n",
       "      <td>False</td>\n",
       "      <td>False</td>\n",
       "      <td>True</td>\n",
       "      <td>False</td>\n",
       "      <td>True</td>\n",
       "      <td>False</td>\n",
       "      <td>False</td>\n",
       "      <td>576.530769</td>\n",
       "    </tr>\n",
       "    <tr>\n",
       "      <th>13157</th>\n",
       "      <td>2019</td>\n",
       "      <td>False</td>\n",
       "      <td>False</td>\n",
       "      <td>False</td>\n",
       "      <td>False</td>\n",
       "      <td>False</td>\n",
       "      <td>False</td>\n",
       "      <td>False</td>\n",
       "      <td>False</td>\n",
       "      <td>False</td>\n",
       "      <td>...</td>\n",
       "      <td>False</td>\n",
       "      <td>False</td>\n",
       "      <td>False</td>\n",
       "      <td>False</td>\n",
       "      <td>True</td>\n",
       "      <td>False</td>\n",
       "      <td>False</td>\n",
       "      <td>True</td>\n",
       "      <td>False</td>\n",
       "      <td>766.308333</td>\n",
       "    </tr>\n",
       "    <tr>\n",
       "      <th>13158</th>\n",
       "      <td>2019</td>\n",
       "      <td>False</td>\n",
       "      <td>False</td>\n",
       "      <td>False</td>\n",
       "      <td>False</td>\n",
       "      <td>False</td>\n",
       "      <td>False</td>\n",
       "      <td>False</td>\n",
       "      <td>False</td>\n",
       "      <td>False</td>\n",
       "      <td>...</td>\n",
       "      <td>False</td>\n",
       "      <td>False</td>\n",
       "      <td>False</td>\n",
       "      <td>False</td>\n",
       "      <td>True</td>\n",
       "      <td>False</td>\n",
       "      <td>False</td>\n",
       "      <td>False</td>\n",
       "      <td>True</td>\n",
       "      <td>667.307143</td>\n",
       "    </tr>\n",
       "    <tr>\n",
       "      <th>13159</th>\n",
       "      <td>2019</td>\n",
       "      <td>False</td>\n",
       "      <td>False</td>\n",
       "      <td>False</td>\n",
       "      <td>False</td>\n",
       "      <td>False</td>\n",
       "      <td>False</td>\n",
       "      <td>False</td>\n",
       "      <td>False</td>\n",
       "      <td>False</td>\n",
       "      <td>...</td>\n",
       "      <td>False</td>\n",
       "      <td>False</td>\n",
       "      <td>False</td>\n",
       "      <td>False</td>\n",
       "      <td>False</td>\n",
       "      <td>True</td>\n",
       "      <td>False</td>\n",
       "      <td>False</td>\n",
       "      <td>True</td>\n",
       "      <td>675.885714</td>\n",
       "    </tr>\n",
       "  </tbody>\n",
       "</table>\n",
       "<p>13121 rows × 60 columns</p>\n",
       "</div>"
      ],
      "text/plain": [
       "       year  locationabbr_AK  locationabbr_AL  locationabbr_AR  \\\n",
       "0      2000             True            False            False   \n",
       "1      2000             True            False            False   \n",
       "2      2000             True            False            False   \n",
       "3      2000             True            False            False   \n",
       "4      2000             True            False            False   \n",
       "...     ...              ...              ...              ...   \n",
       "13155  2019            False            False            False   \n",
       "13156  2019            False            False            False   \n",
       "13157  2019            False            False            False   \n",
       "13158  2019            False            False            False   \n",
       "13159  2019            False            False            False   \n",
       "\n",
       "       locationabbr_AZ  locationabbr_CA  locationabbr_CO  locationabbr_CT  \\\n",
       "0                False            False            False            False   \n",
       "1                False            False            False            False   \n",
       "2                False            False            False            False   \n",
       "3                False            False            False            False   \n",
       "4                False            False            False            False   \n",
       "...                ...              ...              ...              ...   \n",
       "13155            False            False            False            False   \n",
       "13156            False            False            False            False   \n",
       "13157            False            False            False            False   \n",
       "13158            False            False            False            False   \n",
       "13159            False            False            False            False   \n",
       "\n",
       "       locationabbr_DC  locationabbr_DE  ...  \\\n",
       "0                False            False  ...   \n",
       "1                False            False  ...   \n",
       "2                False            False  ...   \n",
       "3                False            False  ...   \n",
       "4                False            False  ...   \n",
       "...                ...              ...  ...   \n",
       "13155            False            False  ...   \n",
       "13156            False            False  ...   \n",
       "13157            False            False  ...   \n",
       "13158            False            False  ...   \n",
       "13159            False            False  ...   \n",
       "\n",
       "       race/ethnicityage_group_American Indian and Alaska Native  \\\n",
       "0                                                  False           \n",
       "1                                                  False           \n",
       "2                                                  False           \n",
       "3                                                   True           \n",
       "4                                                  False           \n",
       "...                                                  ...           \n",
       "13155                                              False           \n",
       "13156                                              False           \n",
       "13157                                              False           \n",
       "13158                                              False           \n",
       "13159                                              False           \n",
       "\n",
       "       race/ethnicityage_group_Asian and Pacific Islander  \\\n",
       "0                                                  False    \n",
       "1                                                  False    \n",
       "2                                                  False    \n",
       "3                                                  False    \n",
       "4                                                  False    \n",
       "...                                                  ...    \n",
       "13155                                              False    \n",
       "13156                                              False    \n",
       "13157                                              False    \n",
       "13158                                              False    \n",
       "13159                                              False    \n",
       "\n",
       "       race/ethnicityage_group_Black  race/ethnicityage_group_Hispanic  \\\n",
       "0                              False                             False   \n",
       "1                              False                             False   \n",
       "2                              False                             False   \n",
       "3                              False                             False   \n",
       "4                              False                             False   \n",
       "...                              ...                               ...   \n",
       "13155                          False                             False   \n",
       "13156                          False                             False   \n",
       "13157                          False                             False   \n",
       "13158                          False                             False   \n",
       "13159                          False                             False   \n",
       "\n",
       "       race/ethnicityage_group_Overall  race/ethnicityage_group_White  \\\n",
       "0                                 True                          False   \n",
       "1                                 True                          False   \n",
       "2                                False                           True   \n",
       "3                                False                          False   \n",
       "4                                 True                          False   \n",
       "...                                ...                            ...   \n",
       "13155                            False                           True   \n",
       "13156                             True                          False   \n",
       "13157                             True                          False   \n",
       "13158                             True                          False   \n",
       "13159                            False                           True   \n",
       "\n",
       "       sex_Female  sex_Male  sex_Overall  data_value  \n",
       "0           False      True        False   24.000000  \n",
       "1           False     False         True   25.788889  \n",
       "2           False     False         True   19.540000  \n",
       "3           False     False         True  244.900000  \n",
       "4            True     False        False  441.183333  \n",
       "...           ...       ...          ...         ...  \n",
       "13155       False     False         True   42.400000  \n",
       "13156        True     False        False  576.530769  \n",
       "13157       False      True        False  766.308333  \n",
       "13158       False     False         True  667.307143  \n",
       "13159       False     False         True  675.885714  \n",
       "\n",
       "[13121 rows x 60 columns]"
      ]
     },
<<<<<<< Updated upstream
     "execution_count": 126,
=======
     "execution_count": 59,
>>>>>>> Stashed changes
     "metadata": {},
     "output_type": "execute_result"
    }
   ],
   "source": [
    "df_new =state_df.drop(columns=['data_value'])\n",
    "df_new = pd.get_dummies(df_new)\n",
    "df_new['data_value'] =state_df['data_value']\n",
    "df_new"
   ]
  },
  {
   "cell_type": "markdown",
   "metadata": {},
   "source": [
    "## II.2 Bỏ đi những cột có tương quan thấp với data_value"
   ]
  },
  {
   "cell_type": "markdown",
   "metadata": {},
   "source": [
    "Xem xét loại bỏ các cột có độ tương quan thấp với data_value (<0,01)."
   ]
  },
  {
   "cell_type": "code",
<<<<<<< Updated upstream
   "execution_count": 127,
   "metadata": {},
   "outputs": [],
   "source": [
    "# Tính toán ma trận tương quan \n",
    "corr_matrix = df_new.corr()"
   ]
  },
  {
   "cell_type": "code",
   "execution_count": 128,
   "metadata": {},
   "outputs": [],
   "source": [
    "#corr_matrix"
   ]
  },
  {
   "cell_type": "code",
   "execution_count": 129,
=======
   "execution_count": 60,
>>>>>>> Stashed changes
   "metadata": {},
   "outputs": [
    {
     "data": {
      "text/plain": [
       "'\\n# Vẽ heatmap minh hoạ\\nplt.figure(figsize=(10, 8))\\nsns.heatmap(corr_matrix, annot=False, cmap=\"coolwarm\", fmt=\".2f\", linewidths=0.5)\\nplt.title(\\'Heatmap of Correlation Matrix\\')\\nplt.show()\\n'"
      ]
     },
     "execution_count": 129,
     "metadata": {},
     "output_type": "execute_result"
    }
   ],
   "source": [
    "'''\n",
    "# Vẽ heatmap minh hoạ\n",
    "plt.figure(figsize=(10, 8))\n",
    "sns.heatmap(corr_matrix, annot=False, cmap=\"coolwarm\", fmt=\".2f\", linewidths=0.5)\n",
    "plt.title('Heatmap of Correlation Matrix')\n",
    "plt.show()\n",
    "'''\n"
   ]
  },
  {
   "cell_type": "code",
   "execution_count": 130,
   "metadata": {},
   "outputs": [
    {
     "data": {
      "text/plain": [
       "\"\\n# Lọc các cột có độ tương quan ít hơn ngưỡng (0.01) với cột 'data_value'\\ncorr_value = corr_matrix['data_value']\\ndrop_columns = corr_value[abs(corr_value) < 0.01].index\\ndf_new.drop(columns=drop_columns, inplace=True)\\n\""
      ]
     },
     "execution_count": 130,
     "metadata": {},
     "output_type": "execute_result"
    }
   ],
   "source": [
    "'''\n",
    "# Lọc các cột có độ tương quan ít hơn ngưỡng (0.01) với cột 'data_value'\n",
    "corr_value = corr_matrix['data_value']\n",
    "drop_columns = corr_value[abs(corr_value) < 0.01].index\n",
    "df_new.drop(columns=drop_columns, inplace=True)\n",
    "'''"
   ]
  },
  {
   "cell_type": "markdown",
   "metadata": {},
   "source": [
    "Như vậy, ta sẽ sử dụng những đặc trưng như sau để xây dựng mô hình"
   ]
  },
  {
   "cell_type": "code",
   "execution_count": 131,
   "metadata": {},
   "outputs": [
    {
     "data": {
      "text/plain": [
       "Index(['locationabbr_AK', 'locationabbr_AL', 'locationabbr_AR',\n",
       "       'locationabbr_AZ', 'locationabbr_CA', 'locationabbr_CO',\n",
       "       'locationabbr_CT', 'locationabbr_DC', 'locationabbr_DE',\n",
       "       'locationabbr_FL', 'locationabbr_GA', 'locationabbr_HI',\n",
       "       'locationabbr_IA', 'locationabbr_ID', 'locationabbr_IL',\n",
       "       'locationabbr_IN', 'locationabbr_KS', 'locationabbr_KY',\n",
       "       'locationabbr_LA', 'locationabbr_MA', 'locationabbr_MD',\n",
       "       'locationabbr_ME', 'locationabbr_MI', 'locationabbr_MN',\n",
       "       'locationabbr_MO', 'locationabbr_MS', 'locationabbr_MT',\n",
       "       'locationabbr_NC', 'locationabbr_ND', 'locationabbr_NE',\n",
       "       'locationabbr_NH', 'locationabbr_NJ', 'locationabbr_NM',\n",
       "       'locationabbr_NV', 'locationabbr_NY', 'locationabbr_OH',\n",
       "       'locationabbr_OK', 'locationabbr_OR', 'locationabbr_PA',\n",
       "       'locationabbr_RI', 'locationabbr_SC', 'locationabbr_SD',\n",
       "       'locationabbr_TN', 'locationabbr_TX', 'locationabbr_UT',\n",
       "       'locationabbr_VA', 'locationabbr_VT', 'age_group_Ages 35-64 years',\n",
       "       'age_group_Ages 65+ years',\n",
       "       'race/ethnicityage_group_American Indian and Alaska Native',\n",
       "       'race/ethnicityage_group_Asian and Pacific Islander',\n",
       "       'race/ethnicityage_group_Black', 'race/ethnicityage_group_Hispanic',\n",
       "       'race/ethnicityage_group_Overall', 'race/ethnicityage_group_White',\n",
       "       'sex_Female', 'sex_Male', 'sex_Overall'],\n",
       "      dtype='object')"
      ]
     },
<<<<<<< Updated upstream
     "execution_count": 131,
=======
     "execution_count": 60,
>>>>>>> Stashed changes
     "metadata": {},
     "output_type": "execute_result"
    }
   ],
   "source": [
    "df_new.drop(columns='year', inplace=True)\n",
    "df_new.drop(columns='data_value').columns"
   ]
  },
  {
   "cell_type": "code",
<<<<<<< Updated upstream
   "execution_count": 132,
=======
   "execution_count": 61,
>>>>>>> Stashed changes
   "metadata": {},
   "outputs": [
    {
     "data": {
      "text/plain": [
       "(13121, 59)"
      ]
     },
     "execution_count": 132,
     "metadata": {},
     "output_type": "execute_result"
    }
   ],
   "source": [
    "df_new.shape"
   ]
  },
  {
   "cell_type": "code",
<<<<<<< Updated upstream
   "execution_count": 133,
=======
   "execution_count": 62,
   "metadata": {},
   "outputs": [],
   "source": [
    "#corr_matrix"
   ]
  },
  {
   "cell_type": "code",
   "execution_count": 63,
   "metadata": {},
   "outputs": [],
   "source": [
    "# Vẽ heatmap minh hoạ\n",
    "\n",
    "#plt.figure(figsize=(10, 8))\n",
    "#sns.heatmap(corr_matrix, annot=False, cmap=\"coolwarm\", fmt=\".2f\", linewidths=0.5)\n",
    "#plt.title('Heatmap of Correlation Matrix')\n",
    "#plt.show()\n"
   ]
  },
  {
   "cell_type": "code",
   "execution_count": 64,
   "metadata": {},
   "outputs": [],
   "source": [
    "# Lọc các cột có độ tương quan ít hơn ngưỡng (0.01) với cột 'data_value'\n",
    "corr_value = corr_matrix['data_value']\n",
    "drop_columns = corr_value[abs(corr_value) < 0.01].index\n",
    "df_new.drop(columns=drop_columns, inplace=True)"
   ]
  },
  {
   "cell_type": "code",
   "execution_count": 65,
>>>>>>> Stashed changes
   "metadata": {},
   "outputs": [
    {
     "name": "stdout",
     "output_type": "stream",
     "text": [
      "Index(['locationabbr_AK', 'locationabbr_AL', 'locationabbr_AR',\n",
      "       'locationabbr_AZ', 'locationabbr_CA', 'locationabbr_CO',\n",
      "       'locationabbr_CT', 'locationabbr_DC', 'locationabbr_DE',\n",
      "       'locationabbr_FL', 'locationabbr_GA', 'locationabbr_HI',\n",
      "       'locationabbr_IA', 'locationabbr_ID', 'locationabbr_IL',\n",
      "       'locationabbr_IN', 'locationabbr_KS', 'locationabbr_KY',\n",
      "       'locationabbr_LA', 'locationabbr_MA', 'locationabbr_MD',\n",
      "       'locationabbr_ME', 'locationabbr_MI', 'locationabbr_MN',\n",
      "       'locationabbr_MO', 'locationabbr_MS', 'locationabbr_MT',\n",
      "       'locationabbr_NC', 'locationabbr_ND', 'locationabbr_NE',\n",
      "       'locationabbr_NH', 'locationabbr_NJ', 'locationabbr_NM',\n",
      "       'locationabbr_NV', 'locationabbr_NY', 'locationabbr_OH',\n",
      "       'locationabbr_OK', 'locationabbr_OR', 'locationabbr_PA',\n",
      "       'locationabbr_RI', 'locationabbr_SC', 'locationabbr_SD',\n",
      "       'locationabbr_TN', 'locationabbr_TX', 'locationabbr_UT',\n",
      "       'locationabbr_VA', 'locationabbr_VT', 'age_group_Ages 35-64 years',\n",
      "       'age_group_Ages 65+ years',\n",
      "       'race/ethnicityage_group_American Indian and Alaska Native',\n",
      "       'race/ethnicityage_group_Asian and Pacific Islander',\n",
      "       'race/ethnicityage_group_Black', 'race/ethnicityage_group_Hispanic',\n",
      "       'race/ethnicityage_group_Overall', 'race/ethnicityage_group_White',\n",
      "       'sex_Female', 'sex_Male', 'sex_Overall', 'data_value'],\n",
      "      dtype='object')\n"
     ]
<<<<<<< Updated upstream
    }
   ],
   "source": [
    "print(df_new.columns)"
=======
    },
    {
     "data": {
      "text/plain": [
       "Index(['locationabbr_AL', 'locationabbr_CA', 'locationabbr_CO',\n",
       "       'locationabbr_CT', 'locationabbr_DC', 'locationabbr_HI',\n",
       "       'locationabbr_ID', 'locationabbr_KS', 'locationabbr_MA',\n",
       "       'locationabbr_MD', 'locationabbr_ME', 'locationabbr_MI',\n",
       "       'locationabbr_MN', 'locationabbr_MO', 'locationabbr_MS',\n",
       "       'locationabbr_MT', 'locationabbr_NC', 'locationabbr_NE',\n",
       "       'locationabbr_NH', 'locationabbr_NJ', 'locationabbr_NV',\n",
       "       'locationabbr_OH', 'locationabbr_OK', 'locationabbr_PA',\n",
       "       'locationabbr_SC', 'locationabbr_SD', 'locationabbr_TN',\n",
       "       'locationabbr_TX', 'locationabbr_UT', 'locationabbr_VA',\n",
       "       'locationabbr_VT', 'age_group_Ages 35-64 years',\n",
       "       'age_group_Ages 65+ years',\n",
       "       'race/ethnicityage_group_American Indian and Alaska Native',\n",
       "       'race/ethnicityage_group_Asian and Pacific Islander',\n",
       "       'race/ethnicityage_group_Black', 'race/ethnicityage_group_Hispanic',\n",
       "       'race/ethnicityage_group_Overall', 'sex_Male', 'sex_Overall',\n",
       "       'data_value'],\n",
       "      dtype='object')"
      ]
     },
     "execution_count": 65,
     "metadata": {},
     "output_type": "execute_result"
    }
   ],
   "source": [
    "print(df_new.shape)\n",
    "df_new.columns"
   ]
  },
  {
   "cell_type": "markdown",
   "metadata": {},
   "source": [
    "Như vậy, ta sẽ sử dụng những đặc trưng như sau để xây dựng mô hình"
   ]
  },
  {
   "cell_type": "code",
   "execution_count": 66,
   "metadata": {},
   "outputs": [
    {
     "data": {
      "text/plain": [
       "Index(['locationabbr_AL', 'locationabbr_CA', 'locationabbr_CO',\n",
       "       'locationabbr_CT', 'locationabbr_DC', 'locationabbr_HI',\n",
       "       'locationabbr_ID', 'locationabbr_KS', 'locationabbr_MA',\n",
       "       'locationabbr_MD', 'locationabbr_ME', 'locationabbr_MI',\n",
       "       'locationabbr_MN', 'locationabbr_MO', 'locationabbr_MS',\n",
       "       'locationabbr_MT', 'locationabbr_NC', 'locationabbr_NE',\n",
       "       'locationabbr_NH', 'locationabbr_NJ', 'locationabbr_NV',\n",
       "       'locationabbr_OH', 'locationabbr_OK', 'locationabbr_PA',\n",
       "       'locationabbr_SC', 'locationabbr_SD', 'locationabbr_TN',\n",
       "       'locationabbr_TX', 'locationabbr_UT', 'locationabbr_VA',\n",
       "       'locationabbr_VT', 'age_group_Ages 35-64 years',\n",
       "       'age_group_Ages 65+ years',\n",
       "       'race/ethnicityage_group_American Indian and Alaska Native',\n",
       "       'race/ethnicityage_group_Asian and Pacific Islander',\n",
       "       'race/ethnicityage_group_Black', 'race/ethnicityage_group_Hispanic',\n",
       "       'race/ethnicityage_group_Overall', 'sex_Male', 'sex_Overall'],\n",
       "      dtype='object')"
      ]
     },
     "execution_count": 66,
     "metadata": {},
     "output_type": "execute_result"
    }
   ],
   "source": [
    "df_new.drop(columns='data_value').columns"
>>>>>>> Stashed changes
   ]
  },
  {
   "cell_type": "markdown",
   "metadata": {},
   "source": [
    "# III. Xây dựng mô hình"
   ]
  },
  {
   "cell_type": "code",
<<<<<<< Updated upstream
   "execution_count": 134,
=======
   "execution_count": 67,
>>>>>>> Stashed changes
   "metadata": {},
   "outputs": [],
   "source": [
    "from sklearn.svm import SVR\n",
    "from sklearn.tree import DecisionTreeRegressor\n",
    "from sklearn.neighbors import KNeighborsRegressor\n",
    "from sklearn.ensemble import RandomForestRegressor\n",
    "from sklearn.preprocessing import PolynomialFeatures\n",
    "from sklearn.linear_model import LinearRegression,Ridge,Lasso\n",
    "import time\n",
    "\n",
    "from sklearn.pipeline import make_pipeline\n",
    "from sklearn.model_selection import train_test_split\n",
    "from sklearn.metrics import mean_absolute_error, mean_squared_error\n",
    "from sklearn.metrics import r2_score, accuracy_score"
   ]
  },
  {
   "cell_type": "code",
<<<<<<< Updated upstream
   "execution_count": 135,
=======
   "execution_count": 68,
>>>>>>> Stashed changes
   "metadata": {},
   "outputs": [],
   "source": [
    "X = df_new.drop(columns=['data_value'])\n",
    "y = df_new['data_value']"
   ]
  },
  {
   "cell_type": "markdown",
   "metadata": {},
   "source": [
    "## III.1 Chuẩn hoá dữ liệu"
   ]
  },
  {
   "cell_type": "markdown",
   "metadata": {},
   "source": [
    " Ta dùng phương pháp MinMaxScaler để scale dữ liệu về khoảng [0,1]"
   ]
  },
  {
   "cell_type": "code",
<<<<<<< Updated upstream
   "execution_count": 136,
=======
   "execution_count": 69,
>>>>>>> Stashed changes
   "metadata": {},
   "outputs": [
    {
     "data": {
      "text/plain": [
       "array([[1., 0., 0., ..., 0., 1., 0.],\n",
       "       [1., 0., 0., ..., 0., 0., 1.],\n",
       "       [1., 0., 0., ..., 0., 0., 1.],\n",
       "       ...,\n",
       "       [0., 0., 0., ..., 0., 1., 0.],\n",
       "       [0., 0., 0., ..., 0., 0., 1.],\n",
       "       [0., 0., 0., ..., 0., 0., 1.]])"
      ]
     },
<<<<<<< Updated upstream
     "execution_count": 136,
=======
     "execution_count": 69,
>>>>>>> Stashed changes
     "metadata": {},
     "output_type": "execute_result"
    }
   ],
   "source": [
    "from sklearn.preprocessing import MinMaxScaler\n",
    "\n",
    "scaler = MinMaxScaler()\n",
    "scaler.fit_transform(X,y)"
   ]
  },
  {
   "cell_type": "markdown",
   "metadata": {},
   "source": [
    "## III.2. Chia các tập train, test"
   ]
  },
  {
   "cell_type": "markdown",
   "metadata": {},
   "source": [
    "Chia tập train/test với tỷ lệ là 75:25"
   ]
  },
  {
   "cell_type": "code",
<<<<<<< Updated upstream
   "execution_count": 137,
=======
   "execution_count": 70,
>>>>>>> Stashed changes
   "metadata": {},
   "outputs": [],
   "source": [
    "#X_train, X_test, y_train, y_test = train_test_split(X, y, test_size=0.25,random_state=42)"
   ]
  },
  {
<<<<<<< Updated upstream
=======
   "cell_type": "code",
   "execution_count": 71,
   "metadata": {},
   "outputs": [],
   "source": [
    "# Chia thành train, validation, test\n",
    "X_train, X_temp, y_train, y_temp = train_test_split(X, y, test_size=0.3, random_state=42)\n",
    "X_val, X_test, y_val, y_test = train_test_split(X_temp, y_temp, test_size=0.5, random_state=42)\n"
   ]
  },
  {
>>>>>>> Stashed changes
   "cell_type": "markdown",
   "metadata": {},
   "source": [
    "## III.3 Chọn các mô hình tốt nhất"
   ]
  },
  {
   "cell_type": "markdown",
   "metadata": {},
   "source": [
<<<<<<< Updated upstream
    "Ta sẽ dùng phương pháp K Fold Cross Validation để đánh giá và chọn ra các mô hình tốt nhất. Sau khi chạy thử với nhiều k thì tụi em chọn k=7 vì nó có hiệu quả tốt nhất.\n",
    "\n",
    "Lý do dùng: Bởi vì tập dữ liệu khá nhỏ (656 rows), nếu chia ra các tập train/val/test thì không thật sự đo được độ hiệu quả của mô hình (vì mỗi tập quá ít dữ liệu). Dùng K Fold Cross Validation thì mọi phần trong tập train sẽ được dùng cho cả việc train và test, nhờ đó ta sẽ đánh giá chính xác hơn độ hiệu quả của mô hình."
=======
    "Ta sẽ dùng phương pháp K Fold Cross Validation kết hợp với GridSearchCV để đánh giá và chọn ra các mô hình tốt nhất. "
>>>>>>> Stashed changes
   ]
  },
  {
   "cell_type": "code",
<<<<<<< Updated upstream
   "execution_count": 138,
=======
   "execution_count": 72,
>>>>>>> Stashed changes
   "metadata": {},
   "outputs": [],
   "source": [
    "from sklearn.model_selection import cross_val_score"
   ]
  },
  {
   "cell_type": "markdown",
   "metadata": {},
   "source": [
    "Ta dùng điểm cross-validation đánh giá hiệu suất của mô hình trên dữ liệu mới mà nó chưa được huấn luyện.\n",
    "\n",
    "1. **Giá trị trung bình và độ lệch chuẩn:**\n",
    "   - **Giá trị trung bình (Mean Score):** Cho biết điểm trung bình của mô hình trên các fold. Nếu giá trị này cao, mô hình càng hiệu quả.\n",
    "   - **Độ lệch chuẩn (Standard Deviation):** Mô tả mức độ biến động của các điểm trên các fold. Nếu độ lệch chuẩn lớn, có thể có sự bất ổn định trong hiệu suất của mô hình trên các tập dữ liệu khác nhau.\n",
    "   \n",
    "2. **Đánh giá sự ổn định của mô hình:**\n",
    "   - Nếu độ lệch chuẩn lớn, có thể đề xuất rằng mô hình có thể không ổn định trên các tập dữ liệu khác nhau. Điều này có thể là dấu hiệu của overfitting, nghĩa là mô hình quá mức điều chỉnh cho dữ liệu huấn luyện cụ thể và không tổng quát hóa tốt trên dữ liệu mới.\n",
    "\n",
    "Do đó, nhóm em tiến hành chạy thử và ghi nhận `mean score`, `std` của các mô hình, từ đó chọn ra 3 mô hình tốt nhất."
   ]
  },
  {
   "cell_type": "markdown",
   "metadata": {},
   "source": [
    "Ta sẽ chọn các thuật toán để kiểm tra là LinearRegression, Decision Tree Regression, Ridge, Lasso, KNeighborsRegressor, RandomForestRegressor"
   ]
  },
  {
   "cell_type": "code",
<<<<<<< Updated upstream
   "execution_count": 139,
   "metadata": {},
   "outputs": [],
   "source": [
    "# Khởi tạo các mô hình\n",
    "models = {\n",
    "    'Linear Regression': LinearRegression(),\n",
    "    'Polynomial Regression': make_pipeline(PolynomialFeatures(degree=2), LinearRegression()),\n",
    "    #'Support Vector Regression': SVR(),\n",
=======
   "execution_count": 73,
   "metadata": {},
   "outputs": [
    {
     "name": "stdout",
     "output_type": "stream",
     "text": [
      "\n",
      "Model: Decision Tree Regression\n"
     ]
    },
    {
     "name": "stdout",
     "output_type": "stream",
     "text": [
      "\n",
      "Model: Ridge Regression\n",
      "\n",
      "Model: Lasso Regression\n",
      "\n",
      "Model: KNeighbors Regression\n",
      "\n",
      "Model: Random Forest Regression\n"
     ]
    }
   ],
   "source": [
    "\n",
    "# Khởi tạo các mô hình\n",
    "models = {\n",
    "    #'Linear Regression': LinearRegression(),\n",
>>>>>>> Stashed changes
    "    'Decision Tree Regression': DecisionTreeRegressor(),\n",
    "    'Ridge Regression': Ridge(),\n",
    "    'Lasso Regression': Lasso(),\n",
    "    'KNeighbors Regression': KNeighborsRegressor(),\n",
    "    'Random Forest Regression': RandomForestRegressor()\n",
    "}\n",
    "\n",
<<<<<<< Updated upstream
    "# Tạo DataFrame để lưu kết quả\n",
    "model_results_list =[]\n",
    "\n",
    "# Chạy cross-validation cho từng mô hình và ghi nhận kết quả\n",
    "for model_name, model in models.items():\n",
    "    scores = cross_val_score(model, X_train, y_train, cv=7)\n",
    "    mean_score = scores.mean()\n",
    "    std_dev = scores.std()\n",
    "    \n",
    "    # Thêm kết quả vào list\n",
    "    model_results_list.append({\n",
    "        'Model': model_name,\n",
    "        'Mean Score': mean_score,\n",
    "        'Standard Deviation': std_dev\n",
=======
    "param_grid = {\n",
    "    #'Linear Regression': {},\n",
    "    'Decision Tree Regression': {'max_depth': [None, 10, 20, 30]},\n",
    "    'Ridge Regression': {'alpha': [0.1, 1, 10]},\n",
    "    'Lasso Regression': {'alpha': [0.1, 1, 10]},\n",
    "    'KNeighbors Regression': {'n_neighbors': [5, 10, 15]},\n",
    "    'Random Forest Regression': {'n_estimators': [50, 100, 150], 'max_depth': [None, 10, 20]}\n",
    "}\n",
    "\n",
    "# Tạo DataFrame để lưu kết quả\n",
    "model_results_list = []\n",
    "\n",
    "# Chạy cross-validation và grid_searchCV cho từng mô hình và ghi nhận kết quả\n",
    "for model_name, model in models.items():\n",
    "    print(f\"\\nModel: {model_name}\")\n",
    "    \n",
    "    # Định nghĩa các siêu tham số muốn thử nghiệm\n",
    "    param_grid_model = param_grid[model_name]\n",
    "    \n",
    "    # Sử dụng GridSearchCV với cross-validation\n",
    "    grid_search = GridSearchCV(model, param_grid_model, cv=10) \n",
    "    \n",
    "    # Thực hiện tìm kiếm siêu tham số và cross-validation đồng thời trên tập huấn luyện\n",
    "    grid_search.fit(X_train, y_train)\n",
    "      \n",
    "    # Đánh giá mô hình trên tập xác nhận\n",
    "    val_score = grid_search.best_estimator_.score(X_val, y_val)\n",
    "    \n",
    "    # Tính toán cross-validation trên toàn bộ tập dữ liệu\n",
    "    cv_scores = cross_val_score(grid_search.best_estimator_, X, y, cv=10)\n",
    "    mean_cv_score = cv_scores.mean().round(5)\n",
    "    std_cv_score = cv_scores.std().round(5)\n",
    "    \n",
    "    # Thêm kết quả cross-validation vào list\n",
    "    model_results_list.append({\n",
    "        'Model': model_name,\n",
    "        'Best Parameters': grid_search.best_params_,\n",
    "        'Best Score': grid_search.best_score_,\n",
    "        'Validation Score': val_score,\n",
    "        'Cross-Validation Mean Score': mean_cv_score,\n",
    "        'Cross-Validation Standard Deviation': std_cv_score\n",
>>>>>>> Stashed changes
    "    })\n",
    "\n",
    "# Tạo DataFrame từ list kết quả\n",
    "model_results_df = pd.DataFrame(model_results_list)\n",
    "\n",
<<<<<<< Updated upstream
    "model_results_df.sort_values(by= 'Mean Score', ascending= False, inplace=True)"
   ]
  },
  {
   "cell_type": "code",
   "execution_count": 140,
   "metadata": {},
   "outputs": [
    {
     "data": {
      "text/html": [
       "<div>\n",
       "<style scoped>\n",
       "    .dataframe tbody tr th:only-of-type {\n",
       "        vertical-align: middle;\n",
       "    }\n",
       "\n",
       "    .dataframe tbody tr th {\n",
       "        vertical-align: top;\n",
       "    }\n",
       "\n",
       "    .dataframe thead th {\n",
       "        text-align: right;\n",
       "    }\n",
       "</style>\n",
       "<table border=\"1\" class=\"dataframe\">\n",
       "  <thead>\n",
       "    <tr style=\"text-align: right;\">\n",
       "      <th></th>\n",
       "      <th>Model</th>\n",
       "      <th>Mean Score</th>\n",
       "      <th>Standard Deviation</th>\n",
       "    </tr>\n",
       "  </thead>\n",
       "  <tbody>\n",
       "    <tr>\n",
       "      <th>2</th>\n",
       "      <td>Decision Tree Regression</td>\n",
       "      <td>0.962227</td>\n",
       "      <td>0.002043</td>\n",
       "    </tr>\n",
       "    <tr>\n",
       "      <th>6</th>\n",
       "      <td>Random Forest Regression</td>\n",
       "      <td>0.962197</td>\n",
       "      <td>0.002038</td>\n",
       "    </tr>\n",
       "    <tr>\n",
       "      <th>5</th>\n",
       "      <td>KNeighbors Regression</td>\n",
       "      <td>0.958980</td>\n",
       "      <td>0.002741</td>\n",
       "    </tr>\n",
       "    <tr>\n",
       "      <th>1</th>\n",
       "      <td>Polynomial Regression</td>\n",
       "      <td>0.953589</td>\n",
       "      <td>0.002103</td>\n",
       "    </tr>\n",
       "    <tr>\n",
       "      <th>0</th>\n",
       "      <td>Linear Regression</td>\n",
       "      <td>0.866966</td>\n",
       "      <td>0.005644</td>\n",
       "    </tr>\n",
       "    <tr>\n",
       "      <th>3</th>\n",
       "      <td>Ridge Regression</td>\n",
       "      <td>0.866959</td>\n",
       "      <td>0.005802</td>\n",
       "    </tr>\n",
       "    <tr>\n",
       "      <th>4</th>\n",
       "      <td>Lasso Regression</td>\n",
       "      <td>0.846427</td>\n",
       "      <td>0.008761</td>\n",
       "    </tr>\n",
       "  </tbody>\n",
       "</table>\n",
       "</div>"
      ],
      "text/plain": [
       "                      Model  Mean Score  Standard Deviation\n",
       "2  Decision Tree Regression    0.962227            0.002043\n",
       "6  Random Forest Regression    0.962197            0.002038\n",
       "5     KNeighbors Regression    0.958980            0.002741\n",
       "1     Polynomial Regression    0.953589            0.002103\n",
       "0         Linear Regression    0.866966            0.005644\n",
       "3          Ridge Regression    0.866959            0.005802\n",
       "4          Lasso Regression    0.846427            0.008761"
      ]
     },
     "execution_count": 140,
     "metadata": {},
     "output_type": "execute_result"
    }
   ],
   "source": [
=======
    "model_results_df.sort_values(by='Validation Score', ascending=False, inplace=True)\n",
    "\n",
>>>>>>> Stashed changes
    "model_results_df"
   ]
  },
  {
   "cell_type": "markdown",
   "metadata": {},
   "source": [
    "**Biểu diễn kết quả nhận được dưới dạng đồ thị**"
   ]
  },
  {
   "cell_type": "code",
   "execution_count": null,
   "metadata": {},
   "outputs": [
    {
     "data": {
      "image/png": "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",
      "text/plain": [
       "<Figure size 1800x800 with 2 Axes>"
      ]
     },
     "metadata": {},
     "output_type": "display_data"
    }
   ],
   "source": [
    "# Vẽ biểu đồ cột và đường trên cùng 1 xbar\n",
    "fig, ax = plt.subplots(figsize=(18, 8))\n",
    "\n",
    "# Biểu đồ Mean Score (bar chart)\n",
    "sns.barplot(x='Model', y='Validation Score', data=model_results_df, color='cornflowerblue', ax=ax, label='Validation Score')\n",
    "ax.set_title('Comparison of Model Scores')\n",
    "\n",
    "plt.xticks(rotation=45, ha='right')\n",
    "plt.yticks([0.2,0.4,0.6,0.8,1])\n",
    "\n",
    "ax2 = ax.twinx()\n",
    "sns.lineplot(x='Model', y='Cross-Validation Mean Score', data=model_results_df, color='red', marker='o', label='Cross-Validation Mean Score', ax=ax2, linewidth=2)\n",
    "\n",
    "ax.legend(loc='center right', bbox_to_anchor=(1.2,0.84))\n",
    "ax2.legend(loc='center right', bbox_to_anchor=(1.26,0.9))\n",
    "plt.show()\n"
   ]
  },
  {
   "cell_type": "markdown",
   "metadata": {},
   "source": [
    "Dễ dàng nhận thấy 3 mô hình cho kết quả `mean score` tốt nhất là:\n",
    "1. **Decision Tree Regression**\n",
    "\n",
    "2. **Random Forest Regression**\n",
    "\n",
    "3. **KNeighbors Regression**"
   ]
  },
  {
   "cell_type": "markdown",
   "metadata": {},
   "source": [
    "## III.4 Tiến hành huấn luyện mô hình\n",
    "Cho các mô hình này lần lượt chạy trên tập train và test để đo độ hiệu quả của chúng.\n",
    "\n",
    "Ta sẽ tính các giá trị đo độ lỗi như sau:\n",
    "\n",
    "- MAE: lỗi trị tuyệt đối trung bình\n",
    "- MSE: lỗi bình phương trung bình\n",
    "- RMSE: sai số bình phương trung bình căn\n",
    "- R2_score: mức độ phù hợp của mô hình với tập dữ liệu"
   ]
  },
  {
   "cell_type": "code",
   "execution_count": null,
   "metadata": {},
   "outputs": [
    {
     "name": "stdout",
     "output_type": "stream",
     "text": [
      "====== Decision Tree Regression ======\n",
      "====== Random Forest Regression ======\n",
      "====== KNeighbors Regression ======\n"
     ]
    },
    {
     "data": {
      "image/png": "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",
      "text/plain": [
       "<Figure size 2000x1000 with 6 Axes>"
      ]
     },
     "metadata": {},
     "output_type": "display_data"
    }
   ],
   "source": [
    "# Khai báo các mô hình và siêu tham số\n",
    "\n",
    "# Siêu tham số của mô hình\n",
    "model_params = {\n",
    "    'Decision Tree Regression': {'max_depth': None},\n",
    "    'Random Forest Regression': {'max_depth': None, 'n_estimators': 50},\n",
    "    'KNeighbors Regression': {'n_neighbors': 10}\n",
    "}\n",
    "\n",
    "# Danh sách kết quả train và test\n",
    "train_results = []\n",
    "test_results = []\n",
    "val_results = []\n",
    "\n",
    "count_model = 1\n",
    "\n",
    "plt.figure(figsize=(20, 10))\n",
    "\n",
    "# Vòng lặp qua từng mô hình\n",
    "for model_name, model in model_params.items():\n",
    "    # Huấn luyện mô hình\n",
    "    if model_name == 'Decision Tree Regression':\n",
    "        reg_model = DecisionTreeRegressor(**model)\n",
    "    elif model_name == 'Random Forest Regression':\n",
    "        reg_model = RandomForestRegressor(**model)\n",
    "    elif model_name == 'KNeighbors Regression':\n",
    "        reg_model = KNeighborsRegressor(**model)\n",
    "    \n",
    "    reg_model.fit(X_train, y_train)\n",
    "    \n",
    "    print(f\"====== {model_name} ======\")\n",
    "    \n",
    "    # Dự đoán trên tập huấn luyện\n",
    "    y_pred_train = reg_model.predict(X_train)\n",
    "    score_train_mae = mean_absolute_error(y_train, y_pred_train).round(5)\n",
    "    mse_score_train = mean_squared_error(y_train, y_pred_train).round(5)\n",
    "    rmse_train = mean_squared_error(y_train, y_pred_train, squared=False).round(5)\n",
    "    score_r2_train = r2_score(y_train, y_pred_train).round(5)\n",
    "    \n",
    "    #print(\"-----TRAIN-----\")\n",
    "    #print(\"Train error (MAE): {}\".format(score_train_mae))\n",
    "    #print(\"Train error (MSE): {}\".format(mse_score_train))\n",
    "    #print(\"Train error (RMSE): {}\".format(rmse_train))\n",
    "    #print(\"R2 score : {}\".format(score_r2_train))\n",
    "    \n",
    "    # Ghi kết quả train vào danh sách\n",
    "    train_results.append({\n",
    "        'Model': model_name,\n",
    "        'MAE': score_train_mae,\n",
    "        'MSE': mse_score_train,\n",
    "        'RMSE': rmse_train,\n",
    "        'R2 Score': score_r2_train\n",
    "    })\n",
    "    \n",
    "    # Dự đoán trên tập kiểm tra\n",
    "    y_pred_test = reg_model.predict(X_test)\n",
    "    score_test_mae = mean_absolute_error(y_test, y_pred_test).round(5)\n",
    "    mse_score_test = mean_squared_error(y_test, y_pred_test).round(5)\n",
    "    rmse_test = mean_squared_error(y_test, y_pred_test, squared=False).round(5)\n",
    "    score_r2_test = r2_score(y_test, y_pred_test).round(5)\n",
    "    \n",
    "    #print(\"-----TEST-----\")\n",
    "    #print(\"Test error (MAE): {}\".format(score_test_mae))\n",
    "    #print(\"Test error (MSE): {}\".format(mse_score_test))\n",
    "    #print(\"Test error (RMSE): {}\".format(rmse_test))\n",
    "    #print(\"R2 score : {}\".format(score_r2_test))\n",
    "    \n",
    "    # Ghi kết quả test vào danh sách\n",
    "    test_results.append({\n",
    "        'Model': model_name,\n",
    "        'MAE': score_test_mae,\n",
    "        'MSE': mse_score_test,\n",
    "        'RMSE': rmse_test,\n",
    "        'R2 Score': score_r2_test\n",
    "    })\n",
    "    \n",
    "    plt.subplot(2, 4, count_model)\n",
    "    # Vẽ biểu đồ so sánh giá trị thực tế và dự đoán trên tập kiểm tra\n",
    "    sns.regplot(x=y_test, y=y_pred_test)\n",
    "    plt.title(model_name + \" - Test\")\n",
    "    plt.xlabel('Actual')\n",
    "    plt.ylabel('Predict')\n",
    "    \n",
    "    # Dự đoán trên tập xác nhận\n",
    "    y_pred_val = reg_model.predict(X_val)\n",
    "    score_val_mae = mean_absolute_error(y_val, y_pred_val).round(5)\n",
    "    mse_score_val = mean_squared_error(y_val, y_pred_val).round(5)\n",
    "    rmse_val = mean_squared_error(y_val, y_pred_val, squared=False).round(5)\n",
    "    score_r2_val = r2_score(y_val, y_pred_val).round(5)\n",
    "\n",
    "    #print(\"-----VALIDATION-----\")\n",
    "    #print(\"Validation error (MAE): {}\".format(score_val_mae))\n",
    "    #print(\"Validation error (MSE): {}\".format(mse_score_val))\n",
    "    #print(\"Validation error (RMSE): {}\".format(rmse_val))\n",
    "    #print(\"R2 score : {}\".format(score_r2_val))\n",
    "\n",
    "    # Ghi kết quả xác nhận vào danh sách\n",
    "    val_results.append({\n",
    "        'Model': model_name,\n",
    "        'MAE': score_val_mae,\n",
    "        'MSE': mse_score_val,\n",
    "        'RMSE': rmse_val,\n",
    "        'R2 Score': score_r2_val\n",
    "    })\n",
    "\n",
    "    # Vẽ biểu đồ so sánh giá trị thực tế và dự đoán trên tập xác nhận\n",
    "    plt.subplot(2, 4, count_model + 4)  # Sử dụng vùng vẽ bảng thứ hai (hàng thứ hai)\n",
    "    sns.regplot(x=y_val, y=y_pred_val)\n",
    "    plt.title(model_name + \" - Validation\")\n",
    "    plt.xlabel('Actual')\n",
    "    plt.ylabel('Predict')\n",
    "    \n",
    "    count_model += 1\n",
    "\n",
    "plt.show()\n",
    "\n",
    "# Chuyển danh sách kết quả train, test, và validation thành DataFrame\n",
    "train_df = pd.DataFrame(train_results)\n",
    "test_df = pd.DataFrame(test_results)\n",
    "val_df = pd.DataFrame(val_results)\n"
   ]
  },
  {
   "cell_type": "markdown",
   "metadata": {},
   "source": [
    "==="
   ]
  },
  {
   "cell_type": "code",
   "execution_count": null,
   "metadata": {},
   "outputs": [
    {
     "data": {
      "text/html": [
       "<div>\n",
       "<style scoped>\n",
       "    .dataframe tbody tr th:only-of-type {\n",
       "        vertical-align: middle;\n",
       "    }\n",
       "\n",
       "    .dataframe tbody tr th {\n",
       "        vertical-align: top;\n",
       "    }\n",
       "\n",
       "    .dataframe thead th {\n",
       "        text-align: right;\n",
       "    }\n",
       "</style>\n",
       "<table border=\"1\" class=\"dataframe\">\n",
       "  <thead>\n",
       "    <tr style=\"text-align: right;\">\n",
       "      <th></th>\n",
       "      <th>Model</th>\n",
       "      <th>MAE</th>\n",
       "      <th>MSE</th>\n",
       "      <th>RMSE</th>\n",
       "      <th>R2 Score</th>\n",
       "    </tr>\n",
       "  </thead>\n",
       "  <tbody>\n",
       "    <tr>\n",
       "      <th>0</th>\n",
       "      <td>Decision Tree Regression</td>\n",
       "      <td>24.17709</td>\n",
       "      <td>1935.81048</td>\n",
       "      <td>43.99785</td>\n",
       "      <td>0.95729</td>\n",
       "    </tr>\n",
       "    <tr>\n",
       "      <th>1</th>\n",
       "      <td>Random Forest Regression</td>\n",
       "      <td>24.17863</td>\n",
       "      <td>1937.76485</td>\n",
       "      <td>44.02005</td>\n",
       "      <td>0.95725</td>\n",
       "    </tr>\n",
       "    <tr>\n",
       "      <th>2</th>\n",
       "      <td>KNeighbors Regression</td>\n",
       "      <td>25.50219</td>\n",
       "      <td>2140.11770</td>\n",
       "      <td>46.26141</td>\n",
       "      <td>0.95279</td>\n",
       "    </tr>\n",
       "  </tbody>\n",
       "</table>\n",
       "</div>"
      ],
      "text/plain": [
       "                      Model       MAE         MSE      RMSE  R2 Score\n",
       "0  Decision Tree Regression  24.17709  1935.81048  43.99785   0.95729\n",
       "1  Random Forest Regression  24.17863  1937.76485  44.02005   0.95725\n",
       "2     KNeighbors Regression  25.50219  2140.11770  46.26141   0.95279"
      ]
     },
     "execution_count": 43,
     "metadata": {},
     "output_type": "execute_result"
    }
   ],
   "source": [
    "train_df"
   ]
  },
  {
   "cell_type": "code",
   "execution_count": null,
   "metadata": {},
   "outputs": [
    {
     "data": {
      "text/html": [
       "<div>\n",
       "<style scoped>\n",
       "    .dataframe tbody tr th:only-of-type {\n",
       "        vertical-align: middle;\n",
       "    }\n",
       "\n",
       "    .dataframe tbody tr th {\n",
       "        vertical-align: top;\n",
       "    }\n",
       "\n",
       "    .dataframe thead th {\n",
       "        text-align: right;\n",
       "    }\n",
       "</style>\n",
       "<table border=\"1\" class=\"dataframe\">\n",
       "  <thead>\n",
       "    <tr style=\"text-align: right;\">\n",
       "      <th></th>\n",
       "      <th>Model</th>\n",
       "      <th>MAE</th>\n",
       "      <th>MSE</th>\n",
       "      <th>RMSE</th>\n",
       "      <th>R2 Score</th>\n",
       "    </tr>\n",
       "  </thead>\n",
       "  <tbody>\n",
       "    <tr>\n",
       "      <th>0</th>\n",
       "      <td>Decision Tree Regression</td>\n",
       "      <td>25.76839</td>\n",
       "      <td>2166.35161</td>\n",
       "      <td>46.54408</td>\n",
       "      <td>0.95263</td>\n",
       "    </tr>\n",
       "    <tr>\n",
       "      <th>1</th>\n",
       "      <td>Random Forest Regression</td>\n",
       "      <td>25.80477</td>\n",
       "      <td>2173.94615</td>\n",
       "      <td>46.62560</td>\n",
       "      <td>0.95247</td>\n",
       "    </tr>\n",
       "    <tr>\n",
       "      <th>2</th>\n",
       "      <td>KNeighbors Regression</td>\n",
       "      <td>26.83327</td>\n",
       "      <td>2323.46880</td>\n",
       "      <td>48.20237</td>\n",
       "      <td>0.94920</td>\n",
       "    </tr>\n",
       "  </tbody>\n",
       "</table>\n",
       "</div>"
      ],
      "text/plain": [
       "                      Model       MAE         MSE      RMSE  R2 Score\n",
       "0  Decision Tree Regression  25.76839  2166.35161  46.54408   0.95263\n",
       "1  Random Forest Regression  25.80477  2173.94615  46.62560   0.95247\n",
       "2     KNeighbors Regression  26.83327  2323.46880  48.20237   0.94920"
      ]
     },
     "execution_count": 44,
     "metadata": {},
     "output_type": "execute_result"
    }
   ],
   "source": [
    "test_df"
   ]
  },
  {
   "cell_type": "code",
   "execution_count": null,
   "metadata": {},
   "outputs": [
    {
     "data": {
      "text/html": [
       "<div>\n",
       "<style scoped>\n",
       "    .dataframe tbody tr th:only-of-type {\n",
       "        vertical-align: middle;\n",
       "    }\n",
       "\n",
       "    .dataframe tbody tr th {\n",
       "        vertical-align: top;\n",
       "    }\n",
       "\n",
       "    .dataframe thead th {\n",
       "        text-align: right;\n",
       "    }\n",
       "</style>\n",
       "<table border=\"1\" class=\"dataframe\">\n",
       "  <thead>\n",
       "    <tr style=\"text-align: right;\">\n",
       "      <th></th>\n",
       "      <th>Model</th>\n",
       "      <th>MAE</th>\n",
       "      <th>MSE</th>\n",
       "      <th>RMSE</th>\n",
       "      <th>R2 Score</th>\n",
       "    </tr>\n",
       "  </thead>\n",
       "  <tbody>\n",
       "    <tr>\n",
       "      <th>0</th>\n",
       "      <td>Decision Tree Regression</td>\n",
       "      <td>25.63672</td>\n",
       "      <td>2304.09095</td>\n",
       "      <td>48.00095</td>\n",
       "      <td>0.94911</td>\n",
       "    </tr>\n",
       "    <tr>\n",
       "      <th>1</th>\n",
       "      <td>Random Forest Regression</td>\n",
       "      <td>25.64993</td>\n",
       "      <td>2308.21978</td>\n",
       "      <td>48.04394</td>\n",
       "      <td>0.94902</td>\n",
       "    </tr>\n",
       "    <tr>\n",
       "      <th>2</th>\n",
       "      <td>KNeighbors Regression</td>\n",
       "      <td>26.97094</td>\n",
       "      <td>2464.54623</td>\n",
       "      <td>49.64420</td>\n",
       "      <td>0.94557</td>\n",
       "    </tr>\n",
       "  </tbody>\n",
       "</table>\n",
       "</div>"
      ],
      "text/plain": [
       "                      Model       MAE         MSE      RMSE  R2 Score\n",
       "0  Decision Tree Regression  25.63672  2304.09095  48.00095   0.94911\n",
       "1  Random Forest Regression  25.64993  2308.21978  48.04394   0.94902\n",
       "2     KNeighbors Regression  26.97094  2464.54623  49.64420   0.94557"
      ]
     },
     "execution_count": 45,
     "metadata": {},
     "output_type": "execute_result"
    }
   ],
   "source": [
    "val_df"
   ]
  },
  {
   "cell_type": "code",
   "execution_count": null,
   "metadata": {},
   "outputs": [
    {
     "data": {
      "text/plain": [
       "['./Deploy/DT_model.sav']"
      ]
     },
     "execution_count": 145,
     "metadata": {},
     "output_type": "execute_result"
    }
   ],
   "source": [
    "# Lưu lại các thông số của 2 mô hình tốt nhất để triển khai (deploy).\n",
    "import joblib\n",
    "\n",
    "# Vòng lặp qua từng mô hình\n",
    "for model_name, model in model_params.items():\n",
    "    # Huấn luyện mô hình\n",
    "    if model_name == 'Decision Tree Regression':\n",
    "        reg_model = DecisionTreeRegressor(**model)\n",
    "    elif model_name == 'Random Forest Regression':\n",
    "        reg_model = RandomForestRegressor(**model)\n",
    "    elif model_name == 'KNeighbors Regression':\n",
    "        reg_model = KNeighborsRegressor(**model)\n",
    "    \n",
    "    reg_model.fit(X_train, y_train)\n",
    "    # Lưu các thông số của mô hình vào file \n",
    "    # Huấn luyện mô hình\n",
    "    if model_name == 'Decision Tree Regression':\n",
    "        joblib.dump(reg_model, \"./Deploy/DT_model.sav\")\n",
    "    elif model_name == 'Random Forest Regression':\n",
    "        joblib.dump(reg_model, \"./Deploy/RF_model.sav\")\n",
    "    elif model_name == 'KNeighbors Regression':\n",
    "        joblib.dump(reg_model, \"./Deploy/KN_model.sav\")"
   ]
  }
 ],
 "metadata": {
  "kernelspec": {
   "display_name": "Python 3 (ipykernel)",
   "language": "python",
   "name": "python3"
  },
  "language_info": {
   "codemirror_mode": {
    "name": "ipython",
    "version": 3
   },
   "file_extension": ".py",
   "mimetype": "text/x-python",
   "name": "python",
   "nbconvert_exporter": "python",
   "pygments_lexer": "ipython3",
   "version": "3.11.7"
  }
 },
 "nbformat": 4,
 "nbformat_minor": 4
}

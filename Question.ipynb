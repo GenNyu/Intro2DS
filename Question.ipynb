{
 "cells": [
  {
   "cell_type": "code",
   "execution_count": 3,
   "metadata": {},
   "outputs": [],
   "source": [
    "# import libraries\n",
    "import requests\n",
    "import json\n",
    "import pandas as pd\n",
    "import matplotlib.pyplot as plt\n",
    "import numpy as np\n",
    "import geopandas as gpd \n",
    "import plotly.express as px"
   ]
  },
  {
   "cell_type": "code",
   "execution_count": 4,
   "metadata": {},
   "outputs": [],
   "source": [
    "# set the url for the data\n",
    "a_url = \"https://chronicdata.cdc.gov/resource/jiwm-ppbh.json\""
   ]
  },
  {
   "cell_type": "code",
   "execution_count": 5,
   "metadata": {},
   "outputs": [],
   "source": [
    "# set the parameters for the data\n",
    "limit = 100000\n",
    "offset = 0 \n",
    "params = {\"$limit\": limit, \"$offset\": offset}\n",
    "\n",
    "# get the data\n",
    "response = requests.get(a_url, params=params)\n",
    "data = response.json()\n"
   ]
  },
  {
   "cell_type": "code",
   "execution_count": 6,
   "metadata": {},
   "outputs": [],
   "source": [
    "df = pd.DataFrame(data)\n",
    "df_kb= df[(df['stratification1'] == 'Overall') & (df['stratification2'] == 'Overall')]"
   ]
  },
  {
   "cell_type": "code",
   "execution_count": 7,
   "metadata": {},
   "outputs": [
    {
     "name": "stderr",
     "output_type": "stream",
     "text": [
      "C:\\Users\\ngpth\\AppData\\Local\\Temp\\ipykernel_21536\\3572888060.py:1: SettingWithCopyWarning: \n",
      "A value is trying to be set on a copy of a slice from a DataFrame\n",
      "\n",
      "See the caveats in the documentation: https://pandas.pydata.org/pandas-docs/stable/user_guide/indexing.html#returning-a-view-versus-a-copy\n",
      "  df_kb.dropna(subset=['y_lat', 'x_lon'], inplace=True)\n",
      "C:\\Users\\ngpth\\AppData\\Local\\Temp\\ipykernel_21536\\3572888060.py:2: SettingWithCopyWarning: \n",
      "A value is trying to be set on a copy of a slice from a DataFrame.\n",
      "Try using .loc[row_indexer,col_indexer] = value instead\n",
      "\n",
      "See the caveats in the documentation: https://pandas.pydata.org/pandas-docs/stable/user_guide/indexing.html#returning-a-view-versus-a-copy\n",
      "  df_kb['data_value'] = df_kb['data_value'].astype(float)\n",
      "C:\\Users\\ngpth\\AppData\\Local\\Temp\\ipykernel_21536\\3572888060.py:3: SettingWithCopyWarning: \n",
      "A value is trying to be set on a copy of a slice from a DataFrame.\n",
      "Try using .loc[row_indexer,col_indexer] = value instead\n",
      "\n",
      "See the caveats in the documentation: https://pandas.pydata.org/pandas-docs/stable/user_guide/indexing.html#returning-a-view-versus-a-copy\n",
      "  df_kb['x_lon'] = df_kb['x_lon'].astype(float)\n",
      "C:\\Users\\ngpth\\AppData\\Local\\Temp\\ipykernel_21536\\3572888060.py:4: SettingWithCopyWarning: \n",
      "A value is trying to be set on a copy of a slice from a DataFrame.\n",
      "Try using .loc[row_indexer,col_indexer] = value instead\n",
      "\n",
      "See the caveats in the documentation: https://pandas.pydata.org/pandas-docs/stable/user_guide/indexing.html#returning-a-view-versus-a-copy\n",
      "  df_kb['y_lat'] = df_kb['y_lat'].astype(float)\n"
     ]
    }
   ],
   "source": [
    "df_kb.dropna(subset=['y_lat', 'x_lon'], inplace=True)\n",
    "df_kb['data_value'] = df_kb['data_value'].astype(float)\n",
    "df_kb['x_lon'] = df_kb['x_lon'].astype(float)\n",
    "df_kb['y_lat'] = df_kb['y_lat'].astype(float)"
   ]
  },
  {
   "cell_type": "code",
   "execution_count": 8,
   "metadata": {},
   "outputs": [
    {
     "name": "stdout",
     "output_type": "stream",
     "text": [
      "<class 'pandas.core.frame.DataFrame'>\n",
      "Int64Index: 3282 entries, 0 to 59076\n",
      "Data columns (total 20 columns):\n",
      " #   Column                      Non-Null Count  Dtype  \n",
      "---  ------                      --------------  -----  \n",
      " 0   year                        3282 non-null   object \n",
      " 1   locationabbr                3282 non-null   object \n",
      " 2   locationdesc                3282 non-null   object \n",
      " 3   geographiclevel             3282 non-null   object \n",
      " 4   datasource                  3282 non-null   object \n",
      " 5   class                       3282 non-null   object \n",
      " 6   topic                       3282 non-null   object \n",
      " 7   data_value                  3275 non-null   float64\n",
      " 8   data_value_unit             3282 non-null   object \n",
      " 9   data_value_type             3282 non-null   object \n",
      " 10  stratificationcategory1     3282 non-null   object \n",
      " 11  stratification1             3282 non-null   object \n",
      " 12  stratificationcategory2     3282 non-null   object \n",
      " 13  stratification2             3282 non-null   object \n",
      " 14  topicid                     3282 non-null   object \n",
      " 15  locationid                  3282 non-null   object \n",
      " 16  y_lat                       3282 non-null   float64\n",
      " 17  x_lon                       3282 non-null   float64\n",
      " 18  data_value_footnote_symbol  7 non-null      object \n",
      " 19  data_value_footnote         7 non-null      object \n",
      "dtypes: float64(3), object(17)\n",
      "memory usage: 538.5+ KB\n"
     ]
    }
   ],
   "source": [
    "df_kb.info()"
   ]
  },
  {
   "cell_type": "code",
   "execution_count": null,
   "metadata": {},
   "outputs": [],
   "source": []
  },
  {
   "cell_type": "code",
   "execution_count": 9,
   "metadata": {},
   "outputs": [
    {
     "name": "stdout",
     "output_type": "stream",
     "text": [
      "<class 'pandas.core.frame.DataFrame'>\n",
      "Int64Index: 3282 entries, 0 to 59076\n",
      "Data columns (total 3 columns):\n",
      " #   Column      Non-Null Count  Dtype  \n",
      "---  ------      --------------  -----  \n",
      " 0   y_lat       3282 non-null   float64\n",
      " 1   x_lon       3282 non-null   float64\n",
      " 2   data_value  3275 non-null   float64\n",
      "dtypes: float64(3)\n",
      "memory usage: 102.6 KB\n"
     ]
    }
   ],
   "source": [
    "new_df = df_kb[['y_lat', 'x_lon', 'data_value']].copy()\n",
    "new_df.info()"
   ]
  },
  {
   "cell_type": "code",
   "execution_count": 10,
   "metadata": {},
   "outputs": [
    {
     "data": {
      "text/html": [
       "<div>\n",
       "<style scoped>\n",
       "    .dataframe tbody tr th:only-of-type {\n",
       "        vertical-align: middle;\n",
       "    }\n",
       "\n",
       "    .dataframe tbody tr th {\n",
       "        vertical-align: top;\n",
       "    }\n",
       "\n",
       "    .dataframe thead th {\n",
       "        text-align: right;\n",
       "    }\n",
       "</style>\n",
       "<table border=\"1\" class=\"dataframe\">\n",
       "  <thead>\n",
       "    <tr style=\"text-align: right;\">\n",
       "      <th></th>\n",
       "      <th>locationabbr</th>\n",
       "      <th>y_lat</th>\n",
       "      <th>x_lon</th>\n",
       "      <th>data_value</th>\n",
       "    </tr>\n",
       "  </thead>\n",
       "  <tbody>\n",
       "    <tr>\n",
       "      <th>0</th>\n",
       "      <td>AK</td>\n",
       "      <td>55.442393</td>\n",
       "      <td>-161.959930</td>\n",
       "      <td>258.370370</td>\n",
       "    </tr>\n",
       "    <tr>\n",
       "      <th>1</th>\n",
       "      <td>AL</td>\n",
       "      <td>32.539426</td>\n",
       "      <td>-86.641296</td>\n",
       "      <td>471.527941</td>\n",
       "    </tr>\n",
       "    <tr>\n",
       "      <th>2</th>\n",
       "      <td>AR</td>\n",
       "      <td>34.291259</td>\n",
       "      <td>-91.367868</td>\n",
       "      <td>446.952632</td>\n",
       "    </tr>\n",
       "    <tr>\n",
       "      <th>3</th>\n",
       "      <td>AS</td>\n",
       "      <td>-14.301754</td>\n",
       "      <td>-170.719474</td>\n",
       "      <td>9.100000</td>\n",
       "    </tr>\n",
       "    <tr>\n",
       "      <th>4</th>\n",
       "      <td>AZ</td>\n",
       "      <td>35.394866</td>\n",
       "      <td>-109.486870</td>\n",
       "      <td>286.931250</td>\n",
       "    </tr>\n",
       "  </tbody>\n",
       "</table>\n",
       "</div>"
      ],
      "text/plain": [
       "  locationabbr      y_lat       x_lon  data_value\n",
       "0           AK  55.442393 -161.959930  258.370370\n",
       "1           AL  32.539426  -86.641296  471.527941\n",
       "2           AR  34.291259  -91.367868  446.952632\n",
       "3           AS -14.301754 -170.719474    9.100000\n",
       "4           AZ  35.394866 -109.486870  286.931250"
      ]
     },
     "execution_count": 10,
     "metadata": {},
     "output_type": "execute_result"
    }
   ],
   "source": [
    "n_df = df_kb[['locationabbr', 'locationdesc','y_lat', 'x_lon', 'data_value']].copy()\n",
    "unique_locations = n_df.groupby('locationabbr').agg({'y_lat': 'first', 'x_lon': 'first', 'data_value': 'mean'}).reset_index()\n",
    "unique_locations.head(5)"
   ]
  },
  {
   "cell_type": "code",
   "execution_count": 11,
   "metadata": {},
   "outputs": [],
   "source": []
  },
  {
   "cell_type": "code",
   "execution_count": 12,
   "metadata": {},
   "outputs": [
    {
     "data": {
      "application/vnd.plotly.v1+json": {
       "config": {
        "plotlyServerURL": "https://plot.ly"
       },
       "data": [
        {
         "coloraxis": "coloraxis",
         "geo": "geo",
         "hovertemplate": "<b>%{hovertext}</b><br><br>locationabbr=%{location}<br>data_value=%{z}<extra></extra>",
         "hovertext": [
          "AK",
          "AL",
          "AR",
          "AS",
          "AZ",
          "CA",
          "CO",
          "CT",
          "DC",
          "DE",
          "FL",
          "GA",
          "GU",
          "HI",
          "IA",
          "ID",
          "IL",
          "IN",
          "KS",
          "KY",
          "LA",
          "MA",
          "MD",
          "ME",
          "MI",
          "MN",
          "MO",
          "MP",
          "MS",
          "MT",
          "NC",
          "ND",
          "NE",
          "NH",
          "NJ",
          "NM",
          "NV",
          "NY",
          "OH",
          "OK",
          "OR",
          "PA",
          "PR",
          "RI",
          "SC",
          "SD",
          "TN",
          "TX",
          "UT",
          "VA",
          "VI",
          "VT",
          "WA",
          "WI",
          "WV",
          "WY"
         ],
         "locationmode": "USA-states",
         "locations": [
          "AK",
          "AL",
          "AR",
          "AS",
          "AZ",
          "CA",
          "CO",
          "CT",
          "DC",
          "DE",
          "FL",
          "GA",
          "GU",
          "HI",
          "IA",
          "ID",
          "IL",
          "IN",
          "KS",
          "KY",
          "LA",
          "MA",
          "MD",
          "ME",
          "MI",
          "MN",
          "MO",
          "MP",
          "MS",
          "MT",
          "NC",
          "ND",
          "NE",
          "NH",
          "NJ",
          "NM",
          "NV",
          "NY",
          "OH",
          "OK",
          "OR",
          "PA",
          "PR",
          "RI",
          "SC",
          "SD",
          "TN",
          "TX",
          "UT",
          "VA",
          "VI",
          "VT",
          "WA",
          "WI",
          "WV",
          "WY"
         ],
         "name": "",
         "type": "choropleth",
         "z": [
          258.3703703703704,
          471.5279411764706,
          446.9526315789474,
          9.1,
          286.93125,
          285.3084745762712,
          245.0723076923077,
          282.26666666666665,
          352.55,
          310.775,
          306.2970588235294,
          397.896875,
          557,
          239.86666666666667,
          343.51099999999997,
          297.8666666666667,
          351.66893203883495,
          359.12580645161285,
          332.37735849056605,
          426.39256198347107,
          458.89076923076925,
          254.89333333333335,
          348.76,
          292.4647058823529,
          367.3809523809524,
          260.50113636363636,
          392.9810344827587,
          316.8,
          469.61807228915666,
          320.84736842105264,
          330.6158415841584,
          296.05185185185184,
          297.0436170212766,
          285.8,
          328.15000000000003,
          311.49117647058824,
          372.02777777777777,
          330.252380952381,
          383.51348314606736,
          471.3525641025641,
          270.5216216216216,
          346.31470588235294,
          209.4481012658228,
          290.3833333333333,
          363.4404255319149,
          312.5328358208955,
          437.9760416666666,
          373.1596078431372,
          296.3,
          336.48805970149255,
          113.8,
          308.67333333333335,
          275.585,
          309.0191780821918,
          383.2714285714286,
          299.45416666666665
         ]
        }
       ],
       "layout": {
        "coloraxis": {
         "cmax": 557,
         "cmin": 9.1,
         "colorbar": {
          "title": {
           "text": "data_value"
          }
         },
         "colorscale": [
          [
           0,
           "rgb(255, 255, 255)"
          ],
          [
           0.4757630161579892,
           "rgb(255, 230, 230)"
          ],
          [
           1,
           "rgb(255,0,0)"
          ]
         ]
        },
        "geo": {
         "center": {},
         "domain": {
          "x": [
           0,
           1
          ],
          "y": [
           0,
           1
          ]
         },
         "scope": "usa"
        },
        "height": 600,
        "legend": {
         "tracegroupgap": 0
        },
        "template": {
         "data": {
          "bar": [
           {
            "error_x": {
             "color": "#2a3f5f"
            },
            "error_y": {
             "color": "#2a3f5f"
            },
            "marker": {
             "line": {
              "color": "#E5ECF6",
              "width": 0.5
             },
             "pattern": {
              "fillmode": "overlay",
              "size": 10,
              "solidity": 0.2
             }
            },
            "type": "bar"
           }
          ],
          "barpolar": [
           {
            "marker": {
             "line": {
              "color": "#E5ECF6",
              "width": 0.5
             },
             "pattern": {
              "fillmode": "overlay",
              "size": 10,
              "solidity": 0.2
             }
            },
            "type": "barpolar"
           }
          ],
          "carpet": [
           {
            "aaxis": {
             "endlinecolor": "#2a3f5f",
             "gridcolor": "white",
             "linecolor": "white",
             "minorgridcolor": "white",
             "startlinecolor": "#2a3f5f"
            },
            "baxis": {
             "endlinecolor": "#2a3f5f",
             "gridcolor": "white",
             "linecolor": "white",
             "minorgridcolor": "white",
             "startlinecolor": "#2a3f5f"
            },
            "type": "carpet"
           }
          ],
          "choropleth": [
           {
            "colorbar": {
             "outlinewidth": 0,
             "ticks": ""
            },
            "type": "choropleth"
           }
          ],
          "contour": [
           {
            "colorbar": {
             "outlinewidth": 0,
             "ticks": ""
            },
            "colorscale": [
             [
              0,
              "#0d0887"
             ],
             [
              0.1111111111111111,
              "#46039f"
             ],
             [
              0.2222222222222222,
              "#7201a8"
             ],
             [
              0.3333333333333333,
              "#9c179e"
             ],
             [
              0.4444444444444444,
              "#bd3786"
             ],
             [
              0.5555555555555556,
              "#d8576b"
             ],
             [
              0.6666666666666666,
              "#ed7953"
             ],
             [
              0.7777777777777778,
              "#fb9f3a"
             ],
             [
              0.8888888888888888,
              "#fdca26"
             ],
             [
              1,
              "#f0f921"
             ]
            ],
            "type": "contour"
           }
          ],
          "contourcarpet": [
           {
            "colorbar": {
             "outlinewidth": 0,
             "ticks": ""
            },
            "type": "contourcarpet"
           }
          ],
          "heatmap": [
           {
            "colorbar": {
             "outlinewidth": 0,
             "ticks": ""
            },
            "colorscale": [
             [
              0,
              "#0d0887"
             ],
             [
              0.1111111111111111,
              "#46039f"
             ],
             [
              0.2222222222222222,
              "#7201a8"
             ],
             [
              0.3333333333333333,
              "#9c179e"
             ],
             [
              0.4444444444444444,
              "#bd3786"
             ],
             [
              0.5555555555555556,
              "#d8576b"
             ],
             [
              0.6666666666666666,
              "#ed7953"
             ],
             [
              0.7777777777777778,
              "#fb9f3a"
             ],
             [
              0.8888888888888888,
              "#fdca26"
             ],
             [
              1,
              "#f0f921"
             ]
            ],
            "type": "heatmap"
           }
          ],
          "heatmapgl": [
           {
            "colorbar": {
             "outlinewidth": 0,
             "ticks": ""
            },
            "colorscale": [
             [
              0,
              "#0d0887"
             ],
             [
              0.1111111111111111,
              "#46039f"
             ],
             [
              0.2222222222222222,
              "#7201a8"
             ],
             [
              0.3333333333333333,
              "#9c179e"
             ],
             [
              0.4444444444444444,
              "#bd3786"
             ],
             [
              0.5555555555555556,
              "#d8576b"
             ],
             [
              0.6666666666666666,
              "#ed7953"
             ],
             [
              0.7777777777777778,
              "#fb9f3a"
             ],
             [
              0.8888888888888888,
              "#fdca26"
             ],
             [
              1,
              "#f0f921"
             ]
            ],
            "type": "heatmapgl"
           }
          ],
          "histogram": [
           {
            "marker": {
             "pattern": {
              "fillmode": "overlay",
              "size": 10,
              "solidity": 0.2
             }
            },
            "type": "histogram"
           }
          ],
          "histogram2d": [
           {
            "colorbar": {
             "outlinewidth": 0,
             "ticks": ""
            },
            "colorscale": [
             [
              0,
              "#0d0887"
             ],
             [
              0.1111111111111111,
              "#46039f"
             ],
             [
              0.2222222222222222,
              "#7201a8"
             ],
             [
              0.3333333333333333,
              "#9c179e"
             ],
             [
              0.4444444444444444,
              "#bd3786"
             ],
             [
              0.5555555555555556,
              "#d8576b"
             ],
             [
              0.6666666666666666,
              "#ed7953"
             ],
             [
              0.7777777777777778,
              "#fb9f3a"
             ],
             [
              0.8888888888888888,
              "#fdca26"
             ],
             [
              1,
              "#f0f921"
             ]
            ],
            "type": "histogram2d"
           }
          ],
          "histogram2dcontour": [
           {
            "colorbar": {
             "outlinewidth": 0,
             "ticks": ""
            },
            "colorscale": [
             [
              0,
              "#0d0887"
             ],
             [
              0.1111111111111111,
              "#46039f"
             ],
             [
              0.2222222222222222,
              "#7201a8"
             ],
             [
              0.3333333333333333,
              "#9c179e"
             ],
             [
              0.4444444444444444,
              "#bd3786"
             ],
             [
              0.5555555555555556,
              "#d8576b"
             ],
             [
              0.6666666666666666,
              "#ed7953"
             ],
             [
              0.7777777777777778,
              "#fb9f3a"
             ],
             [
              0.8888888888888888,
              "#fdca26"
             ],
             [
              1,
              "#f0f921"
             ]
            ],
            "type": "histogram2dcontour"
           }
          ],
          "mesh3d": [
           {
            "colorbar": {
             "outlinewidth": 0,
             "ticks": ""
            },
            "type": "mesh3d"
           }
          ],
          "parcoords": [
           {
            "line": {
             "colorbar": {
              "outlinewidth": 0,
              "ticks": ""
             }
            },
            "type": "parcoords"
           }
          ],
          "pie": [
           {
            "automargin": true,
            "type": "pie"
           }
          ],
          "scatter": [
           {
            "fillpattern": {
             "fillmode": "overlay",
             "size": 10,
             "solidity": 0.2
            },
            "type": "scatter"
           }
          ],
          "scatter3d": [
           {
            "line": {
             "colorbar": {
              "outlinewidth": 0,
              "ticks": ""
             }
            },
            "marker": {
             "colorbar": {
              "outlinewidth": 0,
              "ticks": ""
             }
            },
            "type": "scatter3d"
           }
          ],
          "scattercarpet": [
           {
            "marker": {
             "colorbar": {
              "outlinewidth": 0,
              "ticks": ""
             }
            },
            "type": "scattercarpet"
           }
          ],
          "scattergeo": [
           {
            "marker": {
             "colorbar": {
              "outlinewidth": 0,
              "ticks": ""
             }
            },
            "type": "scattergeo"
           }
          ],
          "scattergl": [
           {
            "marker": {
             "colorbar": {
              "outlinewidth": 0,
              "ticks": ""
             }
            },
            "type": "scattergl"
           }
          ],
          "scattermapbox": [
           {
            "marker": {
             "colorbar": {
              "outlinewidth": 0,
              "ticks": ""
             }
            },
            "type": "scattermapbox"
           }
          ],
          "scatterpolar": [
           {
            "marker": {
             "colorbar": {
              "outlinewidth": 0,
              "ticks": ""
             }
            },
            "type": "scatterpolar"
           }
          ],
          "scatterpolargl": [
           {
            "marker": {
             "colorbar": {
              "outlinewidth": 0,
              "ticks": ""
             }
            },
            "type": "scatterpolargl"
           }
          ],
          "scatterternary": [
           {
            "marker": {
             "colorbar": {
              "outlinewidth": 0,
              "ticks": ""
             }
            },
            "type": "scatterternary"
           }
          ],
          "surface": [
           {
            "colorbar": {
             "outlinewidth": 0,
             "ticks": ""
            },
            "colorscale": [
             [
              0,
              "#0d0887"
             ],
             [
              0.1111111111111111,
              "#46039f"
             ],
             [
              0.2222222222222222,
              "#7201a8"
             ],
             [
              0.3333333333333333,
              "#9c179e"
             ],
             [
              0.4444444444444444,
              "#bd3786"
             ],
             [
              0.5555555555555556,
              "#d8576b"
             ],
             [
              0.6666666666666666,
              "#ed7953"
             ],
             [
              0.7777777777777778,
              "#fb9f3a"
             ],
             [
              0.8888888888888888,
              "#fdca26"
             ],
             [
              1,
              "#f0f921"
             ]
            ],
            "type": "surface"
           }
          ],
          "table": [
           {
            "cells": {
             "fill": {
              "color": "#EBF0F8"
             },
             "line": {
              "color": "white"
             }
            },
            "header": {
             "fill": {
              "color": "#C8D4E3"
             },
             "line": {
              "color": "white"
             }
            },
            "type": "table"
           }
          ]
         },
         "layout": {
          "annotationdefaults": {
           "arrowcolor": "#2a3f5f",
           "arrowhead": 0,
           "arrowwidth": 1
          },
          "autotypenumbers": "strict",
          "coloraxis": {
           "colorbar": {
            "outlinewidth": 0,
            "ticks": ""
           }
          },
          "colorscale": {
           "diverging": [
            [
             0,
             "#8e0152"
            ],
            [
             0.1,
             "#c51b7d"
            ],
            [
             0.2,
             "#de77ae"
            ],
            [
             0.3,
             "#f1b6da"
            ],
            [
             0.4,
             "#fde0ef"
            ],
            [
             0.5,
             "#f7f7f7"
            ],
            [
             0.6,
             "#e6f5d0"
            ],
            [
             0.7,
             "#b8e186"
            ],
            [
             0.8,
             "#7fbc41"
            ],
            [
             0.9,
             "#4d9221"
            ],
            [
             1,
             "#276419"
            ]
           ],
           "sequential": [
            [
             0,
             "#0d0887"
            ],
            [
             0.1111111111111111,
             "#46039f"
            ],
            [
             0.2222222222222222,
             "#7201a8"
            ],
            [
             0.3333333333333333,
             "#9c179e"
            ],
            [
             0.4444444444444444,
             "#bd3786"
            ],
            [
             0.5555555555555556,
             "#d8576b"
            ],
            [
             0.6666666666666666,
             "#ed7953"
            ],
            [
             0.7777777777777778,
             "#fb9f3a"
            ],
            [
             0.8888888888888888,
             "#fdca26"
            ],
            [
             1,
             "#f0f921"
            ]
           ],
           "sequentialminus": [
            [
             0,
             "#0d0887"
            ],
            [
             0.1111111111111111,
             "#46039f"
            ],
            [
             0.2222222222222222,
             "#7201a8"
            ],
            [
             0.3333333333333333,
             "#9c179e"
            ],
            [
             0.4444444444444444,
             "#bd3786"
            ],
            [
             0.5555555555555556,
             "#d8576b"
            ],
            [
             0.6666666666666666,
             "#ed7953"
            ],
            [
             0.7777777777777778,
             "#fb9f3a"
            ],
            [
             0.8888888888888888,
             "#fdca26"
            ],
            [
             1,
             "#f0f921"
            ]
           ]
          },
          "colorway": [
           "#636efa",
           "#EF553B",
           "#00cc96",
           "#ab63fa",
           "#FFA15A",
           "#19d3f3",
           "#FF6692",
           "#B6E880",
           "#FF97FF",
           "#FECB52"
          ],
          "font": {
           "color": "#2a3f5f"
          },
          "geo": {
           "bgcolor": "white",
           "lakecolor": "white",
           "landcolor": "#E5ECF6",
           "showlakes": true,
           "showland": true,
           "subunitcolor": "white"
          },
          "hoverlabel": {
           "align": "left"
          },
          "hovermode": "closest",
          "mapbox": {
           "style": "light"
          },
          "paper_bgcolor": "white",
          "plot_bgcolor": "#E5ECF6",
          "polar": {
           "angularaxis": {
            "gridcolor": "white",
            "linecolor": "white",
            "ticks": ""
           },
           "bgcolor": "#E5ECF6",
           "radialaxis": {
            "gridcolor": "white",
            "linecolor": "white",
            "ticks": ""
           }
          },
          "scene": {
           "xaxis": {
            "backgroundcolor": "#E5ECF6",
            "gridcolor": "white",
            "gridwidth": 2,
            "linecolor": "white",
            "showbackground": true,
            "ticks": "",
            "zerolinecolor": "white"
           },
           "yaxis": {
            "backgroundcolor": "#E5ECF6",
            "gridcolor": "white",
            "gridwidth": 2,
            "linecolor": "white",
            "showbackground": true,
            "ticks": "",
            "zerolinecolor": "white"
           },
           "zaxis": {
            "backgroundcolor": "#E5ECF6",
            "gridcolor": "white",
            "gridwidth": 2,
            "linecolor": "white",
            "showbackground": true,
            "ticks": "",
            "zerolinecolor": "white"
           }
          },
          "shapedefaults": {
           "line": {
            "color": "#2a3f5f"
           }
          },
          "ternary": {
           "aaxis": {
            "gridcolor": "white",
            "linecolor": "white",
            "ticks": ""
           },
           "baxis": {
            "gridcolor": "white",
            "linecolor": "white",
            "ticks": ""
           },
           "bgcolor": "#E5ECF6",
           "caxis": {
            "gridcolor": "white",
            "linecolor": "white",
            "ticks": ""
           }
          },
          "title": {
           "x": 0.05
          },
          "xaxis": {
           "automargin": true,
           "gridcolor": "white",
           "linecolor": "white",
           "ticks": "",
           "title": {
            "standoff": 15
           },
           "zerolinecolor": "white",
           "zerolinewidth": 2
          },
          "yaxis": {
           "automargin": true,
           "gridcolor": "white",
           "linecolor": "white",
           "ticks": "",
           "title": {
            "standoff": 15
           },
           "zerolinecolor": "white",
           "zerolinewidth": 2
          }
         }
        },
        "title": {
         "text": "USA"
        },
        "width": 1000
       }
      }
     },
     "metadata": {},
     "output_type": "display_data"
    }
   ],
   "source": [
    "# Tạo custom color scale từ màu đỏ nhạt đến màu đỏ đậm\n",
    "custom_scale = [\n",
    "    [0, 'rgb(255, 255, 255)'],  # Màu trắng cho giá trị nhỏ\n",
    "    [265 / unique_locations['data_value'].max(), 'rgb(255, 230, 230)'],  # Màu đỏ nhạt cho giá trị < 265\n",
    "    [1, 'rgb(255,0,0)']  # Màu đỏ đậm cho giá trị > 300\n",
    "]\n",
    "\n",
    "fig = px.choropleth(\n",
    "    unique_locations,\n",
    "    color=unique_locations['data_value'],\n",
    "    locations=unique_locations['locationabbr'],\n",
    "    locationmode=\"USA-states\",\n",
    "    scope=\"usa\",\n",
    "    color_continuous_scale=custom_scale,\n",
    "    range_color=[unique_locations['data_value'].min(), unique_locations['data_value'].max()],  # Đảm bảo mọi giá trị đều được hiển thị\n",
    "    hover_name=unique_locations['locationabbr'],\n",
    "    title='USA',\n",
    "    width=1000,\n",
    "    height=600,\n",
    ")\n",
    "\n",
    "fig.show()\n"
   ]
  },
  {
   "cell_type": "code",
   "execution_count": 13,
   "metadata": {},
   "outputs": [
    {
     "data": {
      "text/plain": [
       "Index(['year', 'locationabbr', 'locationdesc', 'geographiclevel', 'datasource',\n",
       "       'class', 'topic', 'data_value', 'data_value_unit', 'data_value_type',\n",
       "       'stratificationcategory1', 'stratification1', 'stratificationcategory2',\n",
       "       'stratification2', 'topicid', 'locationid', 'y_lat', 'x_lon',\n",
       "       'data_value_footnote_symbol', 'data_value_footnote'],\n",
       "      dtype='object')"
      ]
     },
     "execution_count": 13,
     "metadata": {},
     "output_type": "execute_result"
    }
   ],
   "source": [
    "df.columns"
   ]
  },
  {
   "cell_type": "code",
   "execution_count": 14,
   "metadata": {},
   "outputs": [
    {
     "name": "stdout",
     "output_type": "stream",
     "text": [
      "<class 'pandas.core.frame.DataFrame'>\n",
      "RangeIndex: 59094 entries, 0 to 59093\n",
      "Data columns (total 20 columns):\n",
      " #   Column                      Non-Null Count  Dtype \n",
      "---  ------                      --------------  ----- \n",
      " 0   year                        59094 non-null  object\n",
      " 1   locationabbr                59094 non-null  object\n",
      " 2   locationdesc                59094 non-null  object\n",
      " 3   geographiclevel             59094 non-null  object\n",
      " 4   datasource                  59094 non-null  object\n",
      " 5   class                       59094 non-null  object\n",
      " 6   topic                       59094 non-null  object\n",
      " 7   data_value                  33087 non-null  object\n",
      " 8   data_value_unit             59094 non-null  object\n",
      " 9   data_value_type             59094 non-null  object\n",
      " 10  stratificationcategory1     59094 non-null  object\n",
      " 11  stratification1             59094 non-null  object\n",
      " 12  stratificationcategory2     59094 non-null  object\n",
      " 13  stratification2             59094 non-null  object\n",
      " 14  topicid                     59094 non-null  object\n",
      " 15  locationid                  59094 non-null  object\n",
      " 16  y_lat                       59076 non-null  object\n",
      " 17  x_lon                       59076 non-null  object\n",
      " 18  data_value_footnote_symbol  26007 non-null  object\n",
      " 19  data_value_footnote         26007 non-null  object\n",
      "dtypes: object(20)\n",
      "memory usage: 9.0+ MB\n"
     ]
    }
   ],
   "source": [
    "df.info()"
   ]
  },
  {
   "cell_type": "code",
   "execution_count": 15,
   "metadata": {},
   "outputs": [
    {
     "data": {
      "text/plain": [
       "year                              0\n",
       "locationabbr                      0\n",
       "locationdesc                      0\n",
       "geographiclevel                   0\n",
       "datasource                        0\n",
       "class                             0\n",
       "topic                             0\n",
       "data_value                    26007\n",
       "data_value_unit                   0\n",
       "data_value_type                   0\n",
       "stratificationcategory1           0\n",
       "stratification1                   0\n",
       "stratificationcategory2           0\n",
       "stratification2                   0\n",
       "topicid                           0\n",
       "locationid                        0\n",
       "y_lat                            18\n",
       "x_lon                            18\n",
       "data_value_footnote_symbol    33087\n",
       "data_value_footnote           33087\n",
       "dtype: int64"
      ]
     },
     "execution_count": 15,
     "metadata": {},
     "output_type": "execute_result"
    }
   ],
   "source": [
    "# check missing values\n",
    "df.isnull().sum()"
   ]
  },
  {
   "cell_type": "code",
   "execution_count": 16,
   "metadata": {},
   "outputs": [],
   "source": [
    "df = df.dropna(subset=['data_value'])"
   ]
  },
  {
   "cell_type": "code",
   "execution_count": 17,
   "metadata": {},
   "outputs": [
    {
     "ename": "KeyError",
     "evalue": "\"['stratificationcategory3'] not found in axis\"",
     "output_type": "error",
     "traceback": [
      "\u001b[1;31m---------------------------------------------------------------------------\u001b[0m",
      "\u001b[1;31mKeyError\u001b[0m                                  Traceback (most recent call last)",
      "Cell \u001b[1;32mIn[17], line 1\u001b[0m\n\u001b[1;32m----> 1\u001b[0m df \u001b[38;5;241m=\u001b[39m \u001b[43mdf\u001b[49m\u001b[38;5;241;43m.\u001b[39;49m\u001b[43mdrop\u001b[49m\u001b[43m(\u001b[49m\u001b[43mcolumns\u001b[49m\u001b[38;5;241;43m=\u001b[39;49m\u001b[43m[\u001b[49m\u001b[38;5;124;43m'\u001b[39;49m\u001b[38;5;124;43mgeographiclevel\u001b[39;49m\u001b[38;5;124;43m'\u001b[39;49m\u001b[43m,\u001b[49m\u001b[43m \u001b[49m\u001b[38;5;124;43m'\u001b[39;49m\u001b[38;5;124;43mdatasource\u001b[39;49m\u001b[38;5;124;43m'\u001b[39;49m\u001b[43m,\u001b[49m\u001b[43m \u001b[49m\u001b[38;5;124;43m'\u001b[39;49m\u001b[38;5;124;43mclass\u001b[39;49m\u001b[38;5;124;43m'\u001b[39;49m\u001b[43m,\u001b[49m\u001b[43m \u001b[49m\u001b[38;5;124;43m'\u001b[39;49m\u001b[38;5;124;43mtopic\u001b[39;49m\u001b[38;5;124;43m'\u001b[39;49m\u001b[43m,\u001b[49m\u001b[43m \u001b[49m\u001b[38;5;124;43m'\u001b[39;49m\u001b[38;5;124;43mdata_value_footnote_symbol\u001b[39;49m\u001b[38;5;124;43m'\u001b[39;49m\u001b[43m,\u001b[49m\u001b[43m \u001b[49m\u001b[38;5;124;43m'\u001b[39;49m\u001b[38;5;124;43mdata_value_footnote\u001b[39;49m\u001b[38;5;124;43m'\u001b[39;49m\u001b[43m,\u001b[49m\u001b[43m \u001b[49m\u001b[38;5;124;43m'\u001b[39;49m\u001b[38;5;124;43mstratificationcategory1\u001b[39;49m\u001b[38;5;124;43m'\u001b[39;49m\u001b[43m,\u001b[49m\u001b[43m \u001b[49m\u001b[38;5;124;43m'\u001b[39;49m\u001b[38;5;124;43mstratificationcategory2\u001b[39;49m\u001b[38;5;124;43m'\u001b[39;49m\u001b[43m,\u001b[49m\u001b[43m \u001b[49m\u001b[38;5;124;43m'\u001b[39;49m\u001b[38;5;124;43mstratificationcategory3\u001b[39;49m\u001b[38;5;124;43m'\u001b[39;49m\u001b[43m,\u001b[49m\u001b[43m \u001b[49m\u001b[38;5;124;43m'\u001b[39;49m\u001b[38;5;124;43mtopicid\u001b[39;49m\u001b[38;5;124;43m'\u001b[39;49m\u001b[43m]\u001b[49m\u001b[43m)\u001b[49m\n\u001b[0;32m      2\u001b[0m df\n",
      "File \u001b[1;32mc:\\Users\\ngpth\\miniconda3\\envs\\min_ds-env\\lib\\site-packages\\pandas\\util\\_decorators.py:331\u001b[0m, in \u001b[0;36mdeprecate_nonkeyword_arguments.<locals>.decorate.<locals>.wrapper\u001b[1;34m(*args, **kwargs)\u001b[0m\n\u001b[0;32m    325\u001b[0m \u001b[38;5;28;01mif\u001b[39;00m \u001b[38;5;28mlen\u001b[39m(args) \u001b[38;5;241m>\u001b[39m num_allow_args:\n\u001b[0;32m    326\u001b[0m     warnings\u001b[38;5;241m.\u001b[39mwarn(\n\u001b[0;32m    327\u001b[0m         msg\u001b[38;5;241m.\u001b[39mformat(arguments\u001b[38;5;241m=\u001b[39m_format_argument_list(allow_args)),\n\u001b[0;32m    328\u001b[0m         \u001b[38;5;167;01mFutureWarning\u001b[39;00m,\n\u001b[0;32m    329\u001b[0m         stacklevel\u001b[38;5;241m=\u001b[39mfind_stack_level(),\n\u001b[0;32m    330\u001b[0m     )\n\u001b[1;32m--> 331\u001b[0m \u001b[38;5;28;01mreturn\u001b[39;00m func(\u001b[38;5;241m*\u001b[39margs, \u001b[38;5;241m*\u001b[39m\u001b[38;5;241m*\u001b[39mkwargs)\n",
      "File \u001b[1;32mc:\\Users\\ngpth\\miniconda3\\envs\\min_ds-env\\lib\\site-packages\\pandas\\core\\frame.py:5399\u001b[0m, in \u001b[0;36mDataFrame.drop\u001b[1;34m(self, labels, axis, index, columns, level, inplace, errors)\u001b[0m\n\u001b[0;32m   5251\u001b[0m \u001b[38;5;129m@deprecate_nonkeyword_arguments\u001b[39m(version\u001b[38;5;241m=\u001b[39m\u001b[38;5;28;01mNone\u001b[39;00m, allowed_args\u001b[38;5;241m=\u001b[39m[\u001b[38;5;124m\"\u001b[39m\u001b[38;5;124mself\u001b[39m\u001b[38;5;124m\"\u001b[39m, \u001b[38;5;124m\"\u001b[39m\u001b[38;5;124mlabels\u001b[39m\u001b[38;5;124m\"\u001b[39m])\n\u001b[0;32m   5252\u001b[0m \u001b[38;5;28;01mdef\u001b[39;00m \u001b[38;5;21mdrop\u001b[39m(  \u001b[38;5;66;03m# type: ignore[override]\u001b[39;00m\n\u001b[0;32m   5253\u001b[0m     \u001b[38;5;28mself\u001b[39m,\n\u001b[1;32m   (...)\u001b[0m\n\u001b[0;32m   5260\u001b[0m     errors: IgnoreRaise \u001b[38;5;241m=\u001b[39m \u001b[38;5;124m\"\u001b[39m\u001b[38;5;124mraise\u001b[39m\u001b[38;5;124m\"\u001b[39m,\n\u001b[0;32m   5261\u001b[0m ) \u001b[38;5;241m-\u001b[39m\u001b[38;5;241m>\u001b[39m DataFrame \u001b[38;5;241m|\u001b[39m \u001b[38;5;28;01mNone\u001b[39;00m:\n\u001b[0;32m   5262\u001b[0m \u001b[38;5;250m    \u001b[39m\u001b[38;5;124;03m\"\"\"\u001b[39;00m\n\u001b[0;32m   5263\u001b[0m \u001b[38;5;124;03m    Drop specified labels from rows or columns.\u001b[39;00m\n\u001b[0;32m   5264\u001b[0m \n\u001b[1;32m   (...)\u001b[0m\n\u001b[0;32m   5397\u001b[0m \u001b[38;5;124;03m            weight  1.0     0.8\u001b[39;00m\n\u001b[0;32m   5398\u001b[0m \u001b[38;5;124;03m    \"\"\"\u001b[39;00m\n\u001b[1;32m-> 5399\u001b[0m     \u001b[38;5;28;01mreturn\u001b[39;00m \u001b[38;5;28;43msuper\u001b[39;49m\u001b[43m(\u001b[49m\u001b[43m)\u001b[49m\u001b[38;5;241;43m.\u001b[39;49m\u001b[43mdrop\u001b[49m\u001b[43m(\u001b[49m\n\u001b[0;32m   5400\u001b[0m \u001b[43m        \u001b[49m\u001b[43mlabels\u001b[49m\u001b[38;5;241;43m=\u001b[39;49m\u001b[43mlabels\u001b[49m\u001b[43m,\u001b[49m\n\u001b[0;32m   5401\u001b[0m \u001b[43m        \u001b[49m\u001b[43maxis\u001b[49m\u001b[38;5;241;43m=\u001b[39;49m\u001b[43maxis\u001b[49m\u001b[43m,\u001b[49m\n\u001b[0;32m   5402\u001b[0m \u001b[43m        \u001b[49m\u001b[43mindex\u001b[49m\u001b[38;5;241;43m=\u001b[39;49m\u001b[43mindex\u001b[49m\u001b[43m,\u001b[49m\n\u001b[0;32m   5403\u001b[0m \u001b[43m        \u001b[49m\u001b[43mcolumns\u001b[49m\u001b[38;5;241;43m=\u001b[39;49m\u001b[43mcolumns\u001b[49m\u001b[43m,\u001b[49m\n\u001b[0;32m   5404\u001b[0m \u001b[43m        \u001b[49m\u001b[43mlevel\u001b[49m\u001b[38;5;241;43m=\u001b[39;49m\u001b[43mlevel\u001b[49m\u001b[43m,\u001b[49m\n\u001b[0;32m   5405\u001b[0m \u001b[43m        \u001b[49m\u001b[43minplace\u001b[49m\u001b[38;5;241;43m=\u001b[39;49m\u001b[43minplace\u001b[49m\u001b[43m,\u001b[49m\n\u001b[0;32m   5406\u001b[0m \u001b[43m        \u001b[49m\u001b[43merrors\u001b[49m\u001b[38;5;241;43m=\u001b[39;49m\u001b[43merrors\u001b[49m\u001b[43m,\u001b[49m\n\u001b[0;32m   5407\u001b[0m \u001b[43m    \u001b[49m\u001b[43m)\u001b[49m\n",
      "File \u001b[1;32mc:\\Users\\ngpth\\miniconda3\\envs\\min_ds-env\\lib\\site-packages\\pandas\\util\\_decorators.py:331\u001b[0m, in \u001b[0;36mdeprecate_nonkeyword_arguments.<locals>.decorate.<locals>.wrapper\u001b[1;34m(*args, **kwargs)\u001b[0m\n\u001b[0;32m    325\u001b[0m \u001b[38;5;28;01mif\u001b[39;00m \u001b[38;5;28mlen\u001b[39m(args) \u001b[38;5;241m>\u001b[39m num_allow_args:\n\u001b[0;32m    326\u001b[0m     warnings\u001b[38;5;241m.\u001b[39mwarn(\n\u001b[0;32m    327\u001b[0m         msg\u001b[38;5;241m.\u001b[39mformat(arguments\u001b[38;5;241m=\u001b[39m_format_argument_list(allow_args)),\n\u001b[0;32m    328\u001b[0m         \u001b[38;5;167;01mFutureWarning\u001b[39;00m,\n\u001b[0;32m    329\u001b[0m         stacklevel\u001b[38;5;241m=\u001b[39mfind_stack_level(),\n\u001b[0;32m    330\u001b[0m     )\n\u001b[1;32m--> 331\u001b[0m \u001b[38;5;28;01mreturn\u001b[39;00m func(\u001b[38;5;241m*\u001b[39margs, \u001b[38;5;241m*\u001b[39m\u001b[38;5;241m*\u001b[39mkwargs)\n",
      "File \u001b[1;32mc:\\Users\\ngpth\\miniconda3\\envs\\min_ds-env\\lib\\site-packages\\pandas\\core\\generic.py:4505\u001b[0m, in \u001b[0;36mNDFrame.drop\u001b[1;34m(self, labels, axis, index, columns, level, inplace, errors)\u001b[0m\n\u001b[0;32m   4503\u001b[0m \u001b[38;5;28;01mfor\u001b[39;00m axis, labels \u001b[38;5;129;01min\u001b[39;00m axes\u001b[38;5;241m.\u001b[39mitems():\n\u001b[0;32m   4504\u001b[0m     \u001b[38;5;28;01mif\u001b[39;00m labels \u001b[38;5;129;01mis\u001b[39;00m \u001b[38;5;129;01mnot\u001b[39;00m \u001b[38;5;28;01mNone\u001b[39;00m:\n\u001b[1;32m-> 4505\u001b[0m         obj \u001b[38;5;241m=\u001b[39m \u001b[43mobj\u001b[49m\u001b[38;5;241;43m.\u001b[39;49m\u001b[43m_drop_axis\u001b[49m\u001b[43m(\u001b[49m\u001b[43mlabels\u001b[49m\u001b[43m,\u001b[49m\u001b[43m \u001b[49m\u001b[43maxis\u001b[49m\u001b[43m,\u001b[49m\u001b[43m \u001b[49m\u001b[43mlevel\u001b[49m\u001b[38;5;241;43m=\u001b[39;49m\u001b[43mlevel\u001b[49m\u001b[43m,\u001b[49m\u001b[43m \u001b[49m\u001b[43merrors\u001b[49m\u001b[38;5;241;43m=\u001b[39;49m\u001b[43merrors\u001b[49m\u001b[43m)\u001b[49m\n\u001b[0;32m   4507\u001b[0m \u001b[38;5;28;01mif\u001b[39;00m inplace:\n\u001b[0;32m   4508\u001b[0m     \u001b[38;5;28mself\u001b[39m\u001b[38;5;241m.\u001b[39m_update_inplace(obj)\n",
      "File \u001b[1;32mc:\\Users\\ngpth\\miniconda3\\envs\\min_ds-env\\lib\\site-packages\\pandas\\core\\generic.py:4546\u001b[0m, in \u001b[0;36mNDFrame._drop_axis\u001b[1;34m(self, labels, axis, level, errors, only_slice)\u001b[0m\n\u001b[0;32m   4544\u001b[0m         new_axis \u001b[38;5;241m=\u001b[39m axis\u001b[38;5;241m.\u001b[39mdrop(labels, level\u001b[38;5;241m=\u001b[39mlevel, errors\u001b[38;5;241m=\u001b[39merrors)\n\u001b[0;32m   4545\u001b[0m     \u001b[38;5;28;01melse\u001b[39;00m:\n\u001b[1;32m-> 4546\u001b[0m         new_axis \u001b[38;5;241m=\u001b[39m \u001b[43maxis\u001b[49m\u001b[38;5;241;43m.\u001b[39;49m\u001b[43mdrop\u001b[49m\u001b[43m(\u001b[49m\u001b[43mlabels\u001b[49m\u001b[43m,\u001b[49m\u001b[43m \u001b[49m\u001b[43merrors\u001b[49m\u001b[38;5;241;43m=\u001b[39;49m\u001b[43merrors\u001b[49m\u001b[43m)\u001b[49m\n\u001b[0;32m   4547\u001b[0m     indexer \u001b[38;5;241m=\u001b[39m axis\u001b[38;5;241m.\u001b[39mget_indexer(new_axis)\n\u001b[0;32m   4549\u001b[0m \u001b[38;5;66;03m# Case for non-unique axis\u001b[39;00m\n\u001b[0;32m   4550\u001b[0m \u001b[38;5;28;01melse\u001b[39;00m:\n",
      "File \u001b[1;32mc:\\Users\\ngpth\\miniconda3\\envs\\min_ds-env\\lib\\site-packages\\pandas\\core\\indexes\\base.py:6934\u001b[0m, in \u001b[0;36mIndex.drop\u001b[1;34m(self, labels, errors)\u001b[0m\n\u001b[0;32m   6932\u001b[0m \u001b[38;5;28;01mif\u001b[39;00m mask\u001b[38;5;241m.\u001b[39many():\n\u001b[0;32m   6933\u001b[0m     \u001b[38;5;28;01mif\u001b[39;00m errors \u001b[38;5;241m!=\u001b[39m \u001b[38;5;124m\"\u001b[39m\u001b[38;5;124mignore\u001b[39m\u001b[38;5;124m\"\u001b[39m:\n\u001b[1;32m-> 6934\u001b[0m         \u001b[38;5;28;01mraise\u001b[39;00m \u001b[38;5;167;01mKeyError\u001b[39;00m(\u001b[38;5;124mf\u001b[39m\u001b[38;5;124m\"\u001b[39m\u001b[38;5;132;01m{\u001b[39;00m\u001b[38;5;28mlist\u001b[39m(labels[mask])\u001b[38;5;132;01m}\u001b[39;00m\u001b[38;5;124m not found in axis\u001b[39m\u001b[38;5;124m\"\u001b[39m)\n\u001b[0;32m   6935\u001b[0m     indexer \u001b[38;5;241m=\u001b[39m indexer[\u001b[38;5;241m~\u001b[39mmask]\n\u001b[0;32m   6936\u001b[0m \u001b[38;5;28;01mreturn\u001b[39;00m \u001b[38;5;28mself\u001b[39m\u001b[38;5;241m.\u001b[39mdelete(indexer)\n",
      "\u001b[1;31mKeyError\u001b[0m: \"['stratificationcategory3'] not found in axis\""
     ]
    }
   ],
   "source": [
    "df = df.drop(columns=['geographiclevel', 'datasource', 'class', 'topic', 'data_value_footnote_symbol', 'data_value_footnote', 'stratificationcategory1', 'stratificationcategory2', 'stratificationcategory3', 'topicid'])\n",
    "df"
   ]
  },
  {
   "cell_type": "code",
   "execution_count": null,
   "metadata": {},
   "outputs": [
    {
     "data": {
      "text/html": [
       "<div>\n",
       "<style scoped>\n",
       "    .dataframe tbody tr th:only-of-type {\n",
       "        vertical-align: middle;\n",
       "    }\n",
       "\n",
       "    .dataframe tbody tr th {\n",
       "        vertical-align: top;\n",
       "    }\n",
       "\n",
       "    .dataframe thead th {\n",
       "        text-align: right;\n",
       "    }\n",
       "</style>\n",
       "<table border=\"1\" class=\"dataframe\">\n",
       "  <thead>\n",
       "    <tr style=\"text-align: right;\">\n",
       "      <th></th>\n",
       "      <th>locationid</th>\n",
       "      <th>year</th>\n",
       "      <th>locationabbr</th>\n",
       "      <th>locationdesc</th>\n",
       "      <th>data_value_unit</th>\n",
       "      <th>data_value_type</th>\n",
       "      <th>age_group</th>\n",
       "      <th>race/ethnicityage_group</th>\n",
       "      <th>sex</th>\n",
       "      <th>x_long</th>\n",
       "      <th>y_lat</th>\n",
       "      <th>data_value</th>\n",
       "      <th>confidence_limit_low</th>\n",
       "      <th>confidence_limit_high</th>\n",
       "    </tr>\n",
       "  </thead>\n",
       "  <tbody>\n",
       "    <tr>\n",
       "      <th>44</th>\n",
       "      <td>01001</td>\n",
       "      <td>2000</td>\n",
       "      <td>AL</td>\n",
       "      <td>Autauga</td>\n",
       "      <td>per 100,000</td>\n",
       "      <td>Age-Standardized, Spatiotemporally Smoothed Rate</td>\n",
       "      <td>Ages 35-64 years</td>\n",
       "      <td>Black</td>\n",
       "      <td>Overall</td>\n",
       "      <td>-86.64295911</td>\n",
       "      <td>32.53530561</td>\n",
       "      <td>76.9</td>\n",
       "      <td>61.5</td>\n",
       "      <td>99.6</td>\n",
       "    </tr>\n",
       "    <tr>\n",
       "      <th>45</th>\n",
       "      <td>01001</td>\n",
       "      <td>2001</td>\n",
       "      <td>AL</td>\n",
       "      <td>Autauga</td>\n",
       "      <td>per 100,000</td>\n",
       "      <td>Age-Standardized, Spatiotemporally Smoothed Rate</td>\n",
       "      <td>Ages 35-64 years</td>\n",
       "      <td>Black</td>\n",
       "      <td>Overall</td>\n",
       "      <td>-86.64295911</td>\n",
       "      <td>32.53530561</td>\n",
       "      <td>83.4</td>\n",
       "      <td>69</td>\n",
       "      <td>126.7</td>\n",
       "    </tr>\n",
       "    <tr>\n",
       "      <th>46</th>\n",
       "      <td>01001</td>\n",
       "      <td>2002</td>\n",
       "      <td>AL</td>\n",
       "      <td>Autauga</td>\n",
       "      <td>per 100,000</td>\n",
       "      <td>Age-Standardized, Spatiotemporally Smoothed Rate</td>\n",
       "      <td>Ages 35-64 years</td>\n",
       "      <td>Black</td>\n",
       "      <td>Overall</td>\n",
       "      <td>-86.64295911</td>\n",
       "      <td>32.53530561</td>\n",
       "      <td>86.2</td>\n",
       "      <td>66.7</td>\n",
       "      <td>122.1</td>\n",
       "    </tr>\n",
       "    <tr>\n",
       "      <th>47</th>\n",
       "      <td>01001</td>\n",
       "      <td>2003</td>\n",
       "      <td>AL</td>\n",
       "      <td>Autauga</td>\n",
       "      <td>per 100,000</td>\n",
       "      <td>Age-Standardized, Spatiotemporally Smoothed Rate</td>\n",
       "      <td>Ages 35-64 years</td>\n",
       "      <td>Black</td>\n",
       "      <td>Overall</td>\n",
       "      <td>-86.64295911</td>\n",
       "      <td>32.53530561</td>\n",
       "      <td>81.6</td>\n",
       "      <td>58.5</td>\n",
       "      <td>117</td>\n",
       "    </tr>\n",
       "    <tr>\n",
       "      <th>48</th>\n",
       "      <td>01001</td>\n",
       "      <td>2004</td>\n",
       "      <td>AL</td>\n",
       "      <td>Autauga</td>\n",
       "      <td>per 100,000</td>\n",
       "      <td>Age-Standardized, Spatiotemporally Smoothed Rate</td>\n",
       "      <td>Ages 35-64 years</td>\n",
       "      <td>Black</td>\n",
       "      <td>Overall</td>\n",
       "      <td>-86.64295911</td>\n",
       "      <td>32.53530561</td>\n",
       "      <td>84.7</td>\n",
       "      <td>63.7</td>\n",
       "      <td>114.6</td>\n",
       "    </tr>\n",
       "    <tr>\n",
       "      <th>...</th>\n",
       "      <td>...</td>\n",
       "      <td>...</td>\n",
       "      <td>...</td>\n",
       "      <td>...</td>\n",
       "      <td>...</td>\n",
       "      <td>...</td>\n",
       "      <td>...</td>\n",
       "      <td>...</td>\n",
       "      <td>...</td>\n",
       "      <td>...</td>\n",
       "      <td>...</td>\n",
       "      <td>...</td>\n",
       "      <td>...</td>\n",
       "      <td>...</td>\n",
       "    </tr>\n",
       "    <tr>\n",
       "      <th>999973</th>\n",
       "      <td>51053</td>\n",
       "      <td>2019</td>\n",
       "      <td>VA</td>\n",
       "      <td>Dinwiddie</td>\n",
       "      <td>per 100,000</td>\n",
       "      <td>Age-Standardized, Spatiotemporally Smoothed Rate</td>\n",
       "      <td>Ages 65+ years</td>\n",
       "      <td>Black</td>\n",
       "      <td>Overall</td>\n",
       "      <td>-77.63220543</td>\n",
       "      <td>37.0760146</td>\n",
       "      <td>334.5</td>\n",
       "      <td>272.5</td>\n",
       "      <td>459.4</td>\n",
       "    </tr>\n",
       "    <tr>\n",
       "      <th>999974</th>\n",
       "      <td>51053</td>\n",
       "      <td>2000-2010</td>\n",
       "      <td>VA</td>\n",
       "      <td>Dinwiddie</td>\n",
       "      <td>%</td>\n",
       "      <td>Total percent change</td>\n",
       "      <td>Ages 65+ years</td>\n",
       "      <td>Black</td>\n",
       "      <td>Overall</td>\n",
       "      <td>-77.63220543</td>\n",
       "      <td>37.0760146</td>\n",
       "      <td>-14</td>\n",
       "      <td>-39.8</td>\n",
       "      <td>14.8</td>\n",
       "    </tr>\n",
       "    <tr>\n",
       "      <th>999975</th>\n",
       "      <td>51053</td>\n",
       "      <td>2010-2019</td>\n",
       "      <td>VA</td>\n",
       "      <td>Dinwiddie</td>\n",
       "      <td>%</td>\n",
       "      <td>Total percent change</td>\n",
       "      <td>Ages 65+ years</td>\n",
       "      <td>Black</td>\n",
       "      <td>Overall</td>\n",
       "      <td>-77.63220543</td>\n",
       "      <td>37.0760146</td>\n",
       "      <td>-13</td>\n",
       "      <td>-34.6</td>\n",
       "      <td>20.1</td>\n",
       "    </tr>\n",
       "    <tr>\n",
       "      <th>999998</th>\n",
       "      <td>51053</td>\n",
       "      <td>2000</td>\n",
       "      <td>VA</td>\n",
       "      <td>Dinwiddie</td>\n",
       "      <td>per 100,000</td>\n",
       "      <td>Age-Standardized, Spatiotemporally Smoothed Rate</td>\n",
       "      <td>Ages 65+ years</td>\n",
       "      <td>Overall</td>\n",
       "      <td>Female</td>\n",
       "      <td>-77.63220543</td>\n",
       "      <td>37.0760146</td>\n",
       "      <td>433.1</td>\n",
       "      <td>342.3</td>\n",
       "      <td>525.8</td>\n",
       "    </tr>\n",
       "    <tr>\n",
       "      <th>999999</th>\n",
       "      <td>51053</td>\n",
       "      <td>2001</td>\n",
       "      <td>VA</td>\n",
       "      <td>Dinwiddie</td>\n",
       "      <td>per 100,000</td>\n",
       "      <td>Age-Standardized, Spatiotemporally Smoothed Rate</td>\n",
       "      <td>Ages 65+ years</td>\n",
       "      <td>Overall</td>\n",
       "      <td>Female</td>\n",
       "      <td>-77.63220543</td>\n",
       "      <td>37.0760146</td>\n",
       "      <td>453</td>\n",
       "      <td>347.3</td>\n",
       "      <td>557.2</td>\n",
       "    </tr>\n",
       "  </tbody>\n",
       "</table>\n",
       "<p>519982 rows × 14 columns</p>\n",
       "</div>"
      ],
      "text/plain": [
       "       locationid       year locationabbr locationdesc data_value_unit  \\\n",
       "44          01001       2000           AL      Autauga     per 100,000   \n",
       "45          01001       2001           AL      Autauga     per 100,000   \n",
       "46          01001       2002           AL      Autauga     per 100,000   \n",
       "47          01001       2003           AL      Autauga     per 100,000   \n",
       "48          01001       2004           AL      Autauga     per 100,000   \n",
       "...           ...        ...          ...          ...             ...   \n",
       "999973      51053       2019           VA    Dinwiddie     per 100,000   \n",
       "999974      51053  2000-2010           VA    Dinwiddie               %   \n",
       "999975      51053  2010-2019           VA    Dinwiddie               %   \n",
       "999998      51053       2000           VA    Dinwiddie     per 100,000   \n",
       "999999      51053       2001           VA    Dinwiddie     per 100,000   \n",
       "\n",
       "                                         data_value_type         age_group  \\\n",
       "44      Age-Standardized, Spatiotemporally Smoothed Rate  Ages 35-64 years   \n",
       "45      Age-Standardized, Spatiotemporally Smoothed Rate  Ages 35-64 years   \n",
       "46      Age-Standardized, Spatiotemporally Smoothed Rate  Ages 35-64 years   \n",
       "47      Age-Standardized, Spatiotemporally Smoothed Rate  Ages 35-64 years   \n",
       "48      Age-Standardized, Spatiotemporally Smoothed Rate  Ages 35-64 years   \n",
       "...                                                  ...               ...   \n",
       "999973  Age-Standardized, Spatiotemporally Smoothed Rate    Ages 65+ years   \n",
       "999974                              Total percent change    Ages 65+ years   \n",
       "999975                              Total percent change    Ages 65+ years   \n",
       "999998  Age-Standardized, Spatiotemporally Smoothed Rate    Ages 65+ years   \n",
       "999999  Age-Standardized, Spatiotemporally Smoothed Rate    Ages 65+ years   \n",
       "\n",
       "       race/ethnicityage_group      sex        x_long        y_lat data_value  \\\n",
       "44                       Black  Overall  -86.64295911  32.53530561       76.9   \n",
       "45                       Black  Overall  -86.64295911  32.53530561       83.4   \n",
       "46                       Black  Overall  -86.64295911  32.53530561       86.2   \n",
       "47                       Black  Overall  -86.64295911  32.53530561       81.6   \n",
       "48                       Black  Overall  -86.64295911  32.53530561       84.7   \n",
       "...                        ...      ...           ...          ...        ...   \n",
       "999973                   Black  Overall  -77.63220543   37.0760146      334.5   \n",
       "999974                   Black  Overall  -77.63220543   37.0760146        -14   \n",
       "999975                   Black  Overall  -77.63220543   37.0760146        -13   \n",
       "999998                 Overall   Female  -77.63220543   37.0760146      433.1   \n",
       "999999                 Overall   Female  -77.63220543   37.0760146        453   \n",
       "\n",
       "       confidence_limit_low confidence_limit_high  \n",
       "44                     61.5                  99.6  \n",
       "45                       69                 126.7  \n",
       "46                     66.7                 122.1  \n",
       "47                     58.5                   117  \n",
       "48                     63.7                 114.6  \n",
       "...                     ...                   ...  \n",
       "999973                272.5                 459.4  \n",
       "999974                -39.8                  14.8  \n",
       "999975                -34.6                  20.1  \n",
       "999998                342.3                 525.8  \n",
       "999999                347.3                 557.2  \n",
       "\n",
       "[519982 rows x 14 columns]"
      ]
     },
     "execution_count": 13,
     "metadata": {},
     "output_type": "execute_result"
    }
   ],
   "source": [
    "column_names = {'stratification1': 'age_group', 'stratification2': 'race/ethnicityage_group', 'stratification3': 'sex'}\n",
    "df = df.rename(columns=column_names)\n",
    "df"
   ]
  },
  {
   "cell_type": "code",
   "execution_count": null,
   "metadata": {},
   "outputs": [
    {
     "data": {
      "text/html": [
       "<div>\n",
       "<style scoped>\n",
       "    .dataframe tbody tr th:only-of-type {\n",
       "        vertical-align: middle;\n",
       "    }\n",
       "\n",
       "    .dataframe tbody tr th {\n",
       "        vertical-align: top;\n",
       "    }\n",
       "\n",
       "    .dataframe thead th {\n",
       "        text-align: right;\n",
       "    }\n",
       "</style>\n",
       "<table border=\"1\" class=\"dataframe\">\n",
       "  <thead>\n",
       "    <tr style=\"text-align: right;\">\n",
       "      <th></th>\n",
       "      <th>locationid</th>\n",
       "      <th>year</th>\n",
       "      <th>locationabbr</th>\n",
       "      <th>locationdesc</th>\n",
       "      <th>age_group</th>\n",
       "      <th>race/ethnicityage_group</th>\n",
       "      <th>sex</th>\n",
       "      <th>x_long</th>\n",
       "      <th>y_lat</th>\n",
       "      <th>data_value</th>\n",
       "      <th>confidence_limit_low</th>\n",
       "      <th>confidence_limit_high</th>\n",
       "    </tr>\n",
       "  </thead>\n",
       "  <tbody>\n",
       "    <tr>\n",
       "      <th>0</th>\n",
       "      <td>01001</td>\n",
       "      <td>2000-2010</td>\n",
       "      <td>AL</td>\n",
       "      <td>Autauga</td>\n",
       "      <td>Ages 35-64 years</td>\n",
       "      <td>Black</td>\n",
       "      <td>Overall</td>\n",
       "      <td>-86.64295911</td>\n",
       "      <td>32.53530561</td>\n",
       "      <td>-7.5</td>\n",
       "      <td>-37.7</td>\n",
       "      <td>31.7</td>\n",
       "    </tr>\n",
       "    <tr>\n",
       "      <th>1</th>\n",
       "      <td>01001</td>\n",
       "      <td>2010-2019</td>\n",
       "      <td>AL</td>\n",
       "      <td>Autauga</td>\n",
       "      <td>Ages 35-64 years</td>\n",
       "      <td>Black</td>\n",
       "      <td>Overall</td>\n",
       "      <td>-86.64295911</td>\n",
       "      <td>32.53530561</td>\n",
       "      <td>2.6</td>\n",
       "      <td>-25.8</td>\n",
       "      <td>31.2</td>\n",
       "    </tr>\n",
       "    <tr>\n",
       "      <th>2</th>\n",
       "      <td>01001</td>\n",
       "      <td>2000-2010</td>\n",
       "      <td>AL</td>\n",
       "      <td>Autauga</td>\n",
       "      <td>Ages 35-64 years</td>\n",
       "      <td>Overall</td>\n",
       "      <td>Female</td>\n",
       "      <td>-86.64295911</td>\n",
       "      <td>32.53530561</td>\n",
       "      <td>17.1</td>\n",
       "      <td>-19.8</td>\n",
       "      <td>73.5</td>\n",
       "    </tr>\n",
       "    <tr>\n",
       "      <th>3</th>\n",
       "      <td>01001</td>\n",
       "      <td>2010-2019</td>\n",
       "      <td>AL</td>\n",
       "      <td>Autauga</td>\n",
       "      <td>Ages 35-64 years</td>\n",
       "      <td>Overall</td>\n",
       "      <td>Female</td>\n",
       "      <td>-86.64295911</td>\n",
       "      <td>32.53530561</td>\n",
       "      <td>8.3</td>\n",
       "      <td>-19.1</td>\n",
       "      <td>62.1</td>\n",
       "    </tr>\n",
       "    <tr>\n",
       "      <th>4</th>\n",
       "      <td>01001</td>\n",
       "      <td>2000-2010</td>\n",
       "      <td>AL</td>\n",
       "      <td>Autauga</td>\n",
       "      <td>Ages 35-64 years</td>\n",
       "      <td>Overall</td>\n",
       "      <td>Male</td>\n",
       "      <td>-86.64295911</td>\n",
       "      <td>32.53530561</td>\n",
       "      <td>19.7</td>\n",
       "      <td>-10.2</td>\n",
       "      <td>98</td>\n",
       "    </tr>\n",
       "    <tr>\n",
       "      <th>...</th>\n",
       "      <td>...</td>\n",
       "      <td>...</td>\n",
       "      <td>...</td>\n",
       "      <td>...</td>\n",
       "      <td>...</td>\n",
       "      <td>...</td>\n",
       "      <td>...</td>\n",
       "      <td>...</td>\n",
       "      <td>...</td>\n",
       "      <td>...</td>\n",
       "      <td>...</td>\n",
       "      <td>...</td>\n",
       "    </tr>\n",
       "    <tr>\n",
       "      <th>47295</th>\n",
       "      <td>51053</td>\n",
       "      <td>2010-2019</td>\n",
       "      <td>VA</td>\n",
       "      <td>Dinwiddie</td>\n",
       "      <td>Ages 35-64 years</td>\n",
       "      <td>Overall</td>\n",
       "      <td>Overall</td>\n",
       "      <td>-77.63220543</td>\n",
       "      <td>37.0760146</td>\n",
       "      <td>20.4</td>\n",
       "      <td>-9.6</td>\n",
       "      <td>62.2</td>\n",
       "    </tr>\n",
       "    <tr>\n",
       "      <th>47296</th>\n",
       "      <td>51053</td>\n",
       "      <td>2000-2010</td>\n",
       "      <td>VA</td>\n",
       "      <td>Dinwiddie</td>\n",
       "      <td>Ages 35-64 years</td>\n",
       "      <td>White</td>\n",
       "      <td>Overall</td>\n",
       "      <td>-77.63220543</td>\n",
       "      <td>37.0760146</td>\n",
       "      <td>-20.1</td>\n",
       "      <td>-47.7</td>\n",
       "      <td>50.3</td>\n",
       "    </tr>\n",
       "    <tr>\n",
       "      <th>47297</th>\n",
       "      <td>51053</td>\n",
       "      <td>2010-2019</td>\n",
       "      <td>VA</td>\n",
       "      <td>Dinwiddie</td>\n",
       "      <td>Ages 35-64 years</td>\n",
       "      <td>White</td>\n",
       "      <td>Overall</td>\n",
       "      <td>-77.63220543</td>\n",
       "      <td>37.0760146</td>\n",
       "      <td>32.6</td>\n",
       "      <td>-4.4</td>\n",
       "      <td>99.1</td>\n",
       "    </tr>\n",
       "    <tr>\n",
       "      <th>47298</th>\n",
       "      <td>51053</td>\n",
       "      <td>2000-2010</td>\n",
       "      <td>VA</td>\n",
       "      <td>Dinwiddie</td>\n",
       "      <td>Ages 65+ years</td>\n",
       "      <td>Black</td>\n",
       "      <td>Overall</td>\n",
       "      <td>-77.63220543</td>\n",
       "      <td>37.0760146</td>\n",
       "      <td>-14</td>\n",
       "      <td>-39.8</td>\n",
       "      <td>14.8</td>\n",
       "    </tr>\n",
       "    <tr>\n",
       "      <th>47299</th>\n",
       "      <td>51053</td>\n",
       "      <td>2010-2019</td>\n",
       "      <td>VA</td>\n",
       "      <td>Dinwiddie</td>\n",
       "      <td>Ages 65+ years</td>\n",
       "      <td>Black</td>\n",
       "      <td>Overall</td>\n",
       "      <td>-77.63220543</td>\n",
       "      <td>37.0760146</td>\n",
       "      <td>-13</td>\n",
       "      <td>-34.6</td>\n",
       "      <td>20.1</td>\n",
       "    </tr>\n",
       "  </tbody>\n",
       "</table>\n",
       "<p>47300 rows × 12 columns</p>\n",
       "</div>"
      ],
      "text/plain": [
       "      locationid       year locationabbr locationdesc         age_group  \\\n",
       "0          01001  2000-2010           AL      Autauga  Ages 35-64 years   \n",
       "1          01001  2010-2019           AL      Autauga  Ages 35-64 years   \n",
       "2          01001  2000-2010           AL      Autauga  Ages 35-64 years   \n",
       "3          01001  2010-2019           AL      Autauga  Ages 35-64 years   \n",
       "4          01001  2000-2010           AL      Autauga  Ages 35-64 years   \n",
       "...          ...        ...          ...          ...               ...   \n",
       "47295      51053  2010-2019           VA    Dinwiddie  Ages 35-64 years   \n",
       "47296      51053  2000-2010           VA    Dinwiddie  Ages 35-64 years   \n",
       "47297      51053  2010-2019           VA    Dinwiddie  Ages 35-64 years   \n",
       "47298      51053  2000-2010           VA    Dinwiddie    Ages 65+ years   \n",
       "47299      51053  2010-2019           VA    Dinwiddie    Ages 65+ years   \n",
       "\n",
       "      race/ethnicityage_group      sex        x_long        y_lat data_value  \\\n",
       "0                       Black  Overall  -86.64295911  32.53530561       -7.5   \n",
       "1                       Black  Overall  -86.64295911  32.53530561        2.6   \n",
       "2                     Overall   Female  -86.64295911  32.53530561       17.1   \n",
       "3                     Overall   Female  -86.64295911  32.53530561        8.3   \n",
       "4                     Overall     Male  -86.64295911  32.53530561       19.7   \n",
       "...                       ...      ...           ...          ...        ...   \n",
       "47295                 Overall  Overall  -77.63220543   37.0760146       20.4   \n",
       "47296                   White  Overall  -77.63220543   37.0760146      -20.1   \n",
       "47297                   White  Overall  -77.63220543   37.0760146       32.6   \n",
       "47298                   Black  Overall  -77.63220543   37.0760146        -14   \n",
       "47299                   Black  Overall  -77.63220543   37.0760146        -13   \n",
       "\n",
       "      confidence_limit_low confidence_limit_high  \n",
       "0                    -37.7                  31.7  \n",
       "1                    -25.8                  31.2  \n",
       "2                    -19.8                  73.5  \n",
       "3                    -19.1                  62.1  \n",
       "4                    -10.2                    98  \n",
       "...                    ...                   ...  \n",
       "47295                 -9.6                  62.2  \n",
       "47296                -47.7                  50.3  \n",
       "47297                 -4.4                  99.1  \n",
       "47298                -39.8                  14.8  \n",
       "47299                -34.6                  20.1  \n",
       "\n",
       "[47300 rows x 12 columns]"
      ]
     },
     "execution_count": 14,
     "metadata": {},
     "output_type": "execute_result"
    }
   ],
   "source": [
    "total_percent_df = df[df['data_value_type'] == 'Total percent change'] \n",
    "total_percent_df = total_percent_df.drop(columns=['data_value_type', 'data_value_unit'])\n",
    "total_percent_df.reset_index(drop=True, inplace=True)\n",
    "total_percent_df"
   ]
  },
  {
   "cell_type": "code",
   "execution_count": null,
   "metadata": {},
   "outputs": [
    {
     "data": {
      "text/html": [
       "<div>\n",
       "<style scoped>\n",
       "    .dataframe tbody tr th:only-of-type {\n",
       "        vertical-align: middle;\n",
       "    }\n",
       "\n",
       "    .dataframe tbody tr th {\n",
       "        vertical-align: top;\n",
       "    }\n",
       "\n",
       "    .dataframe thead th {\n",
       "        text-align: right;\n",
       "    }\n",
       "</style>\n",
       "<table border=\"1\" class=\"dataframe\">\n",
       "  <thead>\n",
       "    <tr style=\"text-align: right;\">\n",
       "      <th></th>\n",
       "      <th>locationid</th>\n",
       "      <th>year</th>\n",
       "      <th>locationabbr</th>\n",
       "      <th>locationdesc</th>\n",
       "      <th>age_group</th>\n",
       "      <th>race/ethnicityage_group</th>\n",
       "      <th>sex</th>\n",
       "      <th>x_long</th>\n",
       "      <th>y_lat</th>\n",
       "      <th>data_value</th>\n",
       "      <th>confidence_limit_low</th>\n",
       "      <th>confidence_limit_high</th>\n",
       "    </tr>\n",
       "  </thead>\n",
       "  <tbody>\n",
       "    <tr>\n",
       "      <th>0</th>\n",
       "      <td>01001</td>\n",
       "      <td>2000</td>\n",
       "      <td>AL</td>\n",
       "      <td>Autauga</td>\n",
       "      <td>Ages 35-64 years</td>\n",
       "      <td>Black</td>\n",
       "      <td>Overall</td>\n",
       "      <td>-86.64295911</td>\n",
       "      <td>32.53530561</td>\n",
       "      <td>76.9</td>\n",
       "      <td>61.5</td>\n",
       "      <td>99.6</td>\n",
       "    </tr>\n",
       "    <tr>\n",
       "      <th>1</th>\n",
       "      <td>01001</td>\n",
       "      <td>2001</td>\n",
       "      <td>AL</td>\n",
       "      <td>Autauga</td>\n",
       "      <td>Ages 35-64 years</td>\n",
       "      <td>Black</td>\n",
       "      <td>Overall</td>\n",
       "      <td>-86.64295911</td>\n",
       "      <td>32.53530561</td>\n",
       "      <td>83.4</td>\n",
       "      <td>69</td>\n",
       "      <td>126.7</td>\n",
       "    </tr>\n",
       "    <tr>\n",
       "      <th>2</th>\n",
       "      <td>01001</td>\n",
       "      <td>2002</td>\n",
       "      <td>AL</td>\n",
       "      <td>Autauga</td>\n",
       "      <td>Ages 35-64 years</td>\n",
       "      <td>Black</td>\n",
       "      <td>Overall</td>\n",
       "      <td>-86.64295911</td>\n",
       "      <td>32.53530561</td>\n",
       "      <td>86.2</td>\n",
       "      <td>66.7</td>\n",
       "      <td>122.1</td>\n",
       "    </tr>\n",
       "    <tr>\n",
       "      <th>3</th>\n",
       "      <td>01001</td>\n",
       "      <td>2003</td>\n",
       "      <td>AL</td>\n",
       "      <td>Autauga</td>\n",
       "      <td>Ages 35-64 years</td>\n",
       "      <td>Black</td>\n",
       "      <td>Overall</td>\n",
       "      <td>-86.64295911</td>\n",
       "      <td>32.53530561</td>\n",
       "      <td>81.6</td>\n",
       "      <td>58.5</td>\n",
       "      <td>117</td>\n",
       "    </tr>\n",
       "    <tr>\n",
       "      <th>4</th>\n",
       "      <td>01001</td>\n",
       "      <td>2004</td>\n",
       "      <td>AL</td>\n",
       "      <td>Autauga</td>\n",
       "      <td>Ages 35-64 years</td>\n",
       "      <td>Black</td>\n",
       "      <td>Overall</td>\n",
       "      <td>-86.64295911</td>\n",
       "      <td>32.53530561</td>\n",
       "      <td>84.7</td>\n",
       "      <td>63.7</td>\n",
       "      <td>114.6</td>\n",
       "    </tr>\n",
       "    <tr>\n",
       "      <th>...</th>\n",
       "      <td>...</td>\n",
       "      <td>...</td>\n",
       "      <td>...</td>\n",
       "      <td>...</td>\n",
       "      <td>...</td>\n",
       "      <td>...</td>\n",
       "      <td>...</td>\n",
       "      <td>...</td>\n",
       "      <td>...</td>\n",
       "      <td>...</td>\n",
       "      <td>...</td>\n",
       "      <td>...</td>\n",
       "    </tr>\n",
       "    <tr>\n",
       "      <th>472677</th>\n",
       "      <td>51053</td>\n",
       "      <td>2017</td>\n",
       "      <td>VA</td>\n",
       "      <td>Dinwiddie</td>\n",
       "      <td>Ages 65+ years</td>\n",
       "      <td>Black</td>\n",
       "      <td>Overall</td>\n",
       "      <td>-77.63220543</td>\n",
       "      <td>37.0760146</td>\n",
       "      <td>338.8</td>\n",
       "      <td>286</td>\n",
       "      <td>402.8</td>\n",
       "    </tr>\n",
       "    <tr>\n",
       "      <th>472678</th>\n",
       "      <td>51053</td>\n",
       "      <td>2018</td>\n",
       "      <td>VA</td>\n",
       "      <td>Dinwiddie</td>\n",
       "      <td>Ages 65+ years</td>\n",
       "      <td>Black</td>\n",
       "      <td>Overall</td>\n",
       "      <td>-77.63220543</td>\n",
       "      <td>37.0760146</td>\n",
       "      <td>321.9</td>\n",
       "      <td>261.5</td>\n",
       "      <td>415.1</td>\n",
       "    </tr>\n",
       "    <tr>\n",
       "      <th>472679</th>\n",
       "      <td>51053</td>\n",
       "      <td>2019</td>\n",
       "      <td>VA</td>\n",
       "      <td>Dinwiddie</td>\n",
       "      <td>Ages 65+ years</td>\n",
       "      <td>Black</td>\n",
       "      <td>Overall</td>\n",
       "      <td>-77.63220543</td>\n",
       "      <td>37.0760146</td>\n",
       "      <td>334.5</td>\n",
       "      <td>272.5</td>\n",
       "      <td>459.4</td>\n",
       "    </tr>\n",
       "    <tr>\n",
       "      <th>472680</th>\n",
       "      <td>51053</td>\n",
       "      <td>2000</td>\n",
       "      <td>VA</td>\n",
       "      <td>Dinwiddie</td>\n",
       "      <td>Ages 65+ years</td>\n",
       "      <td>Overall</td>\n",
       "      <td>Female</td>\n",
       "      <td>-77.63220543</td>\n",
       "      <td>37.0760146</td>\n",
       "      <td>433.1</td>\n",
       "      <td>342.3</td>\n",
       "      <td>525.8</td>\n",
       "    </tr>\n",
       "    <tr>\n",
       "      <th>472681</th>\n",
       "      <td>51053</td>\n",
       "      <td>2001</td>\n",
       "      <td>VA</td>\n",
       "      <td>Dinwiddie</td>\n",
       "      <td>Ages 65+ years</td>\n",
       "      <td>Overall</td>\n",
       "      <td>Female</td>\n",
       "      <td>-77.63220543</td>\n",
       "      <td>37.0760146</td>\n",
       "      <td>453</td>\n",
       "      <td>347.3</td>\n",
       "      <td>557.2</td>\n",
       "    </tr>\n",
       "  </tbody>\n",
       "</table>\n",
       "<p>472682 rows × 12 columns</p>\n",
       "</div>"
      ],
      "text/plain": [
       "       locationid  year locationabbr locationdesc         age_group  \\\n",
       "0           01001  2000           AL      Autauga  Ages 35-64 years   \n",
       "1           01001  2001           AL      Autauga  Ages 35-64 years   \n",
       "2           01001  2002           AL      Autauga  Ages 35-64 years   \n",
       "3           01001  2003           AL      Autauga  Ages 35-64 years   \n",
       "4           01001  2004           AL      Autauga  Ages 35-64 years   \n",
       "...           ...   ...          ...          ...               ...   \n",
       "472677      51053  2017           VA    Dinwiddie    Ages 65+ years   \n",
       "472678      51053  2018           VA    Dinwiddie    Ages 65+ years   \n",
       "472679      51053  2019           VA    Dinwiddie    Ages 65+ years   \n",
       "472680      51053  2000           VA    Dinwiddie    Ages 65+ years   \n",
       "472681      51053  2001           VA    Dinwiddie    Ages 65+ years   \n",
       "\n",
       "       race/ethnicityage_group      sex        x_long        y_lat data_value  \\\n",
       "0                        Black  Overall  -86.64295911  32.53530561       76.9   \n",
       "1                        Black  Overall  -86.64295911  32.53530561       83.4   \n",
       "2                        Black  Overall  -86.64295911  32.53530561       86.2   \n",
       "3                        Black  Overall  -86.64295911  32.53530561       81.6   \n",
       "4                        Black  Overall  -86.64295911  32.53530561       84.7   \n",
       "...                        ...      ...           ...          ...        ...   \n",
       "472677                   Black  Overall  -77.63220543   37.0760146      338.8   \n",
       "472678                   Black  Overall  -77.63220543   37.0760146      321.9   \n",
       "472679                   Black  Overall  -77.63220543   37.0760146      334.5   \n",
       "472680                 Overall   Female  -77.63220543   37.0760146      433.1   \n",
       "472681                 Overall   Female  -77.63220543   37.0760146        453   \n",
       "\n",
       "       confidence_limit_low confidence_limit_high  \n",
       "0                      61.5                  99.6  \n",
       "1                        69                 126.7  \n",
       "2                      66.7                 122.1  \n",
       "3                      58.5                   117  \n",
       "4                      63.7                 114.6  \n",
       "...                     ...                   ...  \n",
       "472677                  286                 402.8  \n",
       "472678                261.5                 415.1  \n",
       "472679                272.5                 459.4  \n",
       "472680                342.3                 525.8  \n",
       "472681                347.3                 557.2  \n",
       "\n",
       "[472682 rows x 12 columns]"
      ]
     },
     "execution_count": 15,
     "metadata": {},
     "output_type": "execute_result"
    }
   ],
   "source": [
    "smoothed_rate_df = df[df['data_value_type'] == 'Age-Standardized, Spatiotemporally Smoothed Rate']\n",
    "smoothed_rate_df = smoothed_rate_df.drop(columns=['data_value_type', 'data_value_unit'])\n",
    "smoothed_rate_df.reset_index(drop=True, inplace=True)\n",
    "smoothed_rate_df"
   ]
  },
  {
   "cell_type": "code",
   "execution_count": null,
   "metadata": {},
   "outputs": [],
   "source": [
    "total_percent_df.to_csv('Data/total_percent_df.csv', index=False)\n",
    "smoothed_rate_df.to_csv('Data/smoothed_rate_df.csv', index=False)"
   ]
  }
 ],
 "metadata": {
  "kernelspec": {
   "display_name": "base",
   "language": "python",
   "name": "python3"
  },
  "language_info": {
   "codemirror_mode": {
    "name": "ipython",
    "version": 3
   },
   "file_extension": ".py",
   "mimetype": "text/x-python",
   "name": "python",
   "nbconvert_exporter": "python",
   "pygments_lexer": "ipython3",
   "version": "3.10.8"
  }
 },
 "nbformat": 4,
 "nbformat_minor": 2
}
